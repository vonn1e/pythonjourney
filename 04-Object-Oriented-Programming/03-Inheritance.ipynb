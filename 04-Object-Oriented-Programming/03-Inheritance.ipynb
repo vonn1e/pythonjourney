{
 "cells": [
  {
   "cell_type": "markdown",
   "id": "a18c7d0b",
   "metadata": {},
   "source": [
    "# Inheritance\n",
    "## Creating New Classes from existing Classes\n",
    "\n",
    "Interitance lets us reuse code, reduce code complexity and make our code more readible!\n",
    "\n",
    "## In this lesson you will learn\n",
    "1. How Inheritance Works in Python"
   ]
  },
  {
   "cell_type": "code",
   "execution_count": 2,
   "id": "b317d916",
   "metadata": {},
   "outputs": [],
   "source": [
    "class Person():\n",
    "    \n",
    "    def __init__(self):\n",
    "        print(\"Person created\")"
   ]
  },
  {
   "cell_type": "code",
   "execution_count": 4,
   "id": "4a1bf10b",
   "metadata": {},
   "outputs": [
    {
     "name": "stdout",
     "output_type": "stream",
     "text": [
      "Person created\n"
     ]
    }
   ],
   "source": [
    "# So when we create an object of class Person __init__ is autocalled\n",
    "# so we see \"Person created\" printed out\n",
    "man = Person()"
   ]
  },
  {
   "cell_type": "code",
   "execution_count": 6,
   "id": "075f3fe0",
   "metadata": {},
   "outputs": [],
   "source": [
    "class Person():\n",
    "    \n",
    "    def __init__(self):\n",
    "        print(\"Person created\")\n",
    "        \n",
    "    def sing(self):\n",
    "        print(\"I am singing\")"
   ]
  },
  {
   "cell_type": "code",
   "execution_count": 7,
   "id": "86af3e47",
   "metadata": {},
   "outputs": [
    {
     "name": "stdout",
     "output_type": "stream",
     "text": [
      "Person created\n",
      "I am singing\n"
     ]
    }
   ],
   "source": [
    "man = Person()\n",
    "man.sing()"
   ]
  },
  {
   "cell_type": "code",
   "execution_count": 8,
   "id": "549a6503",
   "metadata": {},
   "outputs": [],
   "source": [
    "class Kid(Person): # Kid inherits Person\n",
    "    \n",
    "    def __init__(self):\n",
    "        Person.__init__(self) # Create an instance of the Person class when I create an instance of Kid\n",
    "        print(\"Kid created\")"
   ]
  },
  {
   "cell_type": "code",
   "execution_count": 9,
   "id": "eeeebe3a",
   "metadata": {},
   "outputs": [
    {
     "name": "stdout",
     "output_type": "stream",
     "text": [
      "Person created\n",
      "Kid created\n"
     ]
    }
   ],
   "source": [
    "boy = Kid()"
   ]
  },
  {
   "cell_type": "code",
   "execution_count": 11,
   "id": "e827c0c9",
   "metadata": {},
   "outputs": [
    {
     "name": "stdout",
     "output_type": "stream",
     "text": [
      "I am singing\n"
     ]
    }
   ],
   "source": [
    "# I can use sing(), I can reuse this method without having to redefine it\n",
    "# This is inheritance in action\n",
    "boy.sing()"
   ]
  },
  {
   "cell_type": "code",
   "execution_count": 12,
   "id": "69fe855b",
   "metadata": {},
   "outputs": [],
   "source": [
    "# You can also override methods\n",
    "class Kid(Person): # Kid inherits Person\n",
    "    \n",
    "    def __init__(self):\n",
    "        Person.__init__(self) # Create an instance of the Person class when I create an instance of Kid\n",
    "        print(\"Kid created\")\n",
    "        \n",
    "    def sing(self):\n",
    "        print(\"I wish I could sing...\")"
   ]
  },
  {
   "cell_type": "code",
   "execution_count": 13,
   "id": "1b265c7a",
   "metadata": {},
   "outputs": [
    {
     "name": "stdout",
     "output_type": "stream",
     "text": [
      "Person created\n",
      "Kid created\n"
     ]
    }
   ],
   "source": [
    "boy = Kid()"
   ]
  },
  {
   "cell_type": "code",
   "execution_count": 15,
   "id": "d37de29a",
   "metadata": {},
   "outputs": [
    {
     "name": "stdout",
     "output_type": "stream",
     "text": [
      "I wish I could sing...\n"
     ]
    }
   ],
   "source": [
    "# and just like that we overrode the sing method which belonged to the Person class\n",
    "boy.sing()"
   ]
  },
  {
   "cell_type": "code",
   "execution_count": 16,
   "id": "fea6da1c",
   "metadata": {},
   "outputs": [],
   "source": [
    "# You can also override methods\n",
    "class Kid(Person): # Kid inherits Person\n",
    "    \n",
    "    def __init__(self):\n",
    "        Person.__init__(self) \n",
    "        print(\"Kid created\")\n",
    "        \n",
    "    def sing(self):\n",
    "        print(\"I wish I could sing...\")\n",
    "        \n",
    "    def clap(self): # Create a new method that only belongs to the Kid class\n",
    "        print(\"Yay! I'm clapping!\")"
   ]
  },
  {
   "cell_type": "code",
   "execution_count": 17,
   "id": "d03039a3",
   "metadata": {},
   "outputs": [
    {
     "name": "stdout",
     "output_type": "stream",
     "text": [
      "Person created\n",
      "Kid created\n"
     ]
    }
   ],
   "source": [
    "boy = Kid()"
   ]
  },
  {
   "cell_type": "code",
   "execution_count": 18,
   "id": "9af2d8a9",
   "metadata": {},
   "outputs": [
    {
     "name": "stdout",
     "output_type": "stream",
     "text": [
      "Yay! I'm clapping!\n"
     ]
    }
   ],
   "source": [
    "boy.clap()"
   ]
  },
  {
   "cell_type": "code",
   "execution_count": 19,
   "id": "23f36b92",
   "metadata": {},
   "outputs": [
    {
     "name": "stdout",
     "output_type": "stream",
     "text": [
      "I wish I could sing...\n"
     ]
    }
   ],
   "source": [
    "boy.sing()"
   ]
  },
  {
   "cell_type": "code",
   "execution_count": 22,
   "id": "11eced55",
   "metadata": {},
   "outputs": [
    {
     "data": {
      "text/plain": [
       "__main__.Person"
      ]
     },
     "execution_count": 22,
     "metadata": {},
     "output_type": "execute_result"
    }
   ],
   "source": [
    "# This doesn't work for man because man is in the Person class\n",
    "# and Person doesn't have a sing method! Only the Kid class has that\n",
    "type(man)"
   ]
  },
  {
   "cell_type": "code",
   "execution_count": 21,
   "id": "b52f0cbe",
   "metadata": {},
   "outputs": [
    {
     "data": {
      "text/plain": [
       "__main__.Kid"
      ]
     },
     "execution_count": 21,
     "metadata": {},
     "output_type": "execute_result"
    }
   ],
   "source": [
    "type(boy)"
   ]
  },
  {
   "cell_type": "markdown",
   "id": "680c7542",
   "metadata": {},
   "source": [
    "Sweet! And those are inheritance basics!  In the next lecture we'll investigate polymorphism!"
   ]
  }
 ],
 "metadata": {
  "kernelspec": {
   "display_name": "Python 3 (ipykernel)",
   "language": "python",
   "name": "python3"
  },
  "language_info": {
   "codemirror_mode": {
    "name": "ipython",
    "version": 3
   },
   "file_extension": ".py",
   "mimetype": "text/x-python",
   "name": "python",
   "nbconvert_exporter": "python",
   "pygments_lexer": "ipython3",
   "version": "3.9.7"
  }
 },
 "nbformat": 4,
 "nbformat_minor": 5
}
