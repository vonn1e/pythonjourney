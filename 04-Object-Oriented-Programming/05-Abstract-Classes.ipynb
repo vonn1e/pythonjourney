{
 "cells": [
  {
   "cell_type": "markdown",
   "id": "04525c2a",
   "metadata": {},
   "source": [
    "# Abstract Classes\n",
    "## Classes with no objects?\n",
    "\n",
    "Yup, that's an Abstract Class for ya.  An Abstract Class has one purpose in life: just be a base class and never get instantiated.  \n",
    "\n",
    "#\n",
    "\n"
   ]
  },
  {
   "cell_type": "code",
   "execution_count": 1,
   "id": "a6ad2a1d",
   "metadata": {},
   "outputs": [],
   "source": [
    "class Animal():\n",
    "# Since we never want to make an instance of this Animal class\n",
    "# we can make it an Abstract Class.  It's sole purpose in life\n",
    "# is just to be a base class and yell \"Fire!\" if someone\n",
    "# tries to instantiate it\n",
    "    \n",
    "    def __init__(self,name):\n",
    "        self.name = name\n",
    "        \n",
    "    def talk(self):\n",
    "        raise NotImplementedError(\"Subclass must implement this abstract method\")"
   ]
  },
  {
   "cell_type": "code",
   "execution_count": 14,
   "id": "78fcacb6",
   "metadata": {},
   "outputs": [],
   "source": [
    "# Let's do something forbidden.  \n",
    "# We'll create an object from the Abstract class...\n",
    "eeyore = Animal('Eeyore')"
   ]
  },
  {
   "cell_type": "code",
   "execution_count": 15,
   "id": "0bcc38db",
   "metadata": {},
   "outputs": [
    {
     "ename": "NotImplementedError",
     "evalue": "Subclass must implement this abstract method",
     "output_type": "error",
     "traceback": [
      "\u001b[1;31m---------------------------------------------------------------------------\u001b[0m",
      "\u001b[1;31mNotImplementedError\u001b[0m                       Traceback (most recent call last)",
      "\u001b[1;32m~\\AppData\\Local\\Temp/ipykernel_2460/2948128269.py\u001b[0m in \u001b[0;36m<module>\u001b[1;34m\u001b[0m\n\u001b[0;32m      1\u001b[0m \u001b[1;31m# And then try to call a method from this instantiated object...\u001b[0m\u001b[1;33m\u001b[0m\u001b[1;33m\u001b[0m\u001b[0m\n\u001b[1;32m----> 2\u001b[1;33m \u001b[0meeyore\u001b[0m\u001b[1;33m.\u001b[0m\u001b[0mtalk\u001b[0m\u001b[1;33m(\u001b[0m\u001b[1;33m)\u001b[0m\u001b[1;33m\u001b[0m\u001b[1;33m\u001b[0m\u001b[0m\n\u001b[0m",
      "\u001b[1;32m~\\AppData\\Local\\Temp/ipykernel_2460/3144514335.py\u001b[0m in \u001b[0;36mtalk\u001b[1;34m(self)\u001b[0m\n\u001b[0;32m      9\u001b[0m \u001b[1;33m\u001b[0m\u001b[0m\n\u001b[0;32m     10\u001b[0m     \u001b[1;32mdef\u001b[0m \u001b[0mtalk\u001b[0m\u001b[1;33m(\u001b[0m\u001b[0mself\u001b[0m\u001b[1;33m)\u001b[0m\u001b[1;33m:\u001b[0m\u001b[1;33m\u001b[0m\u001b[1;33m\u001b[0m\u001b[0m\n\u001b[1;32m---> 11\u001b[1;33m         \u001b[1;32mraise\u001b[0m \u001b[0mNotImplementedError\u001b[0m\u001b[1;33m(\u001b[0m\u001b[1;34m\"Subclass must implement this abstract method\"\u001b[0m\u001b[1;33m)\u001b[0m\u001b[1;33m\u001b[0m\u001b[1;33m\u001b[0m\u001b[0m\n\u001b[0m",
      "\u001b[1;31mNotImplementedError\u001b[0m: Subclass must implement this abstract method"
     ]
    }
   ],
   "source": [
    "# And then try to call a method from this instantiated object...\n",
    "eeyore.talk()"
   ]
  },
  {
   "cell_type": "code",
   "execution_count": 7,
   "id": "49e9235c",
   "metadata": {},
   "outputs": [],
   "source": [
    "# Nope! We need to override the Speak method in a different class \n",
    "class Donkey(Animal): # We got some inheritance going on here right?\n",
    "    \n",
    "    def talk(self):\n",
    "        return self.name + \" says hee haw!\" "
   ]
  },
  {
   "cell_type": "code",
   "execution_count": 8,
   "id": "6eb9f54c",
   "metadata": {},
   "outputs": [],
   "source": [
    "class Mouse(Animal): # Let's derive another Class from our Abstract Class\n",
    "    \n",
    "    def talk(self):\n",
    "        return self.name + \" says eek eek!\""
   ]
  },
  {
   "cell_type": "code",
   "execution_count": 13,
   "id": "46355833",
   "metadata": {},
   "outputs": [],
   "source": [
    "# We are also using Polymorphism here \n",
    "# since we are using the same method\n",
    "# name across different classes\n",
    "# let's create objects for each animal\n",
    "eeyore = Donkey('Eeyore')\n",
    "brisby = Mouse('Brisby')"
   ]
  },
  {
   "cell_type": "code",
   "execution_count": 10,
   "id": "83839832",
   "metadata": {},
   "outputs": [
    {
     "data": {
      "text/plain": [
       "'Eeyore says hee haw!'"
      ]
     },
     "execution_count": 10,
     "metadata": {},
     "output_type": "execute_result"
    }
   ],
   "source": [
    "eeyore.talk()"
   ]
  },
  {
   "cell_type": "code",
   "execution_count": 11,
   "id": "afe93576",
   "metadata": {},
   "outputs": [
    {
     "data": {
      "text/plain": [
       "'Brisby says eek eek!'"
      ]
     },
     "execution_count": 11,
     "metadata": {},
     "output_type": "execute_result"
    }
   ],
   "source": [
    "brisby.talk()"
   ]
  },
  {
   "cell_type": "markdown",
   "id": "dc4bb93b",
   "metadata": {},
   "source": [
    "Yes! That's all we have in this short lesson, in the next one we will dig into magic methods! "
   ]
  }
 ],
 "metadata": {
  "kernelspec": {
   "display_name": "Python 3 (ipykernel)",
   "language": "python",
   "name": "python3"
  },
  "language_info": {
   "codemirror_mode": {
    "name": "ipython",
    "version": 3
   },
   "file_extension": ".py",
   "mimetype": "text/x-python",
   "name": "python",
   "nbconvert_exporter": "python",
   "pygments_lexer": "ipython3",
   "version": "3.9.7"
  }
 },
 "nbformat": 4,
 "nbformat_minor": 5
}
