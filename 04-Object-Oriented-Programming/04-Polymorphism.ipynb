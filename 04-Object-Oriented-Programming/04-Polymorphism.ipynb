{
 "cells": [
  {
   "cell_type": "markdown",
   "id": "0f9e5e93",
   "metadata": {},
   "source": [
    "# Polymorphism\n",
    "## Different Classes with same Method Names\n",
    "\n",
    "This word sounds crazy... I know but it's not that hard to understand when you think about how Python is using it.\n",
    "\n",
    "Polymorphism is when you have different Classes have the same method name. You would do this so you can call those methods from the same place passing in different objects - it's like the method magically \"morphs\" to know which method to call based on the arguments passed to the method\n",
    "\n",
    "So what's a use case for this? \n",
    "\n",
    "Well, you may want to build a method called open() to open files right? But there are JPEG files, CSV files, PDF files... there's so many right? \n",
    "\n",
    "You could create a base class for opening files and then inherit the base from a derived Class for JPEGs and then another derived Class for CSV files and another one for PDF files... all sharing the same method name open() but each Class will return its own unique object based on the file type open request.\n",
    "\n",
    "Alright, let's just dive in so you can see how this stuff works!\n",
    "\n",
    "## In this lesson you will learn\n",
    "1. How to use Polymorphism!"
   ]
  },
  {
   "cell_type": "code",
   "execution_count": 4,
   "id": "a09a8482",
   "metadata": {},
   "outputs": [
    {
     "data": {
      "text/plain": [
       "list"
      ]
     },
     "execution_count": 4,
     "metadata": {},
     "output_type": "execute_result"
    }
   ],
   "source": [
    "# Here's a quick and common example of Polymorphism\n",
    "nums = [1,2,3,4,5,6,7,8,9]\n",
    "type(nums)"
   ]
  },
  {
   "cell_type": "code",
   "execution_count": 3,
   "id": "8d628a18",
   "metadata": {},
   "outputs": [
    {
     "data": {
      "text/plain": [
       "9"
      ]
     },
     "execution_count": 3,
     "metadata": {},
     "output_type": "execute_result"
    }
   ],
   "source": [
    "len(nums)"
   ]
  },
  {
   "cell_type": "code",
   "execution_count": 5,
   "id": "809c0572",
   "metadata": {},
   "outputs": [],
   "source": [
    "foo = \"Some random text that's not a string\""
   ]
  },
  {
   "cell_type": "code",
   "execution_count": 6,
   "id": "9e06edbd",
   "metadata": {},
   "outputs": [
    {
     "data": {
      "text/plain": [
       "36"
      ]
     },
     "execution_count": 6,
     "metadata": {},
     "output_type": "execute_result"
    }
   ],
   "source": [
    "len(foo)"
   ]
  },
  {
   "cell_type": "code",
   "execution_count": 34,
   "id": "4e1bef91",
   "metadata": {},
   "outputs": [],
   "source": [
    "# So you see we passed a list to the len() function \n",
    "# and it knew how to count the items in a list data type...\n",
    "# and then we pass a string to the len() function\n",
    "# it also knew how to count the characters in the string\n",
    "# THAT MY FRIEND - is POLYMORPHISM\n",
    "# lets see how this works with Classes\n",
    "class Bird():\n",
    "    \n",
    "    def __init__(self,name):\n",
    "        self.name = name\n",
    "        \n",
    "    def talk(self):\n",
    "        return self.name + \" says \\\"how you doin!??\\\"\""
   ]
  },
  {
   "cell_type": "code",
   "execution_count": 35,
   "id": "e2787e7f",
   "metadata": {},
   "outputs": [],
   "source": [
    "# Now lets create a similar class but for a different animal\n",
    "# In real life, this different class could have hundreds of different\n",
    "# methods than Bird()\n",
    "class Lion():\n",
    "    \n",
    "    def __init__(self,name):\n",
    "        self.name = name\n",
    "        \n",
    "    def talk(self):\n",
    "        return self.name + \" says \\\"ROAR!!\\\"\""
   ]
  },
  {
   "cell_type": "code",
   "execution_count": 36,
   "id": "a3755c8d",
   "metadata": {},
   "outputs": [],
   "source": [
    "# Let's create an object of each Class\n",
    "polly = Bird(\"Polly\")\n",
    "aslan = Lion(\"Aslan\")"
   ]
  },
  {
   "cell_type": "code",
   "execution_count": 26,
   "id": "0ad80a4d",
   "metadata": {},
   "outputs": [
    {
     "data": {
      "text/plain": [
       "'Polly says \"how you doin!??\"'"
      ]
     },
     "execution_count": 26,
     "metadata": {},
     "output_type": "execute_result"
    }
   ],
   "source": [
    "polly.talk()"
   ]
  },
  {
   "cell_type": "code",
   "execution_count": 27,
   "id": "22dd16d3",
   "metadata": {},
   "outputs": [
    {
     "data": {
      "text/plain": [
       "'Aslan says \"ROAR!!\"'"
      ]
     },
     "execution_count": 27,
     "metadata": {},
     "output_type": "execute_result"
    }
   ],
   "source": [
    "aslan.talk()"
   ]
  },
  {
   "cell_type": "code",
   "execution_count": 29,
   "id": "efb555d9",
   "metadata": {},
   "outputs": [],
   "source": [
    "# Lets show polymorphism \n",
    "# force_talk doesn't know whether you are going to pass in\n",
    "# a Bird or a Lion.. we have two completely different classes\n",
    "# that could have thousands of different methods...\n",
    "# But since they share the same method name talk()\n",
    "# we can get object specific reuslts from a single\n",
    "# method call\n",
    "\n",
    "def force_talk(animal):\n",
    "    print(animal.talk())"
   ]
  },
  {
   "cell_type": "code",
   "execution_count": 32,
   "id": "45231e37",
   "metadata": {},
   "outputs": [
    {
     "name": "stdout",
     "output_type": "stream",
     "text": [
      "Polly says \"how you doin!??\"\n"
     ]
    }
   ],
   "source": [
    "force_talk(polly)"
   ]
  },
  {
   "cell_type": "code",
   "execution_count": 33,
   "id": "31a366c8",
   "metadata": {},
   "outputs": [
    {
     "name": "stdout",
     "output_type": "stream",
     "text": [
      "Aslan says \"ROAR!!\"\n"
     ]
    }
   ],
   "source": [
    "force_talk(aslan)"
   ]
  },
  {
   "cell_type": "markdown",
   "id": "e131fa8f",
   "metadata": {},
   "source": [
    "In the next lecture we're going to dig into Abstract Classes (which is the net logical step from Polymorphism).  Remember, Polymorphism is just when you have the same method name in multiple classes so you can call one method name without worrying which Class is doing the relevant work!\n",
    "\n",
    "I'll see you guys in the next lecture! "
   ]
  }
 ],
 "metadata": {
  "kernelspec": {
   "display_name": "Python 3 (ipykernel)",
   "language": "python",
   "name": "python3"
  },
  "language_info": {
   "codemirror_mode": {
    "name": "ipython",
    "version": 3
   },
   "file_extension": ".py",
   "mimetype": "text/x-python",
   "name": "python",
   "nbconvert_exporter": "python",
   "pygments_lexer": "ipython3",
   "version": "3.9.7"
  }
 },
 "nbformat": 4,
 "nbformat_minor": 5
}
