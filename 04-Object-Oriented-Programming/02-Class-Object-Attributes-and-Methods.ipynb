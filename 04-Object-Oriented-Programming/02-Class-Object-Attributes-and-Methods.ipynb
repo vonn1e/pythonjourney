{
 "cells": [
  {
   "cell_type": "markdown",
   "id": "ed0c2a4a",
   "metadata": {},
   "source": [
    "# Class Object Attributes + Methods\n",
    "## Objects aren't the only ones with characteristics!\n",
    "Ay, so today I want to dig into a fun topic:\n",
    "Class Object Attributes and Methods.\n",
    "\n",
    "You may recall from the last lecture that a method is just a function in a class but I want to explore this concept more richly in this lecture.\n",
    "\n",
    "We're also going to learn about about Class Object Attributes.\n",
    "You can uses these when you want the class to retain an attribute regardless \n",
    "of the object instantiated.\n",
    "\n",
    "Sounds like mumbo jumbo I know... but it won't at the end of this lecture!\n",
    "Let's go!\n",
    "\n",
    "## In this lesson you will learn:\n",
    "1. What are Class object attributes\n",
    "2. What are Class methods\n"
   ]
  },
  {
   "cell_type": "code",
   "execution_count": 8,
   "id": "89338a13",
   "metadata": {},
   "outputs": [],
   "source": [
    "class Car():\n",
    "    \n",
    "    vehicle = 'automobile' # Define an attribute at the Class object level so\n",
    "                           # it's the same for any Class instance\n",
    "    \n",
    "    def __init__(self,color,top_speed,performance_package):\n",
    "        \n",
    "        self.color = color\n",
    "        self.top_speed = top_speed\n",
    "        self.performance_package = performance_package"
   ]
  },
  {
   "cell_type": "code",
   "execution_count": 9,
   "id": "cbcc60ab",
   "metadata": {},
   "outputs": [],
   "source": [
    "toyota_supra = Car(color='White',top_speed=154,performance_package=True)"
   ]
  },
  {
   "cell_type": "code",
   "execution_count": 10,
   "id": "163531ae",
   "metadata": {},
   "outputs": [
    {
     "data": {
      "text/plain": [
       "'automobile'"
      ]
     },
     "execution_count": 10,
     "metadata": {},
     "output_type": "execute_result"
    }
   ],
   "source": [
    "# vehical is connected to the Class itself so it's available to any\n",
    "# user defined object.\n",
    "toyota_supra.vehicle"
   ]
  },
  {
   "cell_type": "markdown",
   "id": "0303909e",
   "metadata": {},
   "source": [
    "## Methods\n",
    "Functions inside of a Class that act on an object through the use of the `self` keyword.  Class functions that do stuff, they perform operations and define action for objects to take."
   ]
  },
  {
   "cell_type": "code",
   "execution_count": 11,
   "id": "7805827c",
   "metadata": {},
   "outputs": [],
   "source": [
    "class Car():\n",
    "    \n",
    "    vehicle = 'automobile'\n",
    "    \n",
    "    def __init__(self,color,top_speed):\n",
    "        \n",
    "        self.color = color\n",
    "        self.top_speed = top_speed\n",
    "    \n",
    "    def accelerate(self):\n",
    "        print(\"YESSSS!!!!\")"
   ]
  },
  {
   "cell_type": "code",
   "execution_count": 12,
   "id": "9ebc7f32",
   "metadata": {},
   "outputs": [],
   "source": [
    "toyota_supra = Car('Electric Blue',172)"
   ]
  },
  {
   "cell_type": "code",
   "execution_count": 13,
   "id": "7f0b1ae9",
   "metadata": {},
   "outputs": [
    {
     "data": {
      "text/plain": [
       "__main__.Car"
      ]
     },
     "execution_count": 13,
     "metadata": {},
     "output_type": "execute_result"
    }
   ],
   "source": [
    "type(toyota_supra)"
   ]
  },
  {
   "cell_type": "code",
   "execution_count": 14,
   "id": "05ae00f3",
   "metadata": {},
   "outputs": [
    {
     "data": {
      "text/plain": [
       "'automobile'"
      ]
     },
     "execution_count": 14,
     "metadata": {},
     "output_type": "execute_result"
    }
   ],
   "source": [
    "toyota_supra.vehicle"
   ]
  },
  {
   "cell_type": "code",
   "execution_count": 15,
   "id": "aa18ca61",
   "metadata": {},
   "outputs": [
    {
     "data": {
      "text/plain": [
       "172"
      ]
     },
     "execution_count": 15,
     "metadata": {},
     "output_type": "execute_result"
    }
   ],
   "source": [
    "toyota_supra.top_speed"
   ]
  },
  {
   "cell_type": "code",
   "execution_count": 16,
   "id": "a7751ccd",
   "metadata": {},
   "outputs": [
    {
     "data": {
      "text/plain": [
       "<bound method Car.accelerate of <__main__.Car object at 0x000001B7B8B4C460>>"
      ]
     },
     "execution_count": 16,
     "metadata": {},
     "output_type": "execute_result"
    }
   ],
   "source": [
    "# Methods need to be executed \n",
    "# so when we call these you need the open and closed parenthesis\n",
    "toyota_supra.accelerate"
   ]
  },
  {
   "cell_type": "code",
   "execution_count": 18,
   "id": "4f12b641",
   "metadata": {},
   "outputs": [
    {
     "name": "stdout",
     "output_type": "stream",
     "text": [
      "YESSSS!!!!\n"
     ]
    }
   ],
   "source": [
    "# like this!\n",
    "toyota_supra.accelerate()"
   ]
  },
  {
   "cell_type": "code",
   "execution_count": 26,
   "id": "354c87ef",
   "metadata": {},
   "outputs": [],
   "source": [
    "# We can even expand variables inside our methods \n",
    "# Check this out\n",
    "\n",
    "class Car():\n",
    "    \n",
    "    vehicle = 'automobile'\n",
    "    \n",
    "    def __init__(self,color,top_speed):\n",
    "        \n",
    "        self.color = color\n",
    "        self.top_speed = top_speed\n",
    "    \n",
    "    def accelerate(self):\n",
    "        print(f\"YESSSS!!! I have a top speed of {self.top_speed}MPH!\")"
   ]
  },
  {
   "cell_type": "code",
   "execution_count": 25,
   "id": "223d270d",
   "metadata": {},
   "outputs": [
    {
     "name": "stdout",
     "output_type": "stream",
     "text": [
      "YESSSS!!! I have a top speed of 172MPH!\n"
     ]
    }
   ],
   "source": [
    "toyota_supra = Car('Electric Blue',172)\n",
    "toyota_supra.accelerate()"
   ]
  },
  {
   "cell_type": "code",
   "execution_count": 27,
   "id": "bbd9c5a2",
   "metadata": {},
   "outputs": [],
   "source": [
    "\n",
    "class Car():\n",
    "    \n",
    "    vehicle = 'automobile'\n",
    "    \n",
    "    def __init__(self,color,top_speed):\n",
    "        \n",
    "        self.color = color\n",
    "        self.top_speed = top_speed\n",
    "    \n",
    "    def accelerate(self,name):\n",
    "        print(f\"YESSSS!!! I'm {name} have a top speed of {self.top_speed}MPH!\")"
   ]
  },
  {
   "cell_type": "code",
   "execution_count": 28,
   "id": "fef07ba9",
   "metadata": {},
   "outputs": [
    {
     "ename": "TypeError",
     "evalue": "accelerate() missing 1 required positional argument: 'name'",
     "output_type": "error",
     "traceback": [
      "\u001b[1;31m---------------------------------------------------------------------------\u001b[0m",
      "\u001b[1;31mTypeError\u001b[0m                                 Traceback (most recent call last)",
      "\u001b[1;32m~\\AppData\\Local\\Temp/ipykernel_2132/2159348877.py\u001b[0m in \u001b[0;36m<module>\u001b[1;34m\u001b[0m\n\u001b[0;32m      1\u001b[0m \u001b[0mtoyota_supra\u001b[0m \u001b[1;33m=\u001b[0m \u001b[0mCar\u001b[0m\u001b[1;33m(\u001b[0m\u001b[1;34m'Electric Blue'\u001b[0m\u001b[1;33m,\u001b[0m\u001b[1;36m172\u001b[0m\u001b[1;33m)\u001b[0m\u001b[1;33m\u001b[0m\u001b[1;33m\u001b[0m\u001b[0m\n\u001b[1;32m----> 2\u001b[1;33m \u001b[0mtoyota_supra\u001b[0m\u001b[1;33m.\u001b[0m\u001b[0maccelerate\u001b[0m\u001b[1;33m(\u001b[0m\u001b[1;33m)\u001b[0m\u001b[1;33m\u001b[0m\u001b[1;33m\u001b[0m\u001b[0m\n\u001b[0m",
      "\u001b[1;31mTypeError\u001b[0m: accelerate() missing 1 required positional argument: 'name'"
     ]
    }
   ],
   "source": [
    "toyota_supra = Car('Electric Blue',172)\n",
    "toyota_supra.accelerate()"
   ]
  },
  {
   "cell_type": "code",
   "execution_count": 31,
   "id": "a315fa03",
   "metadata": {},
   "outputs": [
    {
     "name": "stdout",
     "output_type": "stream",
     "text": [
      "YESSSS!!! I'm Vonnie have a top speed of 172MPH!\n"
     ]
    }
   ],
   "source": [
    "# Error! Because I need to include the name which is a new user provided \n",
    "# argument that's not connected to a specific instance of the class\n",
    "toyota_supra.accelerate(name='Vonnie')"
   ]
  },
  {
   "cell_type": "code",
   "execution_count": 32,
   "id": "bc207eac",
   "metadata": {},
   "outputs": [
    {
     "name": "stdout",
     "output_type": "stream",
     "text": [
      "YESSSS!!! I'm Vonnie have a top speed of 172MPH!\n"
     ]
    }
   ],
   "source": [
    "# I can also include it like this\n",
    "toyota_supra.accelerate('Vonnie')"
   ]
  },
  {
   "cell_type": "code",
   "execution_count": 34,
   "id": "ab2665fc",
   "metadata": {},
   "outputs": [],
   "source": [
    "# Let's explore this deeper by creating a class for a Circle\n",
    "class Circle():\n",
    "    \n",
    "    # Class Object Attributes are true for all class instances\n",
    "    PI = 3.14\n",
    "    \n",
    "    def __init__(self,radius=1): # We need a radius to define a circle right?\n",
    "        \n",
    "        self.radius = radius    # Set the object attribute radius to the value \n",
    "                                # of the radius argument passed into the Class\n",
    "        \n",
    "    def circumference(self):\n",
    "        return self.radius * self.PI * 2"
   ]
  },
  {
   "cell_type": "code",
   "execution_count": 37,
   "id": "174b27e5",
   "metadata": {},
   "outputs": [],
   "source": [
    "small_circle = Circle()"
   ]
  },
  {
   "cell_type": "code",
   "execution_count": 38,
   "id": "551e02d5",
   "metadata": {},
   "outputs": [
    {
     "data": {
      "text/plain": [
       "3.14"
      ]
     },
     "execution_count": 38,
     "metadata": {},
     "output_type": "execute_result"
    }
   ],
   "source": [
    "small_circle.PI"
   ]
  },
  {
   "cell_type": "code",
   "execution_count": 39,
   "id": "5a078c71",
   "metadata": {},
   "outputs": [
    {
     "data": {
      "text/plain": [
       "1"
      ]
     },
     "execution_count": 39,
     "metadata": {},
     "output_type": "execute_result"
    }
   ],
   "source": [
    "small_circle.radius"
   ]
  },
  {
   "cell_type": "code",
   "execution_count": 40,
   "id": "53c9bd62",
   "metadata": {},
   "outputs": [],
   "source": [
    "big_circle = Circle(radius=100)"
   ]
  },
  {
   "cell_type": "code",
   "execution_count": 41,
   "id": "165c181e",
   "metadata": {},
   "outputs": [
    {
     "data": {
      "text/plain": [
       "100"
      ]
     },
     "execution_count": 41,
     "metadata": {},
     "output_type": "execute_result"
    }
   ],
   "source": [
    "big_circle.radius"
   ]
  },
  {
   "cell_type": "code",
   "execution_count": 42,
   "id": "b4862d3e",
   "metadata": {},
   "outputs": [
    {
     "data": {
      "text/plain": [
       "628.0"
      ]
     },
     "execution_count": 42,
     "metadata": {},
     "output_type": "execute_result"
    }
   ],
   "source": [
    "big_circle.circumference()"
   ]
  },
  {
   "cell_type": "code",
   "execution_count": 44,
   "id": "bbdacd68",
   "metadata": {},
   "outputs": [],
   "source": [
    "class Circle():\n",
    "    \n",
    "    PI = 3.14\n",
    "    \n",
    "    def __init__(self,radius=1): \n",
    "        self.radius = radius \n",
    "        \n",
    "        # object attributes can be defined in term of arguments\n",
    "        self.area = radius * radius * self.PI\n",
    "        \n",
    "    def circumference(self):\n",
    "        return self.radius * self.PI * 2"
   ]
  },
  {
   "cell_type": "code",
   "execution_count": 45,
   "id": "f09ae45d",
   "metadata": {},
   "outputs": [],
   "source": [
    "class Circle():\n",
    "    \n",
    "    PI = 3.14\n",
    "    \n",
    "    def __init__(self,radius=1): \n",
    "        self.radius = radius \n",
    "        \n",
    "        # self.PI could be expressed as ClassName.class_object_attribute\n",
    "        # So Circle.PI also works and it is sometimes more clear\n",
    "        self.area = radius * radius * Circle.PI\n",
    "        \n",
    "    def circumference(self):\n",
    "        return self.radius * self.PI * 2"
   ]
  },
  {
   "cell_type": "markdown",
   "id": "204f5cd4",
   "metadata": {},
   "source": [
    "Yay! You've got Class Object Attributes and Methods in your back pocket now!\n",
    "In the next lecture we will dive into inheritance... and no sorry -\n",
    "it has nothing to do with the millions your imaginary Uncle bequeathed to you.\n",
    "Ha!  See you in a bit"
   ]
  }
 ],
 "metadata": {
  "kernelspec": {
   "display_name": "Python 3 (ipykernel)",
   "language": "python",
   "name": "python3"
  },
  "language_info": {
   "codemirror_mode": {
    "name": "ipython",
    "version": 3
   },
   "file_extension": ".py",
   "mimetype": "text/x-python",
   "name": "python",
   "nbconvert_exporter": "python",
   "pygments_lexer": "ipython3",
   "version": "3.9.7"
  }
 },
 "nbformat": 4,
 "nbformat_minor": 5
}
