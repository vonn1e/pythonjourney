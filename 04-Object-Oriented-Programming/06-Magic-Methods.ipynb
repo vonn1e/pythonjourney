{
 "cells": [
  {
   "cell_type": "markdown",
   "id": "b6afbc25",
   "metadata": {},
   "source": [
    "# Magic Methods\n",
    "## These are special methods that let us use built-in Python methods on our own user defined objects.\n",
    "\n",
    "I love magic methods because they can really help to make our code more usable.\n",
    "\n",
    "## In this lesson you will learn\n",
    "1. What are magic methods\n",
    "2. How to use `__len__`\n",
    "3. How to use `__str__`\n",
    "4. How to use `__del__`\n",
    "\n",
    "Let's go baby!"
   ]
  },
  {
   "cell_type": "code",
   "execution_count": 2,
   "id": "2bfcc3a1",
   "metadata": {},
   "outputs": [],
   "source": [
    "# Let's start off with my favorite thing to do: build a num list haha\n",
    "nums = [1,2,3,4,5,6,7,8,9]"
   ]
  },
  {
   "cell_type": "code",
   "execution_count": 3,
   "id": "8175bc02",
   "metadata": {},
   "outputs": [
    {
     "data": {
      "text/plain": [
       "9"
      ]
     },
     "execution_count": 3,
     "metadata": {},
     "output_type": "execute_result"
    }
   ],
   "source": [
    "# How would we get the length of all items in the list? len() right?\n",
    "len(nums)"
   ]
  },
  {
   "cell_type": "code",
   "execution_count": 8,
   "id": "d445e1ac",
   "metadata": {},
   "outputs": [
    {
     "name": "stdout",
     "output_type": "stream",
     "text": [
      "[1, 2, 3, 4, 5, 6, 7, 8, 9]\n"
     ]
    }
   ],
   "source": [
    "# And we can print out the items in that list - easy peezy lemon squeezy\n",
    "print(nums)"
   ]
  },
  {
   "cell_type": "code",
   "execution_count": 4,
   "id": "0ba789c3",
   "metadata": {},
   "outputs": [],
   "source": [
    "# How about the length of one of our own objects?\n",
    "class Example():\n",
    "    pass"
   ]
  },
  {
   "cell_type": "code",
   "execution_count": 5,
   "id": "b71a1253",
   "metadata": {},
   "outputs": [],
   "source": [
    "foo = Example()"
   ]
  },
  {
   "cell_type": "code",
   "execution_count": 7,
   "id": "9ebbdbc4",
   "metadata": {},
   "outputs": [
    {
     "ename": "TypeError",
     "evalue": "object of type 'Example' has no len()",
     "output_type": "error",
     "traceback": [
      "\u001b[1;31m---------------------------------------------------------------------------\u001b[0m",
      "\u001b[1;31mTypeError\u001b[0m                                 Traceback (most recent call last)",
      "\u001b[1;32m~\\AppData\\Local\\Temp/ipykernel_1140/1014925722.py\u001b[0m in \u001b[0;36m<module>\u001b[1;34m\u001b[0m\n\u001b[0;32m      1\u001b[0m \u001b[1;31m# We get an error when we try get the length of our user defined object\u001b[0m\u001b[1;33m\u001b[0m\u001b[1;33m\u001b[0m\u001b[0m\n\u001b[1;32m----> 2\u001b[1;33m \u001b[0mlen\u001b[0m\u001b[1;33m(\u001b[0m\u001b[0mfoo\u001b[0m\u001b[1;33m)\u001b[0m\u001b[1;33m\u001b[0m\u001b[1;33m\u001b[0m\u001b[0m\n\u001b[0m",
      "\u001b[1;31mTypeError\u001b[0m: object of type 'Example' has no len()"
     ]
    }
   ],
   "source": [
    "# We get an error when we try get the length of our user defined object\n",
    "len(foo)"
   ]
  },
  {
   "cell_type": "code",
   "execution_count": 9,
   "id": "bde3714e",
   "metadata": {},
   "outputs": [
    {
     "name": "stdout",
     "output_type": "stream",
     "text": [
      "<__main__.Example object at 0x00000299C3040100>\n"
     ]
    }
   ],
   "source": [
    "# And when we try to print it out... \n",
    "# We just get a useless memory location..\n",
    "# Boo...\n",
    "print(foo)"
   ]
  },
  {
   "cell_type": "markdown",
   "id": "0ca6bbf1",
   "metadata": {},
   "source": [
    "So how can we use a built in Python funciton such as len() on a object we defined and created ourselves? Enter the MAGIC METHOD\n",
    "\n",
    "## What are magic methods?"
   ]
  },
  {
   "cell_type": "code",
   "execution_count": 11,
   "id": "b3be23dc",
   "metadata": {},
   "outputs": [],
   "source": [
    "# These are also known as dunder method because they have \"double underscores\"\n",
    "# Let's create a book class so I can show you how this works\n",
    "class Book():\n",
    "    \n",
    "    def __init__(self,title,author,pages):\n",
    "        \n",
    "        self.title = title\n",
    "        self.author = author\n",
    "        self.pages = pages\n",
    "        "
   ]
  },
  {
   "cell_type": "code",
   "execution_count": 12,
   "id": "1a72fd79",
   "metadata": {},
   "outputs": [],
   "source": [
    "python_journey = Book('Python Journey','Vonnie',125)"
   ]
  },
  {
   "cell_type": "code",
   "execution_count": 14,
   "id": "1ed9c8a1",
   "metadata": {},
   "outputs": [
    {
     "name": "stdout",
     "output_type": "stream",
     "text": [
      "<__main__.Book object at 0x00000299C304F1C0>\n"
     ]
    }
   ],
   "source": [
    "# The problem is when we try to print it we just\n",
    "# get the string representation of python_journey\n",
    "print(python_journey)"
   ]
  },
  {
   "cell_type": "code",
   "execution_count": 21,
   "id": "5c059b88",
   "metadata": {},
   "outputs": [
    {
     "data": {
      "text/plain": [
       "'<__main__.Book object at 0x00000299C304F1C0>'"
      ]
     },
     "execution_count": 21,
     "metadata": {},
     "output_type": "execute_result"
    }
   ],
   "source": [
    "# We're just getting the string representation... \n",
    "# not cool\n",
    "str(python_journey)"
   ]
  },
  {
   "cell_type": "markdown",
   "id": "5465363a",
   "metadata": {},
   "source": [
    "## What is `__str__`?"
   ]
  },
  {
   "cell_type": "code",
   "execution_count": 25,
   "id": "9fc85bcb",
   "metadata": {},
   "outputs": [],
   "source": [
    "# So let's modify our class so if any functions ever \n",
    "# requests the string representation of Book objects\n",
    "# we can return something meaningful..\n",
    "# this is where __str__ comes in\n",
    "\n",
    "class Book():\n",
    "    \n",
    "    def __init__(self,title,author,pages):\n",
    "        \n",
    "        self.title = title\n",
    "        self.author = author\n",
    "        self.pages = pages\n",
    "        \n",
    "    def __str__(self):\n",
    "    # intercept the string representation\n",
    "        return f\"{self.author} wrote {self.title}\""
   ]
  },
  {
   "cell_type": "code",
   "execution_count": 27,
   "id": "1cf9848d",
   "metadata": {},
   "outputs": [],
   "source": [
    "python_journey = Book('Python Journey','Vonnie',125)"
   ]
  },
  {
   "cell_type": "code",
   "execution_count": 31,
   "id": "3d686503",
   "metadata": {},
   "outputs": [
    {
     "data": {
      "text/plain": [
       "'Vonnie wrote Python Journey'"
      ]
     },
     "execution_count": 31,
     "metadata": {},
     "output_type": "execute_result"
    }
   ],
   "source": [
    "# Now the string representation of our custom object\n",
    "# gets intercepted by __str__ inside the class\n",
    "# and prints the string represenation\n",
    "# that we want! \n",
    "str(python_journey)"
   ]
  },
  {
   "cell_type": "code",
   "execution_count": 29,
   "id": "9a2f5982",
   "metadata": {},
   "outputs": [
    {
     "name": "stdout",
     "output_type": "stream",
     "text": [
      "Vonnie wrote Python Journey\n"
     ]
    }
   ],
   "source": [
    "print(python_journey)"
   ]
  },
  {
   "cell_type": "code",
   "execution_count": 33,
   "id": "ff74faf5",
   "metadata": {},
   "outputs": [
    {
     "ename": "TypeError",
     "evalue": "object of type 'Book' has no len()",
     "output_type": "error",
     "traceback": [
      "\u001b[1;31m---------------------------------------------------------------------------\u001b[0m",
      "\u001b[1;31mTypeError\u001b[0m                                 Traceback (most recent call last)",
      "\u001b[1;32m~\\AppData\\Local\\Temp/ipykernel_1140/1481490689.py\u001b[0m in \u001b[0;36m<module>\u001b[1;34m\u001b[0m\n\u001b[0;32m      1\u001b[0m \u001b[1;31m# What about the length though?\u001b[0m\u001b[1;33m\u001b[0m\u001b[1;33m\u001b[0m\u001b[0m\n\u001b[1;32m----> 2\u001b[1;33m \u001b[0mlen\u001b[0m\u001b[1;33m(\u001b[0m\u001b[0mpython_journey\u001b[0m\u001b[1;33m)\u001b[0m\u001b[1;33m\u001b[0m\u001b[1;33m\u001b[0m\u001b[0m\n\u001b[0m",
      "\u001b[1;31mTypeError\u001b[0m: object of type 'Book' has no len()"
     ]
    }
   ],
   "source": [
    "# What about the length though?\n",
    "len(python_journey)"
   ]
  },
  {
   "cell_type": "markdown",
   "id": "05c6b198",
   "metadata": {},
   "source": [
    "## What is `__len__`?"
   ]
  },
  {
   "cell_type": "code",
   "execution_count": 35,
   "id": "ebd8c92d",
   "metadata": {},
   "outputs": [],
   "source": [
    "# It would make sense to have our book\n",
    "# return the number of pages when\n",
    "# we pass it to len() right?\n",
    "# We can use __len__ to intercept\n",
    "# the len() request and print\n",
    "# something useful\n",
    "\n",
    "class Book():\n",
    "    \n",
    "    def __init__(self,title,author,pages):\n",
    "        \n",
    "        self.title = title\n",
    "        self.author = author\n",
    "        self.pages = pages\n",
    "        \n",
    "    def __str__(self):\n",
    "        return f\"{self.author} wrote {self.title}\"\n",
    "    \n",
    "    def __len__(self):\n",
    "        return self.pages"
   ]
  },
  {
   "cell_type": "code",
   "execution_count": 36,
   "id": "a2b60fa5",
   "metadata": {},
   "outputs": [],
   "source": [
    "python_journey = Book('Python Journey','Vonnie',125)"
   ]
  },
  {
   "cell_type": "code",
   "execution_count": 38,
   "id": "45bce468",
   "metadata": {},
   "outputs": [
    {
     "data": {
      "text/plain": [
       "125"
      ]
     },
     "execution_count": 38,
     "metadata": {},
     "output_type": "execute_result"
    }
   ],
   "source": [
    "# nice!\n",
    "len(python_journey)"
   ]
  },
  {
   "cell_type": "code",
   "execution_count": 39,
   "id": "3049c77f",
   "metadata": {},
   "outputs": [],
   "source": [
    "# and we can cleanup by deleting the book from memory\n",
    "del(python_journey)"
   ]
  },
  {
   "cell_type": "code",
   "execution_count": 40,
   "id": "a1fbbe60",
   "metadata": {},
   "outputs": [
    {
     "ename": "NameError",
     "evalue": "name 'python_journey' is not defined",
     "output_type": "error",
     "traceback": [
      "\u001b[1;31m---------------------------------------------------------------------------\u001b[0m",
      "\u001b[1;31mNameError\u001b[0m                                 Traceback (most recent call last)",
      "\u001b[1;32m~\\AppData\\Local\\Temp/ipykernel_1140/2701659343.py\u001b[0m in \u001b[0;36m<module>\u001b[1;34m\u001b[0m\n\u001b[1;32m----> 1\u001b[1;33m \u001b[0mlen\u001b[0m\u001b[1;33m(\u001b[0m\u001b[0mpython_journey\u001b[0m\u001b[1;33m)\u001b[0m\u001b[1;33m\u001b[0m\u001b[1;33m\u001b[0m\u001b[0m\n\u001b[0m",
      "\u001b[1;31mNameError\u001b[0m: name 'python_journey' is not defined"
     ]
    }
   ],
   "source": [
    "len(python_journey)"
   ]
  },
  {
   "cell_type": "markdown",
   "id": "0bffc40b",
   "metadata": {},
   "source": [
    "## What is `__del__`?"
   ]
  },
  {
   "cell_type": "code",
   "execution_count": 51,
   "id": "89511beb",
   "metadata": {},
   "outputs": [],
   "source": [
    "# we can make it do stuff when we call del though\n",
    "# that's what __del__ does!\n",
    "class Book():\n",
    "    \n",
    "    def __init__(self,title,author,pages):\n",
    "        \n",
    "        self.title = title\n",
    "        self.author = author\n",
    "        self.pages = pages\n",
    "        \n",
    "    def __str__(self):\n",
    "        return f\"{self.author} wrote {self.title}\"\n",
    "    \n",
    "    def __len__(self):\n",
    "        return self.pages\n",
    "    \n",
    "    def __del__(self):\n",
    "        print (f\"You just deleted {self.title} !\")"
   ]
  },
  {
   "cell_type": "code",
   "execution_count": 53,
   "id": "629c0452",
   "metadata": {},
   "outputs": [],
   "source": [
    "python_journey = Book('Python Journey','Vonnie',125)"
   ]
  },
  {
   "cell_type": "code",
   "execution_count": 54,
   "id": "4cfba0cf",
   "metadata": {},
   "outputs": [
    {
     "name": "stdout",
     "output_type": "stream",
     "text": [
      "Vonnie wrote Python Journey\n"
     ]
    }
   ],
   "source": [
    "print(python_journey)"
   ]
  },
  {
   "cell_type": "code",
   "execution_count": 55,
   "id": "2e8423b6",
   "metadata": {},
   "outputs": [
    {
     "name": "stdout",
     "output_type": "stream",
     "text": [
      "You just deleted Python Journey !\n"
     ]
    }
   ],
   "source": [
    "del(python_journey)"
   ]
  },
  {
   "cell_type": "code",
   "execution_count": 56,
   "id": "48fbe1dc",
   "metadata": {},
   "outputs": [
    {
     "ename": "NameError",
     "evalue": "name 'python_journey' is not defined",
     "output_type": "error",
     "traceback": [
      "\u001b[1;31m---------------------------------------------------------------------------\u001b[0m",
      "\u001b[1;31mNameError\u001b[0m                                 Traceback (most recent call last)",
      "\u001b[1;32m~\\AppData\\Local\\Temp/ipykernel_1140/715517137.py\u001b[0m in \u001b[0;36m<module>\u001b[1;34m\u001b[0m\n\u001b[1;32m----> 1\u001b[1;33m \u001b[0mprint\u001b[0m\u001b[1;33m(\u001b[0m\u001b[0mpython_journey\u001b[0m\u001b[1;33m)\u001b[0m\u001b[1;33m\u001b[0m\u001b[1;33m\u001b[0m\u001b[0m\n\u001b[0m",
      "\u001b[1;31mNameError\u001b[0m: name 'python_journey' is not defined"
     ]
    }
   ],
   "source": [
    "print(python_journey)"
   ]
  },
  {
   "cell_type": "markdown",
   "id": "a5d09ded",
   "metadata": {},
   "source": [
    "There you go! Keep `__str__` and `__len__` in your back pocket!"
   ]
  }
 ],
 "metadata": {
  "kernelspec": {
   "display_name": "Python 3 (ipykernel)",
   "language": "python",
   "name": "python3"
  },
  "language_info": {
   "codemirror_mode": {
    "name": "ipython",
    "version": 3
   },
   "file_extension": ".py",
   "mimetype": "text/x-python",
   "name": "python",
   "nbconvert_exporter": "python",
   "pygments_lexer": "ipython3",
   "version": "3.9.7"
  }
 },
 "nbformat": 4,
 "nbformat_minor": 5
}
