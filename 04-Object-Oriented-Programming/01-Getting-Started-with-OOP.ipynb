{
 "cells": [
  {
   "cell_type": "markdown",
   "id": "4036f451",
   "metadata": {},
   "source": [
    "## Object Oriented Programming\n",
    "# Now you can create your own objects\n",
    "\n",
    "Object Oriented Programming (\"OOP\") is a great way to keep your code, professional, clean and organized.  You can create your own methods and attributes and understand modern Python code on the internet.\n",
    "\n",
    "The syntax looks a little wierd because of the mysterious \"self\" keyword - but don't worry!  I'm about to break everything down in this lecture series - so let's go!\n",
    "\n",
    "## In this lesson you will learn\n",
    "1. Object Basics Review\n",
    "2. Understand the `self` keyword\n",
    "3. Object Attributes vs Arguments \n"
   ]
  },
  {
   "cell_type": "code",
   "execution_count": 2,
   "id": "117c32f3",
   "metadata": {},
   "outputs": [],
   "source": [
    "# Let's take a look at a basic list object... you've already seen these\n",
    "nums = [1,2,3,4,5,6,7,8,9]"
   ]
  },
  {
   "cell_type": "code",
   "execution_count": 4,
   "id": "b3c36a75",
   "metadata": {},
   "outputs": [
    {
     "data": {
      "text/plain": [
       "list"
      ]
     },
     "execution_count": 4,
     "metadata": {},
     "output_type": "execute_result"
    }
   ],
   "source": [
    "# We can then type the name nums. and hit [TAB] to see a list of all relevant objects and methods\n",
    "type(nums)"
   ]
  },
  {
   "cell_type": "code",
   "execution_count": 5,
   "id": "cee2bd4b",
   "metadata": {},
   "outputs": [
    {
     "data": {
      "text/plain": [
       "set"
      ]
     },
     "execution_count": 5,
     "metadata": {},
     "output_type": "execute_result"
    }
   ],
   "source": [
    "# We can do the same with different object types.  Let's create a new set.\n",
    "empty_set = set()\n",
    "type(empty_set)"
   ]
  },
  {
   "cell_type": "markdown",
   "id": "0cd9b241",
   "metadata": {},
   "source": [
    "## Creating User Defined Objects\n",
    "Now we are going to create and define our own objects\n",
    "The `Class` keyword gives us the ability to create these user defined objects.\n",
    "\n",
    "A `Class` is just a stamp or blueprint or cookie-cutter template that can be used to create *instances* of that class.  This is known as instantiation.  We can create a specific instance of the `Class` - that's what we're going to do here"
   ]
  },
  {
   "cell_type": "code",
   "execution_count": 7,
   "id": "9be50873",
   "metadata": {},
   "outputs": [],
   "source": [
    "class Example():\n",
    "    pass # Don't do anything, just make a placeholder"
   ]
  },
  {
   "cell_type": "code",
   "execution_count": 8,
   "id": "b4d70df3",
   "metadata": {},
   "outputs": [],
   "source": [
    "# Let's create an instance of this class\n",
    "obj = Example()"
   ]
  },
  {
   "cell_type": "code",
   "execution_count": 10,
   "id": "da4c97e8",
   "metadata": {},
   "outputs": [
    {
     "data": {
      "text/plain": [
       "__main__.Example"
      ]
     },
     "execution_count": 10,
     "metadata": {},
     "output_type": "execute_result"
    }
   ],
   "source": [
    "# This instance of Example is connected to our main script\n",
    "type(obj)"
   ]
  },
  {
   "cell_type": "markdown",
   "id": "fbffa047",
   "metadata": {},
   "source": [
    "## Know thyself...\n",
    "A method is just a function inside of a Class.\n",
    "\n",
    "Whenever we create an instance of the class, we are basically *initializing* it.\n",
    "So whatever we need to create an object, a special method named `__init__` gets called whenever we instatiate that class.\n",
    "\n",
    "Now the tricky part of this method is the `self` keyword.  It freaks people out because it just sounds wierd.  What do you mean by `self`? Is the class self aware? Does `self` refer to the Class or the object created by the Class?  Why do I need this keyword anyway?\n",
    "\n",
    "Great questions - so here's what's up\n",
    "\n",
    "The `self` keyword connects `__init__` to a class instance. \n",
    "\n",
    "It actually by named anything like `blah` or `vonnie` but stick to `self` otherwise it will confuse the crap out of people. :) \n",
    "\n",
    "Let's just start coding and I'll walk you through what's happening"
   ]
  },
  {
   "cell_type": "code",
   "execution_count": 23,
   "id": "d089e63c",
   "metadata": {},
   "outputs": [],
   "source": [
    "# Let's create a Car class and add some attributes\n",
    "# What characteristics do Cars have?\n",
    "# Whatever those are we can pass those into __init__ \n",
    "# ... after we connect it to class instances with self.\n",
    "# Color is a Car attribute so let's add that after self\n",
    "\n",
    "class Car():\n",
    "    \n",
    "    def __init__(self,color): # auto call __init__ when you create an object of the class\n",
    "        \n",
    "        self.color = color    # wee see color three times!? WTF?"
   ]
  },
  {
   "cell_type": "code",
   "execution_count": 15,
   "id": "b79aab58",
   "metadata": {},
   "outputs": [
    {
     "ename": "TypeError",
     "evalue": "__init__() missing 1 required positional argument: 'color'",
     "output_type": "error",
     "traceback": [
      "\u001b[1;31m---------------------------------------------------------------------------\u001b[0m",
      "\u001b[1;31mTypeError\u001b[0m                                 Traceback (most recent call last)",
      "\u001b[1;32m~\\AppData\\Local\\Temp/ipykernel_6080/2600332507.py\u001b[0m in \u001b[0;36m<module>\u001b[1;34m\u001b[0m\n\u001b[1;32m----> 1\u001b[1;33m \u001b[0mnissan_gtr\u001b[0m \u001b[1;33m=\u001b[0m \u001b[0mCar\u001b[0m\u001b[1;33m(\u001b[0m\u001b[1;33m)\u001b[0m\u001b[1;33m\u001b[0m\u001b[1;33m\u001b[0m\u001b[0m\n\u001b[0m",
      "\u001b[1;31mTypeError\u001b[0m: __init__() missing 1 required positional argument: 'color'"
     ]
    }
   ],
   "source": [
    "nissan_gtr = Car()"
   ]
  },
  {
   "cell_type": "code",
   "execution_count": 17,
   "id": "f542d7b8",
   "metadata": {},
   "outputs": [],
   "source": [
    "# whoa, we get an error? why? The class is expecting a paramter for color\n",
    "# so let's give it a color\n",
    "nissan_gtr = Car(color='Black')"
   ]
  },
  {
   "cell_type": "code",
   "execution_count": 18,
   "id": "090fd5c5",
   "metadata": {},
   "outputs": [
    {
     "data": {
      "text/plain": [
       "__main__.Car"
      ]
     },
     "execution_count": 18,
     "metadata": {},
     "output_type": "execute_result"
    }
   ],
   "source": [
    "type(nissan_gtr)"
   ]
  },
  {
   "cell_type": "code",
   "execution_count": 19,
   "id": "7dfc31fe",
   "metadata": {},
   "outputs": [
    {
     "data": {
      "text/plain": [
       "'Black'"
      ]
     },
     "execution_count": 19,
     "metadata": {},
     "output_type": "execute_result"
    }
   ],
   "source": [
    "nissan_gtr.color"
   ]
  },
  {
   "cell_type": "code",
   "execution_count": 34,
   "id": "6b388daa",
   "metadata": {},
   "outputs": [],
   "source": [
    "class Car():\n",
    "    \n",
    "    def __init__(self,car_color): # let's change color to car_color by accepting an argument for \n",
    "                                  # car_color and assign it using the self.car_color name\n",
    "        self.color = car_color    "
   ]
  },
  {
   "cell_type": "code",
   "execution_count": 39,
   "id": "00bff675",
   "metadata": {},
   "outputs": [
    {
     "ename": "TypeError",
     "evalue": "__init__() missing 1 required positional argument: 'car_color'",
     "output_type": "error",
     "traceback": [
      "\u001b[1;31m---------------------------------------------------------------------------\u001b[0m",
      "\u001b[1;31mTypeError\u001b[0m                                 Traceback (most recent call last)",
      "\u001b[1;32m~\\AppData\\Local\\Temp/ipykernel_6080/1998511197.py\u001b[0m in \u001b[0;36m<module>\u001b[1;34m\u001b[0m\n\u001b[0;32m      1\u001b[0m \u001b[1;31m# SHIFT + TAB in Car() you'll see the Class is expecting a car_color\u001b[0m\u001b[1;33m\u001b[0m\u001b[1;33m\u001b[0m\u001b[0m\n\u001b[1;32m----> 2\u001b[1;33m \u001b[0mnissan_gtr\u001b[0m \u001b[1;33m=\u001b[0m \u001b[0mCar\u001b[0m\u001b[1;33m(\u001b[0m\u001b[1;33m)\u001b[0m\u001b[1;33m\u001b[0m\u001b[1;33m\u001b[0m\u001b[0m\n\u001b[0m",
      "\u001b[1;31mTypeError\u001b[0m: __init__() missing 1 required positional argument: 'car_color'"
     ]
    }
   ],
   "source": [
    "# SHIFT + TAB in Car() you'll see the Class is expecting a car_color\n",
    "nissan_gtr = Car()"
   ]
  },
  {
   "cell_type": "code",
   "execution_count": 36,
   "id": "3f0f281c",
   "metadata": {},
   "outputs": [],
   "source": [
    "# You pass in a value for the car_color variable \n",
    "# and pass it into the Class so it can assign it to the object's attribute.\n",
    "nissan_gtr = Car(car_color='Midnight Blue')"
   ]
  },
  {
   "cell_type": "markdown",
   "id": "49ba0728",
   "metadata": {},
   "source": [
    "## Object Attributes vs Arguments"
   ]
  },
  {
   "cell_type": "code",
   "execution_count": 41,
   "id": "b91a4692",
   "metadata": {},
   "outputs": [
    {
     "data": {
      "text/plain": [
       "'Midnight Blue'"
      ]
     },
     "execution_count": 41,
     "metadata": {},
     "output_type": "execute_result"
    }
   ],
   "source": [
    "# The object attribute is .color but the variable passed into the Car() class is car_color\n",
    "nissan_gtr.color"
   ]
  },
  {
   "cell_type": "code",
   "execution_count": 49,
   "id": "5c717b93",
   "metadata": {},
   "outputs": [],
   "source": [
    "# car_color is the argument, .object_color is the object attribute\n",
    "class Car():\n",
    "    \n",
    "    def __init__(self,car_color): # let's change the object attribute name to object_color\n",
    "        self.object_color = car_color  "
   ]
  },
  {
   "cell_type": "code",
   "execution_count": 46,
   "id": "7fa17d1c",
   "metadata": {},
   "outputs": [],
   "source": [
    "nissan_gtr = Car(car_color='Sunburst Yellow')"
   ]
  },
  {
   "cell_type": "code",
   "execution_count": 48,
   "id": "c79551b1",
   "metadata": {},
   "outputs": [
    {
     "data": {
      "text/plain": [
       "'Sunburst Yellow'"
      ]
     },
     "execution_count": 48,
     "metadata": {},
     "output_type": "execute_result"
    }
   ],
   "source": [
    "# We changed the object attribute to .object_color.. see?\n",
    "nissan_gtr.object_color"
   ]
  },
  {
   "cell_type": "code",
   "execution_count": 51,
   "id": "dfbe19e8",
   "metadata": {},
   "outputs": [],
   "source": [
    "# So we have color three times but hopefully it's clear what's going on here!\n",
    "class Car():\n",
    "    \n",
    "    def __init__(self,color): \n",
    "        self.color = color  "
   ]
  },
  {
   "cell_type": "code",
   "execution_count": 55,
   "id": "dc754f57",
   "metadata": {},
   "outputs": [],
   "source": [
    "# Let's add to our function\n",
    "# So we have color three times but hopefully it's clear what's going on here!\n",
    "class Car():\n",
    "    \n",
    "    def __init__(self,color,top_speed,performance_package): \n",
    "        self.color = color # String\n",
    "        self.top_speed = top_speed # Int\n",
    "        self.performance_package = performance_package # Boolean, yup can have different data types"
   ]
  },
  {
   "cell_type": "code",
   "execution_count": 56,
   "id": "c57de7ea",
   "metadata": {},
   "outputs": [],
   "source": [
    "ford_gto = Car(color='Pearl White',top_speed=216,performance_package=False)"
   ]
  },
  {
   "cell_type": "code",
   "execution_count": 57,
   "id": "26c342bb",
   "metadata": {},
   "outputs": [
    {
     "data": {
      "text/plain": [
       "'Pearl White'"
      ]
     },
     "execution_count": 57,
     "metadata": {},
     "output_type": "execute_result"
    }
   ],
   "source": [
    "ford_gto.color"
   ]
  },
  {
   "cell_type": "code",
   "execution_count": 58,
   "id": "03ec686d",
   "metadata": {},
   "outputs": [
    {
     "data": {
      "text/plain": [
       "216"
      ]
     },
     "execution_count": 58,
     "metadata": {},
     "output_type": "execute_result"
    }
   ],
   "source": [
    "ford_gto.top_speed"
   ]
  },
  {
   "cell_type": "code",
   "execution_count": 59,
   "id": "3ace2887",
   "metadata": {},
   "outputs": [
    {
     "data": {
      "text/plain": [
       "False"
      ]
     },
     "execution_count": 59,
     "metadata": {},
     "output_type": "execute_result"
    }
   ],
   "source": [
    "ford_gto.performance_package"
   ]
  },
  {
   "cell_type": "markdown",
   "id": "fd1b2e13",
   "metadata": {},
   "source": [
    "So you use the Class keyword and the class name to build your class.\n",
    "The first method we use is the `__init__` method which constructs or is used to construct object instances.\n",
    "And by Python convention the parameter name and object names match... this creates an awkward situation where you see the same name three times but hopefully it makes more sense why now: one is  parameter name - the variable being passed into the class and the other is the self.attribute_name - basically the attribute value for the object itself.\n",
    "\n",
    "----\n",
    "\n",
    "In the next lecture we're diving into Class Object Attributes and Methods!"
   ]
  }
 ],
 "metadata": {
  "kernelspec": {
   "display_name": "Python 3 (ipykernel)",
   "language": "python",
   "name": "python3"
  },
  "language_info": {
   "codemirror_mode": {
    "name": "ipython",
    "version": 3
   },
   "file_extension": ".py",
   "mimetype": "text/x-python",
   "name": "python",
   "nbconvert_exporter": "python",
   "pygments_lexer": "ipython3",
   "version": "3.9.7"
  }
 },
 "nbformat": 4,
 "nbformat_minor": 5
}
