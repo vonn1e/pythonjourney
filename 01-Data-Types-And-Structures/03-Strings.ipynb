{
 "cells": [
  {
   "cell_type": "markdown",
   "id": "660a631d",
   "metadata": {},
   "source": [
    "# Strings\n",
    "## Exploring the beauitful flexibility of text in Python!\n",
    "---\n",
    "### Here's what you will learn:\n",
    "1. What are Strings?\n",
    "2. How to Create and Display Strings\n",
    "3. How to Slice Up Strings\n",
    "4. Fun with String Properties and Methods\n",
    "5. Fun with Formatting (this is seriously fun lol)\n",
    "\n",
    "## What are Strings?\n",
    "Strings are ordered character collections enclosed in quotes.  These can be either double or single quotes.\n",
    "I say they are \"ordered\" because every character has an invisible numbered index.  This is pretty cool because it menas you can yank specific characters or phrases from a string very very easily.\n",
    "\n",
    "So if we have this string \"Vonnie\" we can see, behind the scenes, each character is really mapped to a number called an index.\n",
    "\n",
    "V o n n i e\n",
    "0 1 2 3 4 5\n",
    "\n",
    "So here you see \"Vonnie\" but Python knows more! It knows that \"V\" maps to index 0.\n",
    "\n",
    "The best way to learn about Strings is to use them! So in this lecture we'll dig into building Strings then we'll slice 'em up, play with methods and have fun formatting them to our hearts satisfaction :)\n",
    "\n",
    "## How to Create and Display Strings\n",
    "\n",
    "So let's just dig into creating and displaying strings\n"
   ]
  },
  {
   "cell_type": "code",
   "execution_count": 1,
   "id": "bf8aaebd",
   "metadata": {},
   "outputs": [
    {
     "data": {
      "text/plain": [
       "'what up world! how you doin??'"
      ]
     },
     "execution_count": 1,
     "metadata": {},
     "output_type": "execute_result"
    }
   ],
   "source": [
    "# Let's kick things off with a basic string\n",
    "'what up world! how you doin??'"
   ]
  },
  {
   "cell_type": "code",
   "execution_count": 4,
   "id": "36c611f2",
   "metadata": {},
   "outputs": [
    {
     "data": {
      "text/plain": [
       "'what up world! how you doin??'"
      ]
     },
     "execution_count": 4,
     "metadata": {},
     "output_type": "execute_result"
    }
   ],
   "source": [
    "# We can also use double quotes\n",
    "\"what up world! how you doin??\""
   ]
  },
  {
   "cell_type": "code",
   "execution_count": 8,
   "id": "1e5c990c",
   "metadata": {},
   "outputs": [
    {
     "data": {
      "text/plain": [
       "\"what's up world! how you doing??\""
      ]
     },
     "execution_count": 8,
     "metadata": {},
     "output_type": "execute_result"
    }
   ],
   "source": [
    "# We can also mix quotes. Notice how I changed what to \"what's\" and I didn't get any errors\n",
    "\"what's up world! how you doing??\""
   ]
  },
  {
   "cell_type": "code",
   "execution_count": 12,
   "id": "8cb0ded1",
   "metadata": {},
   "outputs": [
    {
     "ename": "SyntaxError",
     "evalue": "invalid syntax (Temp/ipykernel_936/2567212705.py, line 2)",
     "output_type": "error",
     "traceback": [
      "\u001b[1;36m  File \u001b[1;32m\"C:\\Users\\Vonnie\\AppData\\Local\\Temp/ipykernel_936/2567212705.py\"\u001b[1;36m, line \u001b[1;32m2\u001b[0m\n\u001b[1;33m    'what's up world! how you doing??'\u001b[0m\n\u001b[1;37m          ^\u001b[0m\n\u001b[1;31mSyntaxError\u001b[0m\u001b[1;31m:\u001b[0m invalid syntax\n"
     ]
    }
   ],
   "source": [
    "# This worked because the entire string is closed in double quotes so Python doesn't mind the single quote.  But if I didn't mix quotes I would get an error at the second single quote because Python assumed it was the closing quote and didn't expect extra text following:\n",
    "'what's up world! how you doing??'"
   ]
  },
  {
   "cell_type": "code",
   "execution_count": 14,
   "id": "934d2654",
   "metadata": {},
   "outputs": [
    {
     "name": "stdout",
     "output_type": "stream",
     "text": [
      "what up dawg\n"
     ]
    }
   ],
   "source": [
    "# Okay, cool so let's print out a string with print.  We don't just want to return the string we want to actually print it out.  That's what print() is for!\n",
    "print(\"what up dawg\")"
   ]
  },
  {
   "cell_type": "code",
   "execution_count": 16,
   "id": "6e152720",
   "metadata": {},
   "outputs": [
    {
     "name": "stdout",
     "output_type": "stream",
     "text": [
      "what up\n",
      "dawg\n"
     ]
    }
   ],
   "source": [
    "# One of the nice things we can do with print() is we can leverage escape characters to insert tabs and line breaks and all kinds of slick stuff\n",
    "# That \\n is a special character that tells Python to not print the literal sequence \"\\n\" but rather BREAK the link.\n",
    "print(\"what up\\ndawg\")"
   ]
  },
  {
   "cell_type": "code",
   "execution_count": 19,
   "id": "2616da44",
   "metadata": {},
   "outputs": [
    {
     "name": "stdout",
     "output_type": "stream",
     "text": [
      "what\tup\tdawg\n"
     ]
    }
   ],
   "source": [
    "# There's other escape sequences for tabs and other things too\n",
    "print(\"what\\tup\\tdawg\")"
   ]
  },
  {
   "cell_type": "markdown",
   "id": "7e42db7d",
   "metadata": {},
   "source": [
    "## How to Slice Up Strings\n",
    "\n",
    "You ready to become a Python chef? Cuz' we're about to treat our Python text like a delicious pie made for slicin'.  Let's go!"
   ]
  },
  {
   "cell_type": "code",
   "execution_count": 22,
   "id": "d3ba6388",
   "metadata": {},
   "outputs": [],
   "source": [
    "# Let's create a simple variable with a string\n",
    "pickup = \"Toyota Tacoma TRD Pro\""
   ]
  },
  {
   "cell_type": "code",
   "execution_count": 23,
   "id": "a1129131",
   "metadata": {},
   "outputs": [
    {
     "data": {
      "text/plain": [
       "str"
      ]
     },
     "execution_count": 23,
     "metadata": {},
     "output_type": "execute_result"
    }
   ],
   "source": [
    "type(pickup)"
   ]
  },
  {
   "cell_type": "code",
   "execution_count": 25,
   "id": "0ea61f18",
   "metadata": {},
   "outputs": [
    {
     "data": {
      "text/plain": [
       "'T'"
      ]
     },
     "execution_count": 25,
     "metadata": {},
     "output_type": "execute_result"
    }
   ],
   "source": [
    "# Let's say we just want to grab the first letter there... since strings are 0 indexed... meaning string characters are numbers sequentially starting at 0, we can easily grab that first letter\n",
    "pickup[0]"
   ]
  },
  {
   "cell_type": "code",
   "execution_count": 26,
   "id": "4c0ee39e",
   "metadata": {},
   "outputs": [
    {
     "data": {
      "text/plain": [
       "'Toyota Tacoma TRD Pro'"
      ]
     },
     "execution_count": 26,
     "metadata": {},
     "output_type": "execute_result"
    }
   ],
   "source": [
    "pickup"
   ]
  },
  {
   "cell_type": "code",
   "execution_count": 28,
   "id": "42844f69",
   "metadata": {},
   "outputs": [
    {
     "data": {
      "text/plain": [
       "'r'"
      ]
     },
     "execution_count": 28,
     "metadata": {},
     "output_type": "execute_result"
    }
   ],
   "source": [
    "# What about that last \"r\" in the word \"Pro\"? Well we could count all characters (including spaces) like this...\n",
    "pickup[19]"
   ]
  },
  {
   "cell_type": "code",
   "execution_count": 30,
   "id": "09a331c9",
   "metadata": {},
   "outputs": [
    {
     "data": {
      "text/plain": [
       "'r'"
      ]
     },
     "execution_count": 30,
     "metadata": {},
     "output_type": "execute_result"
    }
   ],
   "source": [
    "# Or we can realize that strings are indexed in reverse starting from -1.  So that last \"o\" in \"Pro\" is in position -1.  The \"r\" immediately before it is in the -2 position.  The capital \"P\" is in the -3 position and so on.\n",
    "pickup[-2]"
   ]
  },
  {
   "cell_type": "code",
   "execution_count": 34,
   "id": "9c57d110",
   "metadata": {},
   "outputs": [
    {
     "data": {
      "text/plain": [
       "'Toyota Tacoma TRD Pro'"
      ]
     },
     "execution_count": 34,
     "metadata": {},
     "output_type": "execute_result"
    }
   ],
   "source": [
    "# So how do we slice? We grab subsections.  The format is [start:stop:step].  The start includes the character matching the corresponding index at that location... so it's INCLUSIVE.  The stop is EXCLUSIVE - so it tells you where to stop but doesn't include the character stopped on.  Sounds confusing; don't worry it'll make sense in a second.  And the step is how many characters to jump along the way... by default this is 1\n",
    "pickup"
   ]
  },
  {
   "cell_type": "code",
   "execution_count": 38,
   "id": "a4081903",
   "metadata": {},
   "outputs": [
    {
     "data": {
      "text/plain": [
       "'Tacoma TRD Pro'"
      ]
     },
     "execution_count": 38,
     "metadata": {},
     "output_type": "execute_result"
    }
   ],
   "source": [
    "# The word \"Tacoma\" starts at index \"7\" so we can set that in the index and then just leave a colon with nothing following which basically says: Start at the 7 index and dont stop... keep going at the default step size of 1 until the string is done\n",
    "pickup[7:]"
   ]
  },
  {
   "cell_type": "code",
   "execution_count": 39,
   "id": "f9aba9a9",
   "metadata": {},
   "outputs": [
    {
     "data": {
      "text/plain": [
       "'Toyota Tacoma TRD Pro'"
      ]
     },
     "execution_count": 39,
     "metadata": {},
     "output_type": "execute_result"
    }
   ],
   "source": [
    "pickup"
   ]
  },
  {
   "cell_type": "code",
   "execution_count": 43,
   "id": "4520b19b",
   "metadata": {},
   "outputs": [
    {
     "data": {
      "text/plain": [
       "'Toyot'"
      ]
     },
     "execution_count": 43,
     "metadata": {},
     "output_type": "execute_result"
    }
   ],
   "source": [
    "# Now here's were things get tricky.  Let's say we just want to grab Toyota.  Toyota is indexed at 0 and ends at index 5\n",
    "# But look what happens if you're not thinking this through:\n",
    "pickup[:5]"
   ]
  },
  {
   "cell_type": "code",
   "execution_count": 44,
   "id": "3d39b40f",
   "metadata": {},
   "outputs": [
    {
     "data": {
      "text/plain": [
       "'Toyota'"
      ]
     },
     "execution_count": 44,
     "metadata": {},
     "output_type": "execute_result"
    }
   ],
   "source": [
    "# We're missing the last \"a\" because that stop index, the 5 doesn't include the character it stops on.  So you need to go one character ahead of where you want to stop to get what you want. You are going up to the STOP index but not including it. TRICKY RIGHT!?\n",
    "pickup[:6]"
   ]
  },
  {
   "cell_type": "code",
   "execution_count": 45,
   "id": "20cd181c",
   "metadata": {},
   "outputs": [
    {
     "data": {
      "text/plain": [
       "'Toyota Tacoma TRD Pro'"
      ]
     },
     "execution_count": 45,
     "metadata": {},
     "output_type": "execute_result"
    }
   ],
   "source": [
    "pickup"
   ]
  },
  {
   "cell_type": "code",
   "execution_count": 46,
   "id": "f7ecd7c5",
   "metadata": {},
   "outputs": [
    {
     "data": {
      "text/plain": [
       "'Taco'"
      ]
     },
     "execution_count": 46,
     "metadata": {},
     "output_type": "execute_result"
    }
   ],
   "source": [
    "# So how can we grab Taco from \"Tacoma\"?\n",
    "pickup[7:11]"
   ]
  },
  {
   "cell_type": "code",
   "execution_count": 47,
   "id": "62789090",
   "metadata": {},
   "outputs": [
    {
     "data": {
      "text/plain": [
       "'Toyota Tacoma TRD Pro'"
      ]
     },
     "execution_count": 47,
     "metadata": {},
     "output_type": "execute_result"
    }
   ],
   "source": [
    "pickup"
   ]
  },
  {
   "cell_type": "code",
   "execution_count": 49,
   "id": "beee426f",
   "metadata": {},
   "outputs": [
    {
     "data": {
      "text/plain": [
       "'Toyota Tacoma TRD Pro'"
      ]
     },
     "execution_count": 49,
     "metadata": {},
     "output_type": "execute_result"
    }
   ],
   "source": [
    "# So how does the step size work? We just specify a leap number\n",
    "pickup[::]"
   ]
  },
  {
   "cell_type": "code",
   "execution_count": 50,
   "id": "ac349a48",
   "metadata": {},
   "outputs": [
    {
     "data": {
      "text/plain": [
       "'Toyota Tacoma TRD Pro'"
      ]
     },
     "execution_count": 50,
     "metadata": {},
     "output_type": "execute_result"
    }
   ],
   "source": [
    "pickup[::1]"
   ]
  },
  {
   "cell_type": "code",
   "execution_count": 51,
   "id": "668945eb",
   "metadata": {},
   "outputs": [
    {
     "data": {
      "text/plain": [
       "'Tyt aoaTDPo'"
      ]
     },
     "execution_count": 51,
     "metadata": {},
     "output_type": "execute_result"
    }
   ],
   "source": [
    "# Look at that! We printed the whole string but are skipping every 2 chars! lol\n",
    "pickup[::2]"
   ]
  },
  {
   "cell_type": "code",
   "execution_count": 52,
   "id": "1e76ebf1",
   "metadata": {},
   "outputs": [
    {
     "data": {
      "text/plain": [
       "'To caRP'"
      ]
     },
     "execution_count": 52,
     "metadata": {},
     "output_type": "execute_result"
    }
   ],
   "source": [
    "pickup[::3]"
   ]
  },
  {
   "cell_type": "code",
   "execution_count": 53,
   "id": "a1a0206c",
   "metadata": {},
   "outputs": [
    {
     "data": {
      "text/plain": [
       "'TtaaDo'"
      ]
     },
     "execution_count": 53,
     "metadata": {},
     "output_type": "execute_result"
    }
   ],
   "source": [
    "pickup[::4]"
   ]
  },
  {
   "cell_type": "code",
   "execution_count": 56,
   "id": "4b2c5724",
   "metadata": {},
   "outputs": [
    {
     "data": {
      "text/plain": [
       "'Toyota Tacoma TRD Pro'"
      ]
     },
     "execution_count": 56,
     "metadata": {},
     "output_type": "execute_result"
    }
   ],
   "source": [
    "# Fun for hours! okay, we can also step by a negative number...\n",
    "# This is a little trick to reverse the characters in a string.  Do you see how this works? \n",
    "# Your start and stop indexes are empty so Python returns the whole string but it puts the first char as the last char because the step size starts with -1.  Then it keeps moving forward until the entire string has been displayed... in REVERSE!\n",
    "pickup[::]"
   ]
  },
  {
   "cell_type": "code",
   "execution_count": 55,
   "id": "d3dade1b",
   "metadata": {},
   "outputs": [
    {
     "data": {
      "text/plain": [
       "'orP DRT amocaT atoyoT'"
      ]
     },
     "execution_count": 55,
     "metadata": {},
     "output_type": "execute_result"
    }
   ],
   "source": [
    "pickup[::-1]"
   ]
  },
  {
   "cell_type": "markdown",
   "id": "9c21b4f3",
   "metadata": {},
   "source": [
    "# Fun with String Properties and Methods\n",
    "Yes! you are making major progress.  Now it's time to introduce you to the IMMUTABILITY of strings, talk about string concatenation and dive into some of the most useful properties belonging to our faithful string.  Let's do this!"
   ]
  },
  {
   "cell_type": "code",
   "execution_count": 65,
   "id": "d66f72dd",
   "metadata": {},
   "outputs": [],
   "source": [
    "# Let's start with immutability.  If something is immutable it can't be changed.  So when we say Strings are immutable we mean we can't reassign an character in a string AFTER it has already been defined.\n",
    "greatest_hip_hop_producer = \"JZ\""
   ]
  },
  {
   "cell_type": "code",
   "execution_count": 66,
   "id": "ef940916",
   "metadata": {},
   "outputs": [
    {
     "data": {
      "text/plain": [
       "'JZ'"
      ]
     },
     "execution_count": 66,
     "metadata": {},
     "output_type": "execute_result"
    }
   ],
   "source": [
    "greatest_hip_hop_producer"
   ]
  },
  {
   "cell_type": "code",
   "execution_count": 76,
   "id": "905bfbae",
   "metadata": {},
   "outputs": [
    {
     "ename": "TypeError",
     "evalue": "'str' object does not support item assignment",
     "output_type": "error",
     "traceback": [
      "\u001b[1;31m---------------------------------------------------------------------------\u001b[0m",
      "\u001b[1;31mTypeError\u001b[0m                                 Traceback (most recent call last)",
      "\u001b[1;32m~\\AppData\\Local\\Temp/ipykernel_936/1637326945.py\u001b[0m in \u001b[0;36m<module>\u001b[1;34m\u001b[0m\n\u001b[0;32m      1\u001b[0m \u001b[1;31m# When I try to change that \"Z\" to a \"D\" Python flips out because Strings are immutable\u001b[0m\u001b[1;33m\u001b[0m\u001b[1;33m\u001b[0m\u001b[0m\n\u001b[1;32m----> 2\u001b[1;33m \u001b[0mgreatest_hip_hop_producer\u001b[0m\u001b[1;33m[\u001b[0m\u001b[1;36m1\u001b[0m\u001b[1;33m]\u001b[0m \u001b[1;33m=\u001b[0m \u001b[1;34m'D'\u001b[0m\u001b[1;33m\u001b[0m\u001b[1;33m\u001b[0m\u001b[0m\n\u001b[0m",
      "\u001b[1;31mTypeError\u001b[0m: 'str' object does not support item assignment"
     ]
    }
   ],
   "source": [
    "# When I try to change that \"Z\" to a \"D\" Python flips out because Strings are immutable\n",
    "greatest_hip_hop_producer[1] = 'D'"
   ]
  },
  {
   "cell_type": "code",
   "execution_count": 77,
   "id": "4ffc4054",
   "metadata": {},
   "outputs": [
    {
     "data": {
      "text/plain": [
       "'J'"
      ]
     },
     "execution_count": 77,
     "metadata": {},
     "output_type": "execute_result"
    }
   ],
   "source": [
    "# We need to create a new string to change this one.  Let's just grab that \"J\"\n",
    "greatest_hip_hop_producer[0:1]"
   ]
  },
  {
   "cell_type": "code",
   "execution_count": 78,
   "id": "f68cf67c",
   "metadata": {},
   "outputs": [
    {
     "data": {
      "text/plain": [
       "'J'"
      ]
     },
     "execution_count": 78,
     "metadata": {},
     "output_type": "execute_result"
    }
   ],
   "source": [
    "# And lets assign it to a new variable\n",
    "first_name=greatest_hip_hop_producer[0:1]\n",
    "first_name"
   ]
  },
  {
   "cell_type": "code",
   "execution_count": 72,
   "id": "59cf3e8c",
   "metadata": {},
   "outputs": [],
   "source": [
    "last_name=\" Dilla\""
   ]
  },
  {
   "cell_type": "code",
   "execution_count": 79,
   "id": "84fab8f1",
   "metadata": {},
   "outputs": [
    {
     "data": {
      "text/plain": [
       "'J Dilla'"
      ]
     },
     "execution_count": 79,
     "metadata": {},
     "output_type": "execute_result"
    }
   ],
   "source": [
    "# We can use String concatenation to join the two variables containing our strings together\n",
    "first_name + last_name"
   ]
  },
  {
   "cell_type": "code",
   "execution_count": 75,
   "id": "988fd96d",
   "metadata": {},
   "outputs": [
    {
     "data": {
      "text/plain": [
       "'J Dilla'"
      ]
     },
     "execution_count": 75,
     "metadata": {},
     "output_type": "execute_result"
    }
   ],
   "source": [
    "greatest_hip_hop_producer = first_name + last_name\n",
    "greatest_hip_hop_producer"
   ]
  },
  {
   "cell_type": "code",
   "execution_count": 81,
   "id": "f2541da4",
   "metadata": {},
   "outputs": [
    {
     "data": {
      "text/plain": [
       "'J DillaJ DillaJ DillaJ DillaJ DillaJ DillaJ DillaJ DillaJ DillaJ Dilla'"
      ]
     },
     "execution_count": 81,
     "metadata": {},
     "output_type": "execute_result"
    }
   ],
   "source": [
    "# We can repeat strings by multiplying it a bunch of times too\n",
    "greatest_hip_hop_producer * 10"
   ]
  },
  {
   "cell_type": "code",
   "execution_count": 92,
   "id": "0b919175",
   "metadata": {},
   "outputs": [
    {
     "data": {
      "text/plain": [
       "' J Dilla'"
      ]
     },
     "execution_count": 92,
     "metadata": {},
     "output_type": "execute_result"
    }
   ],
   "source": [
    "# Since the J doesn't have a leading space it's squished up against his last name on each repeat.  Let's fix that\"\n",
    "first_name = ' J'\n",
    "last_name = ' Dilla'\n",
    "greatest_hip_hop_producer = first_name + last_name\n",
    "greatest_hip_hop_producer"
   ]
  },
  {
   "cell_type": "code",
   "execution_count": 93,
   "id": "a259bb35",
   "metadata": {},
   "outputs": [
    {
     "data": {
      "text/plain": [
       "' J Dilla J Dilla J Dilla J Dilla J Dilla J Dilla J Dilla J Dilla J Dilla J Dilla'"
      ]
     },
     "execution_count": 93,
     "metadata": {},
     "output_type": "execute_result"
    }
   ],
   "source": [
    "greatest_hip_hop_producer * 10"
   ]
  },
  {
   "cell_type": "code",
   "execution_count": 95,
   "id": "4564a2f9",
   "metadata": {},
   "outputs": [
    {
     "data": {
      "text/plain": [
       "5"
      ]
     },
     "execution_count": 95,
     "metadata": {},
     "output_type": "execute_result"
    }
   ],
   "source": [
    "# Just make sure you don't try to concatenate a number with a string\n",
    "1 + 4"
   ]
  },
  {
   "cell_type": "code",
   "execution_count": 96,
   "id": "40d98264",
   "metadata": {},
   "outputs": [
    {
     "data": {
      "text/plain": [
       "4"
      ]
     },
     "execution_count": 96,
     "metadata": {},
     "output_type": "execute_result"
    }
   ],
   "source": [
    "1 * 4"
   ]
  },
  {
   "cell_type": "code",
   "execution_count": 99,
   "id": "01e04ad6",
   "metadata": {},
   "outputs": [
    {
     "data": {
      "text/plain": [
       "'1111'"
      ]
     },
     "execution_count": 99,
     "metadata": {},
     "output_type": "execute_result"
    }
   ],
   "source": [
    "# We can repeat that '1' 4 times... because it's really a string as indicated by the single quotes wrapping\n",
    "'1' * 4"
   ]
  },
  {
   "cell_type": "code",
   "execution_count": 101,
   "id": "794afb0f",
   "metadata": {},
   "outputs": [
    {
     "data": {
      "text/plain": [
       "'14'"
      ]
     },
     "execution_count": 101,
     "metadata": {},
     "output_type": "execute_result"
    }
   ],
   "source": [
    "# It's easy to forget you have strings though.  As you can see, it looks like I'm trying to add 1 + 4 and the answer would be 5; however, digging deeper you see these are really two strings so they just get mashed together. This is because Python is dynamically typed. WATCH OUT!\n",
    "'1' + '4'"
   ]
  },
  {
   "cell_type": "code",
   "execution_count": 105,
   "id": "b9fb4c4c",
   "metadata": {},
   "outputs": [],
   "source": [
    "# So these strings also have hidden methods you can apply to them.  Take a look at this:\n",
    "author = \"Vonnie Hudson\""
   ]
  },
  {
   "cell_type": "code",
   "execution_count": 106,
   "id": "b6f91167",
   "metadata": {},
   "outputs": [
    {
     "data": {
      "text/plain": [
       "'Vonnie Hudson'"
      ]
     },
     "execution_count": 106,
     "metadata": {},
     "output_type": "execute_result"
    }
   ],
   "source": [
    "author"
   ]
  },
  {
   "cell_type": "code",
   "execution_count": 107,
   "id": "de710c0b",
   "metadata": {},
   "outputs": [],
   "source": [
    "# If I type author and press the \".\" DOT character and then hit [TAB] I'll see all the things I can do to this string object.\n",
    "# Let's play with a few"
   ]
  },
  {
   "cell_type": "code",
   "execution_count": 108,
   "id": "83d48507",
   "metadata": {},
   "outputs": [
    {
     "data": {
      "text/plain": [
       "'VONNIE HUDSON'"
      ]
     },
     "execution_count": 108,
     "metadata": {},
     "output_type": "execute_result"
    }
   ],
   "source": [
    "author.upper()"
   ]
  },
  {
   "cell_type": "code",
   "execution_count": 109,
   "id": "895b9dbc",
   "metadata": {},
   "outputs": [
    {
     "data": {
      "text/plain": [
       "'vonnie hudson'"
      ]
     },
     "execution_count": 109,
     "metadata": {},
     "output_type": "execute_result"
    }
   ],
   "source": [
    "author.lower()"
   ]
  },
  {
   "cell_type": "code",
   "execution_count": 110,
   "id": "a522e432",
   "metadata": {},
   "outputs": [
    {
     "data": {
      "text/plain": [
       "'Vonnie Hudson'"
      ]
     },
     "execution_count": 110,
     "metadata": {},
     "output_type": "execute_result"
    }
   ],
   "source": [
    "author"
   ]
  },
  {
   "cell_type": "code",
   "execution_count": 114,
   "id": "a7155ead",
   "metadata": {},
   "outputs": [
    {
     "data": {
      "text/plain": [
       "'vonnie hudson'"
      ]
     },
     "execution_count": 114,
     "metadata": {},
     "output_type": "execute_result"
    }
   ],
   "source": [
    "# Notice it didn't stick though.  If you want a string to be permanently changed by these methods you need to reassign them\n",
    "humble = author.lower()\n",
    "humble"
   ]
  },
  {
   "cell_type": "code",
   "execution_count": 115,
   "id": "2d5221f7",
   "metadata": {},
   "outputs": [
    {
     "data": {
      "text/plain": [
       "'VONNIE HUDSON'"
      ]
     },
     "execution_count": 115,
     "metadata": {},
     "output_type": "execute_result"
    }
   ],
   "source": [
    "cocky = author.upper()\n",
    "cocky"
   ]
  },
  {
   "cell_type": "code",
   "execution_count": 117,
   "id": "98d8ea49",
   "metadata": {},
   "outputs": [
    {
     "data": {
      "text/plain": [
       "'Vonnie Hudson'"
      ]
     },
     "execution_count": 117,
     "metadata": {},
     "output_type": "execute_result"
    }
   ],
   "source": [
    "# Original author variable is unscathed\n",
    "author"
   ]
  },
  {
   "cell_type": "code",
   "execution_count": 119,
   "id": "211bd2e3",
   "metadata": {},
   "outputs": [
    {
     "data": {
      "text/plain": [
       "<function str.lower()>"
      ]
     },
     "execution_count": 119,
     "metadata": {},
     "output_type": "execute_result"
    }
   ],
   "source": [
    "# Make sure you remember to include the parenthesis for the methods otherwise Python won't really know what to do!\n",
    "author.lower"
   ]
  },
  {
   "cell_type": "code",
   "execution_count": 120,
   "id": "40de120c",
   "metadata": {},
   "outputs": [
    {
     "data": {
      "text/plain": [
       "'vonnie hudson'"
      ]
     },
     "execution_count": 120,
     "metadata": {},
     "output_type": "execute_result"
    }
   ],
   "source": [
    "author.lower()"
   ]
  },
  {
   "cell_type": "code",
   "execution_count": 128,
   "id": "147a2481",
   "metadata": {},
   "outputs": [
    {
     "data": {
      "text/plain": [
       "13"
      ]
     },
     "execution_count": 128,
     "metadata": {},
     "output_type": "execute_result"
    }
   ],
   "source": [
    "# some other useful methods include len() to get the length of the string.\n",
    "# This isn't a property of the String object, it's just a function we can pass a String object into to return it's length.  Whitespace is included in the count.\n",
    "len(author)"
   ]
  },
  {
   "cell_type": "code",
   "execution_count": 129,
   "id": "c8d3d45a",
   "metadata": {},
   "outputs": [
    {
     "data": {
      "text/plain": [
       "['Vonnie', 'Hudson']"
      ]
     },
     "execution_count": 129,
     "metadata": {},
     "output_type": "execute_result"
    }
   ],
   "source": [
    "# Okay, so here are some other useful methods we can run on the String object: split().  It will divide up the string, based on every space or letter you pass as an argument, and it will output it as a new data type known as a list\n",
    "author.split()"
   ]
  },
  {
   "cell_type": "code",
   "execution_count": 125,
   "id": "cfb4eab4",
   "metadata": {},
   "outputs": [
    {
     "data": {
      "text/plain": [
       "['V', 'nnie Huds', 'n']"
      ]
     },
     "execution_count": 125,
     "metadata": {},
     "output_type": "execute_result"
    }
   ],
   "source": [
    "# So if I pass in an \"o\" as an argument to split(), it divides the string based on every instance of that 'o' and it leaves it out of the final list\n",
    "author.split('o')"
   ]
  },
  {
   "cell_type": "markdown",
   "id": "ed8f1e82",
   "metadata": {},
   "source": [
    "## Fun with Formatting\n",
    "Let's round out this section with String formatting.  This is important because a lot of times you'll have a variable you want to concatenate into a string.  There are some best practices for doing this string injection.  It's technically called string interpolation and it's a really slick way concatenate strings; to shove a variable into a string."
   ]
  },
  {
   "cell_type": "code",
   "execution_count": 132,
   "id": "76bd5ad5",
   "metadata": {},
   "outputs": [
    {
     "name": "stdout",
     "output_type": "stream",
     "text": [
      "The Porsche 911 Turbo S is a very fast car\n"
     ]
    }
   ],
   "source": [
    "# Let's start with .format()\n",
    "print(\"The {} is a very fast car\".format('Porsche 911 Turbo S'))"
   ]
  },
  {
   "cell_type": "markdown",
   "id": "5014beac",
   "metadata": {},
   "source": [
    "Do you see how this works?\n",
    "**print(\"Blah {}\".format('INSERT_THIS'))**"
   ]
  },
  {
   "cell_type": "code",
   "execution_count": 134,
   "id": "d7ad9f00",
   "metadata": {},
   "outputs": [
    {
     "name": "stdout",
     "output_type": "stream",
     "text": [
      "The is a very fast car\n"
     ]
    }
   ],
   "source": [
    "# We are using the print() function with some text\n",
    "print(\"The is a very fast car\")"
   ]
  },
  {
   "cell_type": "code",
   "execution_count": 137,
   "id": "38b1c5c8",
   "metadata": {},
   "outputs": [
    {
     "name": "stdout",
     "output_type": "stream",
     "text": [
      "Let's go buy the Porsche 911 Turbo S today\n"
     ]
    }
   ],
   "source": [
    "# But we want to inject the phrase \"Porsche 911 Turbo S\" so we put that in a format function like this\n",
    "# format(\"Porsche 911 Turbo S\")\n",
    "# And then we just put two enclosing curly braces inside the string everywhere we want that variable to appear\n",
    "print(\"Let's go buy the {} today\".format('Porsche 911 Turbo S'))"
   ]
  },
  {
   "cell_type": "code",
   "execution_count": 139,
   "id": "c6ea0624",
   "metadata": {},
   "outputs": [
    {
     "name": "stdout",
     "output_type": "stream",
     "text": [
      "I purchased the Porsche 911 Turbo S, Audi R8 and Land Rover Range Rover\n"
     ]
    }
   ],
   "source": [
    "# One of the nice things about this .format method is strings can be inserted based on index position\n",
    "print(\"I purchased the {}, {} and {}\".format('Porsche 911 Turbo S','Audi R8','Land Rover Range Rover'))"
   ]
  },
  {
   "cell_type": "code",
   "execution_count": 140,
   "id": "a70f3b49",
   "metadata": {},
   "outputs": [
    {
     "name": "stdout",
     "output_type": "stream",
     "text": [
      "I purchased the Land Rover Range Rover, Audi R8 and Porsche 911 Turbo S\n"
     ]
    }
   ],
   "source": [
    "# So .format() inserted them in the same order we placed them but we can specify the index positions to switch up how the output is returned\n",
    "print(\"I purchased the {2}, {1} and {0}\".format('Porsche 911 Turbo S','Audi R8','Land Rover Range Rover'))"
   ]
  },
  {
   "cell_type": "code",
   "execution_count": 144,
   "id": "7f6f9b9e",
   "metadata": {},
   "outputs": [
    {
     "name": "stdout",
     "output_type": "stream",
     "text": [
      "I purchased the same car three times: Porsche 911 Turbo S, Porsche 911 Turbo S and Porsche 911 Turbo S\n"
     ]
    }
   ],
   "source": [
    "# Or I can make them all the same based on index position\n",
    "print(\"I purchased the same car three times: {0}, {0} and {0}\".format('Porsche 911 Turbo S','Audi R8','Land Rover Range Rover'))"
   ]
  },
  {
   "cell_type": "code",
   "execution_count": 145,
   "id": "0c891f86",
   "metadata": {},
   "outputs": [
    {
     "name": "stdout",
     "output_type": "stream",
     "text": [
      "I purchased the Land Rover Range Rover, Audi R8 and Porsche 911 Turbo S\n"
     ]
    }
   ],
   "source": [
    "# And you can create little variables in the format method as a stand-in\n",
    "print(\"I purchased the {l}, {a} and {p}\".format(p='Porsche 911 Turbo S',a='Audi R8',l='Land Rover Range Rover'))"
   ]
  },
  {
   "cell_type": "code",
   "execution_count": 146,
   "id": "646a49cd",
   "metadata": {},
   "outputs": [],
   "source": [
    "# Let's shift gears a little bit and talk about float formatting.  We can adjust the precision and width of a number.  So let's say we have this number:\n",
    "porsche_cost = 225304.03940392"
   ]
  },
  {
   "cell_type": "code",
   "execution_count": 147,
   "id": "38bbc5ee",
   "metadata": {},
   "outputs": [
    {
     "data": {
      "text/plain": [
       "float"
      ]
     },
     "execution_count": 147,
     "metadata": {},
     "output_type": "execute_result"
    }
   ],
   "source": [
    "type(porsche_cost)"
   ]
  },
  {
   "cell_type": "code",
   "execution_count": 148,
   "id": "0690acb3",
   "metadata": {},
   "outputs": [
    {
     "name": "stdout",
     "output_type": "stream",
     "text": [
      "The Porsche 911 Turbo S costs 225304.03940392 USD\n"
     ]
    }
   ],
   "source": [
    "print(\"The Porsche 911 Turbo S costs {c} USD\".format(c=porsche_cost))"
   ]
  },
  {
   "cell_type": "markdown",
   "id": "c52509d1",
   "metadata": {},
   "source": [
    "Here's the float format\n",
    "**\"{value:whitespace.precision f}\"**"
   ]
  },
  {
   "cell_type": "code",
   "execution_count": 153,
   "id": "e21c2769",
   "metadata": {},
   "outputs": [
    {
     "name": "stdout",
     "output_type": "stream",
     "text": [
      "The Porsche 911 Turbo S costs 225304.04 USD\n"
     ]
    }
   ],
   "source": [
    "# We pass in the value a colon and the whitespace width and the precision \n",
    "print(\"The Porsche 911 Turbo S costs {c:1.2f} USD\".format(c=porsche_cost))"
   ]
  },
  {
   "cell_type": "markdown",
   "id": "b9d3f74b",
   "metadata": {},
   "source": [
    "There's a new way to do this with format string literals"
   ]
  },
  {
   "cell_type": "code",
   "execution_count": 158,
   "id": "1ed0a43c",
   "metadata": {},
   "outputs": [],
   "source": [
    "author = \"Vonnie Hudson\""
   ]
  },
  {
   "cell_type": "code",
   "execution_count": 160,
   "id": "e36a31bb",
   "metadata": {},
   "outputs": [
    {
     "name": "stdout",
     "output_type": "stream",
     "text": [
      "Hey, my name is Vonnie Hudson\n"
     ]
    }
   ],
   "source": [
    "print(f'Hey, my name is {author}')"
   ]
  },
  {
   "cell_type": "code",
   "execution_count": 162,
   "id": "1983d5fc",
   "metadata": {},
   "outputs": [
    {
     "name": "stdout",
     "output_type": "stream",
     "text": [
      "Hey my name is Vonnie Hudson and I'm 35 years old.\n"
     ]
    }
   ],
   "source": [
    "# These are f string or format string literals.  It's just super convenient.  You can also do this with multiple variables\n",
    "author = \"Vonnie Hudson\"\n",
    "age = 35\n",
    "print(f\"Hey my name is {author} and I'm {age} years old.\")"
   ]
  },
  {
   "cell_type": "markdown",
   "id": "487bc3e1",
   "metadata": {},
   "source": [
    "Nice! so you got through the Strings section! In the next lecture we'll dig into the list data type.  Let's do this baby!"
   ]
  }
 ],
 "metadata": {
  "kernelspec": {
   "display_name": "Python 3 (ipykernel)",
   "language": "python",
   "name": "python3"
  },
  "language_info": {
   "codemirror_mode": {
    "name": "ipython",
    "version": 3
   },
   "file_extension": ".py",
   "mimetype": "text/x-python",
   "name": "python",
   "nbconvert_exporter": "python",
   "pygments_lexer": "ipython3",
   "version": "3.9.7"
  }
 },
 "nbformat": 4,
 "nbformat_minor": 5
}
