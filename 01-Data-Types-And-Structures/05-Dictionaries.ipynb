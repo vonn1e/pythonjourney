{
 "cells": [
  {
   "cell_type": "markdown",
   "id": "d3327285",
   "metadata": {},
   "source": [
    "# Dictionaries\n",
    "## Nope, has nothing to do with Merriam-Webster\n",
    "\n",
    "Dictionaries are UNORDERED data strutures for storing objects.  Lists were ORDERED but Disctionaries are UNORDERED.  This means the data is referenced differently.  Instead of using a number we use a key-value pair - which can be more convenient in some scenarios.\n",
    "\n",
    "The syntax is pretty simple:\n",
    "\n",
    "**{'key_a':'value_a','key_b':'value_b'}**\n",
    "\n",
    "So since dictionaries aren't ordered they can't be sorted so it's best to use these when you don't need to know its exact location, you just need to know the key name.  Lists let you select based on the index location so with diciontaries you can't slice and dice like Lists.  \n",
    "\n",
    "## Here's what you will learn:\n",
    "1. How to create Dictionaries\n",
    "2. How to retrieve objects in Dictionaries\n",
    "3. How to retrieve objects from NESTED Dictionaries\n",
    "4. How to use methods on Dictionaries\n",
    "\n",
    "Let's jump into creating some basic dictionaries!\n",
    "\n",
    "## How To Create Dictionaries"
   ]
  },
  {
   "cell_type": "code",
   "execution_count": 38,
   "id": "0e4cd414",
   "metadata": {},
   "outputs": [],
   "source": [
    "# Let's start with a basic usecase: Grades Lookup.  Let's say you took two classes last fall and scored as follows\n",
    "grades = {'astronomy':100,'history':68}"
   ]
  },
  {
   "cell_type": "code",
   "execution_count": 39,
   "id": "8972aeea",
   "metadata": {},
   "outputs": [
    {
     "data": {
      "text/plain": [
       "dict"
      ]
     },
     "execution_count": 39,
     "metadata": {},
     "output_type": "execute_result"
    }
   ],
   "source": [
    "type(grades)"
   ]
  },
  {
   "cell_type": "markdown",
   "id": "8ddbf855",
   "metadata": {},
   "source": [
    "## How to retrieve objects in Dictionaries\n",
    "Now let's try to get some data out of these dictionaries"
   ]
  },
  {
   "cell_type": "code",
   "execution_count": 40,
   "id": "c95da822",
   "metadata": {},
   "outputs": [
    {
     "data": {
      "text/plain": [
       "100"
      ]
     },
     "execution_count": 40,
     "metadata": {},
     "output_type": "execute_result"
    }
   ],
   "source": [
    "# To retrieve a specific value for a given key you can type this:\n",
    "grades['astronomy']"
   ]
  },
  {
   "cell_type": "code",
   "execution_count": 41,
   "id": "469ddeb4",
   "metadata": {},
   "outputs": [],
   "source": [
    "# We can also mix types.  For example, the below dictionary shows sample salaries some as strings and some as integers and floats.\n",
    "salaries = {'bob':50000,'steven':'too much to count','julie':105000,'janice':75000.00}"
   ]
  },
  {
   "cell_type": "code",
   "execution_count": 42,
   "id": "a953f06b",
   "metadata": {},
   "outputs": [
    {
     "data": {
      "text/plain": [
       "50000"
      ]
     },
     "execution_count": 42,
     "metadata": {},
     "output_type": "execute_result"
    }
   ],
   "source": [
    "# We can easily retrieve any value we want based on the key\n",
    "salaries['bob']"
   ]
  },
  {
   "cell_type": "markdown",
   "id": "938b3ecd",
   "metadata": {},
   "source": [
    "## How to retrieve objects from NESTED Dictionaries\n",
    "Things are about to get a little more... how shall we say... complicated!  It's not too bad - let me show ya."
   ]
  },
  {
   "cell_type": "code",
   "execution_count": 45,
   "id": "827a5ed3",
   "metadata": {},
   "outputs": [],
   "source": [
    "# We can even nest dictionaries... I know this sounds crazy but its not too bad when you think about it.  Check this out\n",
    "\n",
    "hard = {'k1':1,'k2':[0,1,2],'k3':{'type':'password','secret':1337}}"
   ]
  },
  {
   "cell_type": "code",
   "execution_count": 46,
   "id": "77b2eee2",
   "metadata": {},
   "outputs": [
    {
     "data": {
      "text/plain": [
       "dict"
      ]
     },
     "execution_count": 46,
     "metadata": {},
     "output_type": "execute_result"
    }
   ],
   "source": [
    "type(hard)"
   ]
  },
  {
   "cell_type": "code",
   "execution_count": 47,
   "id": "d7a5cb9e",
   "metadata": {},
   "outputs": [
    {
     "data": {
      "text/plain": [
       "{'type': 'password', 'secret': 1337}"
      ]
     },
     "execution_count": 47,
     "metadata": {},
     "output_type": "execute_result"
    }
   ],
   "source": [
    "# How do you think you can get that secret value? Let's start small\n",
    "hard['k3']"
   ]
  },
  {
   "cell_type": "code",
   "execution_count": 48,
   "id": "f2cd668e",
   "metadata": {},
   "outputs": [
    {
     "data": {
      "text/plain": [
       "1337"
      ]
     },
     "execution_count": 48,
     "metadata": {},
     "output_type": "execute_result"
    }
   ],
   "source": [
    "hard['k3']['secret']"
   ]
  },
  {
   "cell_type": "code",
   "execution_count": 49,
   "id": "f6a0dd67",
   "metadata": {},
   "outputs": [
    {
     "data": {
      "text/plain": [
       "'password'"
      ]
     },
     "execution_count": 49,
     "metadata": {},
     "output_type": "execute_result"
    }
   ],
   "source": [
    "# You can even apply methods to your dictionaries similar to what we've learned with Strings and Lists\n",
    "hard['k3']['type']"
   ]
  },
  {
   "cell_type": "markdown",
   "id": "1d29423c",
   "metadata": {},
   "source": [
    "## How to use methods on Dictionaries"
   ]
  },
  {
   "cell_type": "code",
   "execution_count": 50,
   "id": "c6acec17",
   "metadata": {},
   "outputs": [
    {
     "data": {
      "text/plain": [
       "'PASSWORD'"
      ]
     },
     "execution_count": 50,
     "metadata": {},
     "output_type": "execute_result"
    }
   ],
   "source": [
    "hard['k3']['type'].upper()"
   ]
  },
  {
   "cell_type": "code",
   "execution_count": 67,
   "id": "5a9abc58",
   "metadata": {},
   "outputs": [
    {
     "data": {
      "text/plain": [
       "'password'"
      ]
     },
     "execution_count": 67,
     "metadata": {},
     "output_type": "execute_result"
    }
   ],
   "source": [
    "hard['k3']['type'].lower()"
   ]
  },
  {
   "cell_type": "code",
   "execution_count": 54,
   "id": "d789fb1a",
   "metadata": {},
   "outputs": [
    {
     "data": {
      "text/plain": [
       "1337"
      ]
     },
     "execution_count": 54,
     "metadata": {},
     "output_type": "execute_result"
    }
   ],
   "source": [
    "# You can perform math operations on dictionary values too\n",
    "hard['k3']['secret']"
   ]
  },
  {
   "cell_type": "code",
   "execution_count": 55,
   "id": "3fd9ea10",
   "metadata": {},
   "outputs": [
    {
     "data": {
      "text/plain": [
       "1338"
      ]
     },
     "execution_count": 55,
     "metadata": {},
     "output_type": "execute_result"
    }
   ],
   "source": [
    "hard['k3']['secret'] + 1"
   ]
  },
  {
   "cell_type": "code",
   "execution_count": 57,
   "id": "534567ba",
   "metadata": {},
   "outputs": [
    {
     "data": {
      "text/plain": [
       "dict_keys(['k1', 'k2', 'k3'])"
      ]
     },
     "execution_count": 57,
     "metadata": {},
     "output_type": "execute_result"
    }
   ],
   "source": [
    "# Lets say you wanted to view all key names in a dict.  You can do that with the keys() method\n",
    "hard.keys()"
   ]
  },
  {
   "cell_type": "code",
   "execution_count": 58,
   "id": "d3929846",
   "metadata": {},
   "outputs": [
    {
     "data": {
      "text/plain": [
       "dict_values([1, [0, 1, 2], {'type': 'password', 'secret': 1337}])"
      ]
     },
     "execution_count": 58,
     "metadata": {},
     "output_type": "execute_result"
    }
   ],
   "source": [
    "# Same applies for values\n",
    "hard.values()"
   ]
  },
  {
   "cell_type": "code",
   "execution_count": 60,
   "id": "4267d4b5",
   "metadata": {},
   "outputs": [
    {
     "data": {
      "text/plain": [
       "dict_items([('k1', 1), ('k2', [0, 1, 2]), ('k3', {'type': 'password', 'secret': 1337})])"
      ]
     },
     "execution_count": 60,
     "metadata": {},
     "output_type": "execute_result"
    }
   ],
   "source": [
    "# And you can get all items (keys and values) at once with items().\n",
    "hard.items()"
   ]
  },
  {
   "cell_type": "markdown",
   "id": "9eaddc97",
   "metadata": {},
   "source": [
    "That last item was actually a new data type we haven't learned about yet called a Tuple!  This is the perfect segway as we will learn it in the next lecture!\n",
    "\n",
    "Let's go!\n"
   ]
  }
 ],
 "metadata": {
  "kernelspec": {
   "display_name": "Python 3 (ipykernel)",
   "language": "python",
   "name": "python3"
  },
  "language_info": {
   "codemirror_mode": {
    "name": "ipython",
    "version": 3
   },
   "file_extension": ".py",
   "mimetype": "text/x-python",
   "name": "python",
   "nbconvert_exporter": "python",
   "pygments_lexer": "ipython3",
   "version": "3.9.7"
  }
 },
 "nbformat": 4,
 "nbformat_minor": 5
}
