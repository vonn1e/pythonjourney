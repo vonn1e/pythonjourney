{
 "cells": [
  {
   "cell_type": "markdown",
   "id": "2cfdeaf4",
   "metadata": {},
   "source": [
    "# Bools\n",
    "## Bools are simple True or False?\n",
    "\n",
    "True ofcourse! Booleans (colloquially known as Bools) determine if something is true or false.  Bools are also placeholders for the None object.  Bools are actually really simple to understand (which is good since they are the bedrock upon which all conditional operators like loops and if statements are based upon).  You can't have control flow without the humble Bool type! So let's explore this little but power data type!\n",
    "\n",
    "## What you will learn\n",
    "1. How to define Bools\n",
    "\n",
    "## How to define Bools"
   ]
  },
  {
   "cell_type": "code",
   "execution_count": 8,
   "id": "9ed66205",
   "metadata": {},
   "outputs": [
    {
     "ename": "NameError",
     "evalue": "name 'true' is not defined",
     "output_type": "error",
     "traceback": [
      "\u001b[1;31m---------------------------------------------------------------------------\u001b[0m",
      "\u001b[1;31mNameError\u001b[0m                                 Traceback (most recent call last)",
      "\u001b[1;32m~\\AppData\\Local\\Temp/ipykernel_6036/155442993.py\u001b[0m in \u001b[0;36m<module>\u001b[1;34m\u001b[0m\n\u001b[0;32m      1\u001b[0m \u001b[1;31m# Make sure you use a capital T or F for True or False otherwise it will confuse the crap out of Python\u001b[0m\u001b[1;33m\u001b[0m\u001b[1;33m\u001b[0m\u001b[0m\n\u001b[1;32m----> 2\u001b[1;33m \u001b[0mtrue\u001b[0m\u001b[1;33m\u001b[0m\u001b[1;33m\u001b[0m\u001b[0m\n\u001b[0m",
      "\u001b[1;31mNameError\u001b[0m: name 'true' is not defined"
     ]
    }
   ],
   "source": [
    "# Make sure you use a capital T or F for True or False otherwise it will confuse the crap out of Python\n",
    "true"
   ]
  },
  {
   "cell_type": "code",
   "execution_count": 9,
   "id": "9c4f5d86",
   "metadata": {},
   "outputs": [
    {
     "data": {
      "text/plain": [
       "True"
      ]
     },
     "execution_count": 9,
     "metadata": {},
     "output_type": "execute_result"
    }
   ],
   "source": [
    "True"
   ]
  },
  {
   "cell_type": "code",
   "execution_count": 1,
   "id": "521ac59d",
   "metadata": {},
   "outputs": [],
   "source": [
    "# Okay, so let's make our first Boolean object here\n",
    "like_ice_cream = True"
   ]
  },
  {
   "cell_type": "code",
   "execution_count": 2,
   "id": "5d2c56d0",
   "metadata": {},
   "outputs": [
    {
     "data": {
      "text/plain": [
       "True"
      ]
     },
     "execution_count": 2,
     "metadata": {},
     "output_type": "execute_result"
    }
   ],
   "source": [
    "like_ice_cream"
   ]
  },
  {
   "cell_type": "code",
   "execution_count": 3,
   "id": "452da639",
   "metadata": {},
   "outputs": [
    {
     "data": {
      "text/plain": [
       "bool"
      ]
     },
     "execution_count": 3,
     "metadata": {},
     "output_type": "execute_result"
    }
   ],
   "source": [
    "type(like_ice_cream)"
   ]
  },
  {
   "cell_type": "code",
   "execution_count": 4,
   "id": "a1360138",
   "metadata": {},
   "outputs": [
    {
     "data": {
      "text/plain": [
       "False"
      ]
     },
     "execution_count": 4,
     "metadata": {},
     "output_type": "execute_result"
    }
   ],
   "source": [
    "# Alright, simple enough.  We can also use comparison operators (coming up in the next lecture) to create a Boolean object.\n",
    "1 > 9000"
   ]
  },
  {
   "cell_type": "code",
   "execution_count": 5,
   "id": "12bc3575",
   "metadata": {},
   "outputs": [
    {
     "data": {
      "text/plain": [
       "bool"
      ]
     },
     "execution_count": 5,
     "metadata": {},
     "output_type": "execute_result"
    }
   ],
   "source": [
    "type(1>9000)"
   ]
  },
  {
   "cell_type": "code",
   "execution_count": 6,
   "id": "2a0ba80a",
   "metadata": {},
   "outputs": [],
   "source": [
    "# Notice the result is \"False\" with a capital \"F\".  true is not \"True\" and false is not \"False\".  Bools use the capital truth keywords, lowercase true and false keywords are NOT Bools.\n",
    "# Let's set a variable to the None type\n",
    "nothing = None"
   ]
  },
  {
   "cell_type": "code",
   "execution_count": 7,
   "id": "18b2ce8f",
   "metadata": {},
   "outputs": [
    {
     "data": {
      "text/plain": [
       "NoneType"
      ]
     },
     "execution_count": 7,
     "metadata": {},
     "output_type": "execute_result"
    }
   ],
   "source": [
    "type(nothing)"
   ]
  },
  {
   "cell_type": "markdown",
   "id": "dd020777",
   "metadata": {},
   "source": [
    "None types techicanlly aren't Bools but I put theme here since they are tangentially related when it comes to comparison operators!  Alright, so that's all we need to go over here - in the next lecture we will dig into Comparison Operators!  Let's do this baby!"
   ]
  },
  {
   "cell_type": "code",
   "execution_count": null,
   "id": "92c70f1c",
   "metadata": {},
   "outputs": [],
   "source": []
  }
 ],
 "metadata": {
  "kernelspec": {
   "display_name": "Python 3 (ipykernel)",
   "language": "python",
   "name": "python3"
  },
  "language_info": {
   "codemirror_mode": {
    "name": "ipython",
    "version": 3
   },
   "file_extension": ".py",
   "mimetype": "text/x-python",
   "name": "python",
   "nbconvert_exporter": "python",
   "pygments_lexer": "ipython3",
   "version": "3.9.7"
  }
 },
 "nbformat": 4,
 "nbformat_minor": 5
}
