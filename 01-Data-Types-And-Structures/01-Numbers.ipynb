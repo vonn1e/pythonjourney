{
 "cells": [
  {
   "cell_type": "markdown",
   "id": "961d52f2",
   "metadata": {},
   "source": [
    "# Numbers\n",
    "## Using Python Like a Glorified Calculator\n",
    "\n",
    "----\n",
    "\n",
    "### Here's what you will learn:\n",
    "1. How Python \"thinks\" about numbers\n",
    "2. Basic Python Arithmetic"
   ]
  },
  {
   "attachments": {},
   "cell_type": "markdown",
   "id": "07a8d783",
   "metadata": {},
   "source": [
    "## 1. How Python \"thinks\" about numbers\n",
    "Let's talk about Integers and Floats.\n",
    "\n",
    "So an integer is just a whole number.  It can be positive or negative.  For example, -1, 0 and 1 are integers.\n",
    "\n",
    "Conversely, a Float is a number with a decimal point.  I like to remember this by remembering the decimal point can float to the left or right in the number!  Kinda' cheezy I know but it works for me.\n",
    "\n",
    "-1.0 0.0 and 1.0 are floating numbers\n",
    "\n",
    "## 2. Basic Python Arithmetic"
   ]
  },
  {
   "cell_type": "code",
   "execution_count": 1,
   "id": "39627f28",
   "metadata": {},
   "outputs": [
    {
     "data": {
      "text/plain": [
       "2"
      ]
     },
     "execution_count": 1,
     "metadata": {},
     "output_type": "execute_result"
    }
   ],
   "source": [
    "# Addition\n",
    "1+1"
   ]
  },
  {
   "cell_type": "code",
   "execution_count": 2,
   "id": "83d3cee0",
   "metadata": {},
   "outputs": [
    {
     "data": {
      "text/plain": [
       "1"
      ]
     },
     "execution_count": 2,
     "metadata": {},
     "output_type": "execute_result"
    }
   ],
   "source": [
    "# Subtraction\n",
    "2-1"
   ]
  },
  {
   "cell_type": "code",
   "execution_count": 3,
   "id": "b590e4a6",
   "metadata": {},
   "outputs": [
    {
     "data": {
      "text/plain": [
       "4"
      ]
     },
     "execution_count": 3,
     "metadata": {},
     "output_type": "execute_result"
    }
   ],
   "source": [
    "# Multiplication\n",
    "2*2"
   ]
  },
  {
   "cell_type": "code",
   "execution_count": 4,
   "id": "0b8d4e74",
   "metadata": {},
   "outputs": [
    {
     "data": {
      "text/plain": [
       "2.0"
      ]
     },
     "execution_count": 4,
     "metadata": {},
     "output_type": "execute_result"
    }
   ],
   "source": [
    "# Division\n",
    "4/2"
   ]
  },
  {
   "cell_type": "code",
   "execution_count": 6,
   "id": "a6554573",
   "metadata": {},
   "outputs": [
    {
     "data": {
      "text/plain": [
       "2.5"
      ]
     },
     "execution_count": 6,
     "metadata": {},
     "output_type": "execute_result"
    }
   ],
   "source": [
    "# More Division\n",
    "5/2"
   ]
  },
  {
   "cell_type": "code",
   "execution_count": 7,
   "id": "ec650eda",
   "metadata": {},
   "outputs": [
    {
     "data": {
      "text/plain": [
       "2"
      ]
     },
     "execution_count": 7,
     "metadata": {},
     "output_type": "execute_result"
    }
   ],
   "source": [
    "# Floor Division, note the double forward slash\n",
    "5//2"
   ]
  },
  {
   "cell_type": "markdown",
   "id": "68066343",
   "metadata": {},
   "source": [
    "**Wait, did you see that?? Floor Division is interesting eh?** \n",
    "\n",
    "When you put that double forward slash between two numbers it tells the Python interpreter to truncate the answer without rounding.  So you'll always get an unrounded integer result here"
   ]
  },
  {
   "cell_type": "code",
   "execution_count": 8,
   "id": "e5a7d9fb",
   "metadata": {},
   "outputs": [
    {
     "data": {
      "text/plain": [
       "1"
      ]
     },
     "execution_count": 8,
     "metadata": {},
     "output_type": "execute_result"
    }
   ],
   "source": [
    "# Modulo Division\n",
    "5%2"
   ]
  },
  {
   "cell_type": "markdown",
   "id": "a9aecce0",
   "metadata": {},
   "source": [
    "** Module Division? ** \n",
    "\n",
    "Okay, did you see what happened here too?  When you put that little percent symbol in the place of a single forward slash you tell the Python intepreter to divide the numbers but only return the remainder.  \n",
    "\n",
    "So why would you want that?\n",
    "\n",
    "Well, one use case is, it's a great way to determine if an number is even or not! "
   ]
  },
  {
   "cell_type": "code",
   "execution_count": 9,
   "id": "195cc0f0",
   "metadata": {},
   "outputs": [
    {
     "data": {
      "text/plain": [
       "0"
      ]
     },
     "execution_count": 9,
     "metadata": {},
     "output_type": "execute_result"
    }
   ],
   "source": [
    "# Is it even?\n",
    "4%2"
   ]
  },
  {
   "cell_type": "code",
   "execution_count": 10,
   "id": "62f264fd",
   "metadata": {},
   "outputs": [
    {
     "data": {
      "text/plain": [
       "32"
      ]
     },
     "execution_count": 10,
     "metadata": {},
     "output_type": "execute_result"
    }
   ],
   "source": [
    "# We can raise numbers to various powers as well.  Let's raise 2 to the fifth power.\n",
    "2**5"
   ]
  },
  {
   "cell_type": "code",
   "execution_count": 11,
   "id": "06d04709",
   "metadata": {},
   "outputs": [
    {
     "data": {
      "text/plain": [
       "2.0"
      ]
     },
     "execution_count": 11,
     "metadata": {},
     "output_type": "execute_result"
    }
   ],
   "source": [
    "# And we can do roots.  You may have forgotten this from school, but you can take the square root of a number by raising it to the 1/2 power!\n",
    "4**0.5"
   ]
  },
  {
   "cell_type": "code",
   "execution_count": 12,
   "id": "9bbbc240",
   "metadata": {},
   "outputs": [
    {
     "data": {
      "text/plain": [
       "8"
      ]
     },
     "execution_count": 12,
     "metadata": {},
     "output_type": "execute_result"
    }
   ],
   "source": [
    "# And let's not forget PEMDAS (Please Excuse My Dear Aunt Sally)\n",
    "1 + 2 * 2 + 3"
   ]
  },
  {
   "cell_type": "code",
   "execution_count": 13,
   "id": "bc8a7f40",
   "metadata": {},
   "outputs": [
    {
     "data": {
      "text/plain": [
       "15"
      ]
     },
     "execution_count": 13,
     "metadata": {},
     "output_type": "execute_result"
    }
   ],
   "source": [
    "# If that result wasn't desireable, you can force the desired outcome with parenthesis!  Check it out:\n",
    "(1+2) * (2+3)"
   ]
  },
  {
   "cell_type": "markdown",
   "id": "7bf83642",
   "metadata": {},
   "source": [
    "So that's it for this lecture - in the next one we'll dig into assigning variables in Python3.  \n",
    "\n",
    "Let's go baby!"
   ]
  },
  {
   "cell_type": "code",
   "execution_count": null,
   "id": "1cb4da2d",
   "metadata": {},
   "outputs": [],
   "source": []
  }
 ],
 "metadata": {
  "kernelspec": {
   "display_name": "Python 3 (ipykernel)",
   "language": "python",
   "name": "python3"
  },
  "language_info": {
   "codemirror_mode": {
    "name": "ipython",
    "version": 3
   },
   "file_extension": ".py",
   "mimetype": "text/x-python",
   "name": "python",
   "nbconvert_exporter": "python",
   "pygments_lexer": "ipython3",
   "version": "3.9.7"
  }
 },
 "nbformat": 4,
 "nbformat_minor": 5
}
