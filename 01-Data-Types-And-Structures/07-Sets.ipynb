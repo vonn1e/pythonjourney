{
 "cells": [
  {
   "cell_type": "markdown",
   "id": "058b8d18",
   "metadata": {},
   "source": [
    "# SETS!\n",
    "## Often misunderstood and underappreciated!\n",
    "\n",
    "Sets are collections of elements.  Okay, so far nothing new right? The key difference here is they are UNORDERED and they are UNIQUE.\n",
    "You can't have the same element represented multiple times in a set\n",
    "\n",
    "## What you will learn\n",
    "1. How to create a set\n",
    "2. Set use cases\n",
    "\n",
    "## How to Create a Set"
   ]
  },
  {
   "cell_type": "code",
   "execution_count": 1,
   "id": "2e28bf6e",
   "metadata": {},
   "outputs": [],
   "source": [
    "# We can make an empty set by assigning the set() function to a new variable\n",
    "basic_set = set()"
   ]
  },
  {
   "cell_type": "code",
   "execution_count": 2,
   "id": "a3a088d3",
   "metadata": {},
   "outputs": [
    {
     "data": {
      "text/plain": [
       "set()"
      ]
     },
     "execution_count": 2,
     "metadata": {},
     "output_type": "execute_result"
    }
   ],
   "source": [
    "basic_set"
   ]
  },
  {
   "cell_type": "code",
   "execution_count": 3,
   "id": "e375c534",
   "metadata": {},
   "outputs": [
    {
     "data": {
      "text/plain": [
       "set"
      ]
     },
     "execution_count": 3,
     "metadata": {},
     "output_type": "execute_result"
    }
   ],
   "source": [
    "type(basic_set)"
   ]
  },
  {
   "cell_type": "code",
   "execution_count": 6,
   "id": "3db6885a",
   "metadata": {},
   "outputs": [],
   "source": [
    "# Okay, so let's add the number 1 to the set\n",
    "basic_set.add(1)"
   ]
  },
  {
   "cell_type": "code",
   "execution_count": 8,
   "id": "7132936a",
   "metadata": {},
   "outputs": [
    {
     "data": {
      "text/plain": [
       "{1}"
      ]
     },
     "execution_count": 8,
     "metadata": {},
     "output_type": "execute_result"
    }
   ],
   "source": [
    "# When you view a set, at first glance, it looks like a dictionary because of the curly braces! But it's not! The way you can tell is there are NO key value pairs... just values. Tricky I know...\n",
    "basic_set"
   ]
  },
  {
   "cell_type": "code",
   "execution_count": 9,
   "id": "9ee86a2a",
   "metadata": {},
   "outputs": [
    {
     "data": {
      "text/plain": [
       "set"
      ]
     },
     "execution_count": 9,
     "metadata": {},
     "output_type": "execute_result"
    }
   ],
   "source": [
    "type(basic_set)"
   ]
  },
  {
   "cell_type": "code",
   "execution_count": 12,
   "id": "5eb2bdba",
   "metadata": {},
   "outputs": [],
   "source": [
    "# Let's add another value to the set\n",
    "basic_set.add(2)"
   ]
  },
  {
   "cell_type": "code",
   "execution_count": 11,
   "id": "7e6ed0bc",
   "metadata": {},
   "outputs": [
    {
     "data": {
      "text/plain": [
       "{1, 2}"
      ]
     },
     "execution_count": 11,
     "metadata": {},
     "output_type": "execute_result"
    }
   ],
   "source": [
    "basic_set"
   ]
  },
  {
   "cell_type": "code",
   "execution_count": 13,
   "id": "8adcb00f",
   "metadata": {},
   "outputs": [],
   "source": [
    "# Let's add a duplicate.  We'll add the number 2 again\n",
    "basic_set.add(2)"
   ]
  },
  {
   "cell_type": "code",
   "execution_count": 15,
   "id": "5ad2687e",
   "metadata": {},
   "outputs": [
    {
     "data": {
      "text/plain": [
       "{1, 2}"
      ]
     },
     "execution_count": 15,
     "metadata": {},
     "output_type": "execute_result"
    }
   ],
   "source": [
    "# But see that? It didn't include the duplicate just the unique values.  That's what makes a set a set.\n",
    "basic_set"
   ]
  },
  {
   "cell_type": "code",
   "execution_count": 16,
   "id": "98ee7c00",
   "metadata": {},
   "outputs": [],
   "source": [
    "# So a good use case for sets might be to type cast a list, which can contain duplicates, to a set so you would basically extract the unique values\n",
    "my_list = ['a','a','a','b','b','c']"
   ]
  },
  {
   "cell_type": "code",
   "execution_count": 17,
   "id": "6be60bd8",
   "metadata": {},
   "outputs": [
    {
     "data": {
      "text/plain": [
       "{'a', 'b', 'c'}"
      ]
     },
     "execution_count": 17,
     "metadata": {},
     "output_type": "execute_result"
    }
   ],
   "source": [
    "set(my_list)"
   ]
  },
  {
   "cell_type": "markdown",
   "id": "36cba38a",
   "metadata": {},
   "source": [
    "Looks like a dictionary because of the curly braces but there's no key value pair - so don't let that trip you up!\n",
    "We'll uses these more later in the course"
   ]
  }
 ],
 "metadata": {
  "kernelspec": {
   "display_name": "Python 3 (ipykernel)",
   "language": "python",
   "name": "python3"
  },
  "language_info": {
   "codemirror_mode": {
    "name": "ipython",
    "version": 3
   },
   "file_extension": ".py",
   "mimetype": "text/x-python",
   "name": "python",
   "nbconvert_exporter": "python",
   "pygments_lexer": "ipython3",
   "version": "3.9.7"
  }
 },
 "nbformat": 4,
 "nbformat_minor": 5
}
