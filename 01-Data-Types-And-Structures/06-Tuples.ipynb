{
 "cells": [
  {
   "cell_type": "markdown",
   "id": "1b20d9da",
   "metadata": {},
   "source": [
    "# Tuples\n",
    "## TWO PULS or TUP PELS - it's da same thing!\n",
    "\n",
    "Tuple are like lists but they are enclosed in parenthesis and are immutable.  So this means once you assign an element in a Tuple, you can't reassign that element to something else.  \n",
    "\n",
    "## Here's what you will learn:\n",
    "1. How to create Tuples\n",
    "2. How to use Tuple methods\n",
    "3. Learn exactly what Tuple IMMUTABILITY means!\n",
    "\n",
    "## How to Create Tuples"
   ]
  },
  {
   "cell_type": "code",
   "execution_count": 24,
   "id": "d809278c",
   "metadata": {},
   "outputs": [],
   "source": [
    "# Creating a tuple is easy.  Just create a parenthesis enclosed list\n",
    "my_tuple = (1,2,3)"
   ]
  },
  {
   "cell_type": "code",
   "execution_count": 23,
   "id": "e1a9d836",
   "metadata": {},
   "outputs": [],
   "source": [
    "# Let's compare it to an ordinary list\n",
    "my_list = [1,2,3]"
   ]
  },
  {
   "cell_type": "code",
   "execution_count": 25,
   "id": "1e544008",
   "metadata": {},
   "outputs": [
    {
     "data": {
      "text/plain": [
       "list"
      ]
     },
     "execution_count": 25,
     "metadata": {},
     "output_type": "execute_result"
    }
   ],
   "source": [
    "type(my_list)"
   ]
  },
  {
   "cell_type": "code",
   "execution_count": 26,
   "id": "dceaabaa",
   "metadata": {},
   "outputs": [
    {
     "data": {
      "text/plain": [
       "tuple"
      ]
     },
     "execution_count": 26,
     "metadata": {},
     "output_type": "execute_result"
    }
   ],
   "source": [
    "type(my_tuple)"
   ]
  },
  {
   "cell_type": "code",
   "execution_count": 28,
   "id": "797101f0",
   "metadata": {},
   "outputs": [
    {
     "data": {
      "text/plain": [
       "3"
      ]
     },
     "execution_count": 28,
     "metadata": {},
     "output_type": "execute_result"
    }
   ],
   "source": [
    "# You can pass tuples to functions like len() just like a string\n",
    "len(my_tuple)"
   ]
  },
  {
   "cell_type": "code",
   "execution_count": 30,
   "id": "9db5eb55",
   "metadata": {},
   "outputs": [],
   "source": [
    "my_mixed_tuple = ('one',2)"
   ]
  },
  {
   "cell_type": "code",
   "execution_count": 31,
   "id": "23496a88",
   "metadata": {},
   "outputs": [
    {
     "data": {
      "text/plain": [
       "'one'"
      ]
     },
     "execution_count": 31,
     "metadata": {},
     "output_type": "execute_result"
    }
   ],
   "source": [
    "my_mixed_tuple[0]"
   ]
  },
  {
   "cell_type": "code",
   "execution_count": 32,
   "id": "e6bc75bb",
   "metadata": {},
   "outputs": [
    {
     "data": {
      "text/plain": [
       "2"
      ]
     },
     "execution_count": 32,
     "metadata": {},
     "output_type": "execute_result"
    }
   ],
   "source": [
    "my_mixed_tuple[-1]"
   ]
  },
  {
   "cell_type": "code",
   "execution_count": 33,
   "id": "d8de7532",
   "metadata": {},
   "outputs": [],
   "source": [
    "my_week = ('mon','tue','wed','thu','fri','sat','sun','wed','wed','mon')"
   ]
  },
  {
   "cell_type": "code",
   "execution_count": 35,
   "id": "c2dd14b0",
   "metadata": {},
   "outputs": [
    {
     "data": {
      "text/plain": [
       "2"
      ]
     },
     "execution_count": 35,
     "metadata": {},
     "output_type": "execute_result"
    }
   ],
   "source": [
    "my_week.count('mon')"
   ]
  },
  {
   "cell_type": "code",
   "execution_count": 36,
   "id": "4706350e",
   "metadata": {},
   "outputs": [
    {
     "data": {
      "text/plain": [
       "1"
      ]
     },
     "execution_count": 36,
     "metadata": {},
     "output_type": "execute_result"
    }
   ],
   "source": [
    "my_week.count('tue')"
   ]
  },
  {
   "cell_type": "code",
   "execution_count": 37,
   "id": "bf5d7fea",
   "metadata": {},
   "outputs": [
    {
     "data": {
      "text/plain": [
       "2"
      ]
     },
     "execution_count": 37,
     "metadata": {},
     "output_type": "execute_result"
    }
   ],
   "source": [
    "# Displays the very first time this item appears in your tuple.  If it appears more than once it'll just show the first appearance\n",
    "my_week.index('wed')"
   ]
  },
  {
   "cell_type": "code",
   "execution_count": 38,
   "id": "bf4407d4",
   "metadata": {},
   "outputs": [
    {
     "data": {
      "text/plain": [
       "3"
      ]
     },
     "execution_count": 38,
     "metadata": {},
     "output_type": "execute_result"
    }
   ],
   "source": [
    "my_week.index('thu')"
   ]
  },
  {
   "cell_type": "code",
   "execution_count": 39,
   "id": "fcd88ef3",
   "metadata": {},
   "outputs": [
    {
     "data": {
      "text/plain": [
       "[1, 2, 3]"
      ]
     },
     "execution_count": 39,
     "metadata": {},
     "output_type": "execute_result"
    }
   ],
   "source": [
    "# This is what makes a tuple \n",
    "my_list"
   ]
  },
  {
   "cell_type": "code",
   "execution_count": 41,
   "id": "056ecd6f",
   "metadata": {},
   "outputs": [],
   "source": [
    "my_list[0] = 'BAM!'"
   ]
  },
  {
   "cell_type": "code",
   "execution_count": 42,
   "id": "d21c5efc",
   "metadata": {},
   "outputs": [
    {
     "data": {
      "text/plain": [
       "['BAM!', 2, 3]"
      ]
     },
     "execution_count": 42,
     "metadata": {},
     "output_type": "execute_result"
    }
   ],
   "source": [
    "my_list"
   ]
  },
  {
   "cell_type": "code",
   "execution_count": 43,
   "id": "e94dd7a5",
   "metadata": {},
   "outputs": [
    {
     "data": {
      "text/plain": [
       "('mon', 'tue', 'wed', 'thu', 'fri', 'sat', 'sun', 'wed', 'wed', 'mon')"
      ]
     },
     "execution_count": 43,
     "metadata": {},
     "output_type": "execute_result"
    }
   ],
   "source": [
    "my_week"
   ]
  },
  {
   "cell_type": "code",
   "execution_count": 44,
   "id": "bc1ba931",
   "metadata": {},
   "outputs": [
    {
     "ename": "TypeError",
     "evalue": "'tuple' object does not support item assignment",
     "output_type": "error",
     "traceback": [
      "\u001b[1;31m---------------------------------------------------------------------------\u001b[0m",
      "\u001b[1;31mTypeError\u001b[0m                                 Traceback (most recent call last)",
      "\u001b[1;32m~\\AppData\\Local\\Temp/ipykernel_360/2011016204.py\u001b[0m in \u001b[0;36m<module>\u001b[1;34m\u001b[0m\n\u001b[0;32m      1\u001b[0m \u001b[1;31m# Immutablility demonstrated!  Provides a great way to enforce data integrity so we can make sure objects don't get changed.  For example if you have a calendar you could represent it as a tuple since those days typically don't change\u001b[0m\u001b[1;33m\u001b[0m\u001b[1;33m\u001b[0m\u001b[0m\n\u001b[1;32m----> 2\u001b[1;33m \u001b[0mmy_week\u001b[0m\u001b[1;33m[\u001b[0m\u001b[1;36m0\u001b[0m\u001b[1;33m]\u001b[0m \u001b[1;33m=\u001b[0m \u001b[1;34m'Vonnie Day'\u001b[0m\u001b[1;33m\u001b[0m\u001b[1;33m\u001b[0m\u001b[0m\n\u001b[0m",
      "\u001b[1;31mTypeError\u001b[0m: 'tuple' object does not support item assignment"
     ]
    }
   ],
   "source": [
    "# Immutablility demonstrated!  Provides a great way to enforce data integrity so we can make sure objects don't get changed.  For example if you have a calendar you could represent it as a tuple since those days typically don't change\n",
    "my_week[0] = 'Vonnie Day'"
   ]
  },
  {
   "cell_type": "code",
   "execution_count": 45,
   "id": "cc17dc95",
   "metadata": {},
   "outputs": [
    {
     "ename": "AttributeError",
     "evalue": "'tuple' object has no attribute 'append'",
     "output_type": "error",
     "traceback": [
      "\u001b[1;31m---------------------------------------------------------------------------\u001b[0m",
      "\u001b[1;31mAttributeError\u001b[0m                            Traceback (most recent call last)",
      "\u001b[1;32m~\\AppData\\Local\\Temp/ipykernel_360/1730249356.py\u001b[0m in \u001b[0;36m<module>\u001b[1;34m\u001b[0m\n\u001b[1;32m----> 1\u001b[1;33m \u001b[0mmy_week\u001b[0m\u001b[1;33m.\u001b[0m\u001b[0mappend\u001b[0m\u001b[1;33m(\u001b[0m\u001b[1;34m'Vonnie Day'\u001b[0m\u001b[1;33m)\u001b[0m\u001b[1;33m\u001b[0m\u001b[1;33m\u001b[0m\u001b[0m\n\u001b[0m",
      "\u001b[1;31mAttributeError\u001b[0m: 'tuple' object has no attribute 'append'"
     ]
    }
   ],
   "source": [
    "my_week.append('Vonnie Day')"
   ]
  },
  {
   "cell_type": "markdown",
   "id": "8fde91ce",
   "metadata": {},
   "source": [
    "Sweet, that's it - short and sweet now lets get into sets!  See you soon"
   ]
  }
 ],
 "metadata": {
  "kernelspec": {
   "display_name": "Python 3 (ipykernel)",
   "language": "python",
   "name": "python3"
  },
  "language_info": {
   "codemirror_mode": {
    "name": "ipython",
    "version": 3
   },
   "file_extension": ".py",
   "mimetype": "text/x-python",
   "name": "python",
   "nbconvert_exporter": "python",
   "pygments_lexer": "ipython3",
   "version": "3.9.7"
  }
 },
 "nbformat": 4,
 "nbformat_minor": 5
}
