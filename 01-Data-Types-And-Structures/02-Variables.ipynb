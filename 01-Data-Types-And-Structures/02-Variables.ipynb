{
 "cells": [
  {
   "cell_type": "markdown",
   "id": "3785685b",
   "metadata": {},
   "source": [
    "# Variables\n",
    "## Assigning Variables like a Boss!\n",
    "---\n",
    "### Here's what you will learn:\n",
    "1. Variable Rules (You can't just do anything you want!)\n",
    "2. Variable Assignment\n",
    "\n",
    "## Variable Rules\n",
    "\n",
    "A variable is just a placeholder for some data.  We save it in a variable so we can easily reference it later.\n",
    "\n",
    "We can almost name our variable *almost* anything we want.  There are just five rules we need to follow.  The good news is you don't really need to remember these rules because if your faithful IDE won't allow you to make an illegal variable name:\n",
    "\n",
    "- No spaces, uses underscore _ instead to make snake_case_like_this\n",
    "- No crazy symbols.  I call this list ascii puke.  No ASCII PUKE ALLOWED! lol \n",
    "- No uppercase characters\n",
    "- No special characters such as bool, str, dict and other reserved keywords\n",
    "- No numbers in the beginning\n",
    "\n",
    "# Variable Assignment\n",
    "\n",
    "Assigning variables in Python is, as my son would say, \"Easy peezy lemon squeezy\".  To do this you just put the name = object.  That single \"=\" sign is the assignment operator"
   ]
  },
  {
   "cell_type": "code",
   "execution_count": 1,
   "id": "f1ec3e39",
   "metadata": {},
   "outputs": [],
   "source": [
    "four_wheel_drive = 1"
   ]
  },
  {
   "cell_type": "code",
   "execution_count": 2,
   "id": "8372b40c",
   "metadata": {},
   "outputs": [
    {
     "data": {
      "text/plain": [
       "1"
      ]
     },
     "execution_count": 2,
     "metadata": {},
     "output_type": "execute_result"
    }
   ],
   "source": [
    "four_wheel_drive"
   ]
  },
  {
   "cell_type": "code",
   "execution_count": 3,
   "id": "ea9d0eaf",
   "metadata": {},
   "outputs": [],
   "source": [
    "four_wheel_drive = [\"Hummer EV Pickup\",\"Grand Cherokee L\",\"Land Rover Range Rover First Edition\"]"
   ]
  },
  {
   "cell_type": "code",
   "execution_count": 4,
   "id": "fe99598c",
   "metadata": {},
   "outputs": [
    {
     "data": {
      "text/plain": [
       "['Hummer EV Pickup',\n",
       " 'Grand Cherokee L',\n",
       " 'Land Rover Range Rover First Edition']"
      ]
     },
     "execution_count": 4,
     "metadata": {},
     "output_type": "execute_result"
    }
   ],
   "source": [
    "four_wheel_drive"
   ]
  },
  {
   "cell_type": "markdown",
   "id": "29484aee",
   "metadata": {},
   "source": [
    "Notice, I was able to reassign the four_wheel_drive variable without any issues.  That's because Python is a Dynamically Typed language.  Being loosely typed like this gives you the programmer more flexibility and decreased friction as you'll be able to code quicker.  \n",
    "\n",
    "Unfortunately, this also means it's easier to unwittingly introduce bugs into your  app (especially when accepting user input so we need to make sure they input data is what we assume it to be.  We can use type() for that."
   ]
  },
  {
   "cell_type": "code",
   "execution_count": 5,
   "id": "2f1f15bf",
   "metadata": {},
   "outputs": [
    {
     "data": {
      "text/plain": [
       "list"
      ]
     },
     "execution_count": 5,
     "metadata": {},
     "output_type": "execute_result"
    }
   ],
   "source": [
    "type(four_wheel_drive)"
   ]
  },
  {
   "cell_type": "code",
   "execution_count": 7,
   "id": "928461cc",
   "metadata": {},
   "outputs": [],
   "source": [
    "# Let's reassign it to a number again\n",
    "four_wheel_drive = 1"
   ]
  },
  {
   "cell_type": "code",
   "execution_count": 8,
   "id": "1de351aa",
   "metadata": {},
   "outputs": [
    {
     "data": {
      "text/plain": [
       "1"
      ]
     },
     "execution_count": 8,
     "metadata": {},
     "output_type": "execute_result"
    }
   ],
   "source": [
    "four_wheel_drive"
   ]
  },
  {
   "cell_type": "code",
   "execution_count": 9,
   "id": "a462fd6c",
   "metadata": {},
   "outputs": [],
   "source": [
    "# We can assign the variable back to itself but with a new value.  Check this out:\n",
    "four_wheel_drive = four_wheel_drive + 1"
   ]
  },
  {
   "cell_type": "code",
   "execution_count": 10,
   "id": "69634dbd",
   "metadata": {},
   "outputs": [
    {
     "data": {
      "text/plain": [
       "2"
      ]
     },
     "execution_count": 10,
     "metadata": {},
     "output_type": "execute_result"
    }
   ],
   "source": [
    "four_wheel_drive"
   ]
  },
  {
   "cell_type": "code",
   "execution_count": 11,
   "id": "03376519",
   "metadata": {},
   "outputs": [],
   "source": [
    "# A shortcut for this is the += operator"
   ]
  },
  {
   "cell_type": "code",
   "execution_count": 12,
   "id": "610c9a2c",
   "metadata": {},
   "outputs": [],
   "source": [
    "four_wheel_drive+=1"
   ]
  },
  {
   "cell_type": "code",
   "execution_count": 13,
   "id": "7698f476",
   "metadata": {},
   "outputs": [
    {
     "data": {
      "text/plain": [
       "3"
      ]
     },
     "execution_count": 13,
     "metadata": {},
     "output_type": "execute_result"
    }
   ],
   "source": [
    "four_wheel_drive"
   ]
  },
  {
   "cell_type": "code",
   "execution_count": 18,
   "id": "0fafb5b5",
   "metadata": {},
   "outputs": [
    {
     "ename": "SyntaxError",
     "evalue": "invalid syntax (Temp/ipykernel_8856/4162600545.py, line 2)",
     "output_type": "error",
     "traceback": [
      "\u001b[1;36m  File \u001b[1;32m\"C:\\Users\\Vonnie\\AppData\\Local\\Temp/ipykernel_8856/4162600545.py\"\u001b[1;36m, line \u001b[1;32m2\u001b[0m\n\u001b[1;33m    9illegal = 1\u001b[0m\n\u001b[1;37m     ^\u001b[0m\n\u001b[1;31mSyntaxError\u001b[0m\u001b[1;31m:\u001b[0m invalid syntax\n"
     ]
    }
   ],
   "source": [
    "# If we try to break the variable rules the IDE will bark at us.  For example, look what happens when I try to create a new variable named float\n",
    "9illegal = 1"
   ]
  },
  {
   "cell_type": "markdown",
   "id": "485b0813",
   "metadata": {},
   "source": [
    "The variable name \"9illegal\" is illegal because it starts with a 9 and the IDE has no qualms telling us not to do that!"
   ]
  },
  {
   "cell_type": "code",
   "execution_count": 26,
   "id": "192ca902",
   "metadata": {},
   "outputs": [],
   "source": [
    "# Finally we can use our variable names in real calculations to make the math really easy to undestand.\n",
    "# Check this out\n",
    "distance_traveled = 30.0\n",
    "time_took = 0.15 \n",
    "speed = distance_traveled / time_took"
   ]
  },
  {
   "cell_type": "code",
   "execution_count": 28,
   "id": "04d824c5",
   "metadata": {},
   "outputs": [
    {
     "data": {
      "text/plain": [
       "200.0"
      ]
     },
     "execution_count": 28,
     "metadata": {},
     "output_type": "execute_result"
    }
   ],
   "source": [
    "speed"
   ]
  },
  {
   "cell_type": "markdown",
   "id": "9ac5a8f0",
   "metadata": {},
   "source": [
    "Excellent!  Are you starting to get the hang of this?  At least a little bit?\n",
    "In the next lecture we're going to Strings baby!  Let's go!!!!"
   ]
  }
 ],
 "metadata": {
  "kernelspec": {
   "display_name": "Python 3 (ipykernel)",
   "language": "python",
   "name": "python3"
  },
  "language_info": {
   "codemirror_mode": {
    "name": "ipython",
    "version": 3
   },
   "file_extension": ".py",
   "mimetype": "text/x-python",
   "name": "python",
   "nbconvert_exporter": "python",
   "pygments_lexer": "ipython3",
   "version": "3.9.7"
  }
 },
 "nbformat": 4,
 "nbformat_minor": 5
}
