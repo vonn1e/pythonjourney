{
 "cells": [
  {
   "cell_type": "markdown",
   "id": "1b3bc480",
   "metadata": {},
   "source": [
    "# Lists\n",
    "## Like Strings, Lists are an ordered sequence but instead of exclusively containing characters they can hold a variety of ojbects\n",
    "---\n",
    "To make a List, just create a comma separated list of data items and enclose them in square brackets.\n",
    "The neat thing about Lists is you can do all that slicing and indexing stuff you've come to love with Strings.  You can also invoke methods off lists.\n",
    "Also, another thing worth noting, is unlike Strings, Lists are MUTABLE so you can change items inside the list with no issues!\n",
    "\n",
    "## Here's what you will learn:\n",
    "1. How to Create Lists\n",
    "2. How to Slice and Index Lists\n",
    "3. How to use basic List Methods"
   ]
  },
  {
   "cell_type": "markdown",
   "id": "bb7df93d",
   "metadata": {},
   "source": [
    "## How to Create Lists"
   ]
  },
  {
   "cell_type": "code",
   "execution_count": 46,
   "id": "d567e7fc",
   "metadata": {},
   "outputs": [
    {
     "data": {
      "text/plain": [
       "list"
      ]
     },
     "execution_count": 46,
     "metadata": {},
     "output_type": "execute_result"
    }
   ],
   "source": [
    "# So let's just make a basic list to start\n",
    "basic_list = [1,2,3]\n",
    "type(basic_list)"
   ]
  },
  {
   "cell_type": "code",
   "execution_count": 47,
   "id": "7d44c9ce",
   "metadata": {},
   "outputs": [],
   "source": [
    "# Everything in a list doesn't need to be of the same data type though.  Check this out:\n",
    "basic_list = ['vonnie',1.0,1337]"
   ]
  },
  {
   "cell_type": "code",
   "execution_count": 49,
   "id": "5f27d82a",
   "metadata": {},
   "outputs": [
    {
     "data": {
      "text/plain": [
       "3"
      ]
     },
     "execution_count": 49,
     "metadata": {},
     "output_type": "execute_result"
    }
   ],
   "source": [
    "# Just like strings, you can see how many items are in the list by passing it to the len() function\n",
    "len(basic_list)"
   ]
  },
  {
   "cell_type": "markdown",
   "id": "4f03e365",
   "metadata": {},
   "source": [
    "## How to Slice and Index Lists\n",
    "This is going to feel similar to strings... because it IS similar to strings lol.  So watch this:"
   ]
  },
  {
   "cell_type": "code",
   "execution_count": 51,
   "id": "e8805dc2",
   "metadata": {},
   "outputs": [
    {
     "data": {
      "text/plain": [
       "['vonnie', 1.0, 1337]"
      ]
     },
     "execution_count": 51,
     "metadata": {},
     "output_type": "execute_result"
    }
   ],
   "source": [
    "basic_list"
   ]
  },
  {
   "cell_type": "code",
   "execution_count": 52,
   "id": "7a648306",
   "metadata": {},
   "outputs": [
    {
     "data": {
      "text/plain": [
       "'vonnie'"
      ]
     },
     "execution_count": 52,
     "metadata": {},
     "output_type": "execute_result"
    }
   ],
   "source": [
    "# Let's grab the first element here\n",
    "basic_list[0]"
   ]
  },
  {
   "cell_type": "code",
   "execution_count": 55,
   "id": "f4edb19c",
   "metadata": {},
   "outputs": [
    {
     "data": {
      "text/plain": [
       "1.0"
      ]
     },
     "execution_count": 55,
     "metadata": {},
     "output_type": "execute_result"
    }
   ],
   "source": [
    "# Let's grab the second element\n",
    "basic_list[1]"
   ]
  },
  {
   "cell_type": "code",
   "execution_count": 61,
   "id": "6d027eb5",
   "metadata": {},
   "outputs": [],
   "source": [
    "# Cool, alright so let's have some fun here.  I'm going to create a list of my favorite musical artists\n",
    "favorite_artists = ['Coldplay','Pete Rock','Philip Glass', 'deadmau5']"
   ]
  },
  {
   "cell_type": "code",
   "execution_count": 62,
   "id": "c19b6901",
   "metadata": {},
   "outputs": [
    {
     "data": {
      "text/plain": [
       "['Coldplay', 'Pete Rock', 'Philip Glass', 'deadmau5']"
      ]
     },
     "execution_count": 62,
     "metadata": {},
     "output_type": "execute_result"
    }
   ],
   "source": [
    "favorite_artists"
   ]
  },
  {
   "cell_type": "code",
   "execution_count": 63,
   "id": "c71a3855",
   "metadata": {},
   "outputs": [
    {
     "data": {
      "text/plain": [
       "['Pete Rock', 'Philip Glass', 'deadmau5']"
      ]
     },
     "execution_count": 63,
     "metadata": {},
     "output_type": "execute_result"
    }
   ],
   "source": [
    "# Let's select the last three artists.  You actually already know how to do this from our Strings lecture!\n",
    "favorite_artists[1:]"
   ]
  },
  {
   "cell_type": "code",
   "execution_count": 65,
   "id": "8d523d74",
   "metadata": {},
   "outputs": [
    {
     "data": {
      "text/plain": [
       "['Coldplay', 'Pete Rock', 'Philip Glass']"
      ]
     },
     "execution_count": 65,
     "metadata": {},
     "output_type": "execute_result"
    }
   ],
   "source": [
    "# We can also grab everyting up to BUT NOT INCLUDING the last element\n",
    "favorite_artists[:3]"
   ]
  },
  {
   "cell_type": "code",
   "execution_count": 66,
   "id": "ae57685f",
   "metadata": {},
   "outputs": [
    {
     "data": {
      "text/plain": [
       "['Coldplay', 'Pete Rock', 'Philip Glass', 'deadmau5']"
      ]
     },
     "execution_count": 66,
     "metadata": {},
     "output_type": "execute_result"
    }
   ],
   "source": [
    "favorite_artists"
   ]
  },
  {
   "cell_type": "code",
   "execution_count": 68,
   "id": "70a94c3e",
   "metadata": {},
   "outputs": [],
   "source": [
    "# We can join lists too... technically called concatenation\n",
    "more_artists = ['Aphex Twin','A Tribe Called Quest','Ram Jam']"
   ]
  },
  {
   "cell_type": "code",
   "execution_count": 69,
   "id": "bc88fe36",
   "metadata": {},
   "outputs": [],
   "source": [
    "all_time_artists = favorite_artists + more_artists"
   ]
  },
  {
   "cell_type": "code",
   "execution_count": 70,
   "id": "df0c83c3",
   "metadata": {},
   "outputs": [
    {
     "data": {
      "text/plain": [
       "['Coldplay',\n",
       " 'Pete Rock',\n",
       " 'Philip Glass',\n",
       " 'deadmau5',\n",
       " 'Aphex Twin',\n",
       " 'A Tribe Called Quest',\n",
       " 'Ram Jam']"
      ]
     },
     "execution_count": 70,
     "metadata": {},
     "output_type": "execute_result"
    }
   ],
   "source": [
    "all_time_artists"
   ]
  },
  {
   "cell_type": "code",
   "execution_count": 72,
   "id": "d4ab2f41",
   "metadata": {},
   "outputs": [
    {
     "data": {
      "text/plain": [
       "['Coldplay', 'Pete Rock', 'Philip Glass', 'deadmau5']"
      ]
     },
     "execution_count": 72,
     "metadata": {},
     "output_type": "execute_result"
    }
   ],
   "source": [
    "# original list is still unharmed\n",
    "favorite_artists"
   ]
  },
  {
   "cell_type": "markdown",
   "id": "77421454",
   "metadata": {},
   "source": [
    "## How to use Basic List Methods\n",
    "Since lists are mutable we can add indexes to the list... this is something we can not do with strings.  Let's take a moment to explore some fun ways to manipulate the items stored in a list."
   ]
  },
  {
   "cell_type": "code",
   "execution_count": 73,
   "id": "222b0faa",
   "metadata": {},
   "outputs": [],
   "source": [
    "favorite_colors = ['Pearl White','Hot Pink','Midnight Blue','Electric Blue']"
   ]
  },
  {
   "cell_type": "code",
   "execution_count": 74,
   "id": "5330f4a3",
   "metadata": {},
   "outputs": [
    {
     "data": {
      "text/plain": [
       "['Pearl White', 'Hot Pink', 'Midnight Blue', 'Electric Blue']"
      ]
     },
     "execution_count": 74,
     "metadata": {},
     "output_type": "execute_result"
    }
   ],
   "source": [
    "favorite_colors"
   ]
  },
  {
   "cell_type": "code",
   "execution_count": 80,
   "id": "61f1d5d2",
   "metadata": {},
   "outputs": [
    {
     "data": {
      "text/plain": [
       "['Pearl White', 'Hot Pink', 'Midnight Blue', 'Electric Blue', 'Seafoam Green']"
      ]
     },
     "execution_count": 80,
     "metadata": {},
     "output_type": "execute_result"
    }
   ],
   "source": [
    "# Sweet, so let's add an item to the end of the list. Hmm.. I also like Seafoam Green so let's add that one.\n",
    "favorite_colors.append('Seafoam Green')\n",
    "favorite_colors"
   ]
  },
  {
   "cell_type": "code",
   "execution_count": 81,
   "id": "2372d6e7",
   "metadata": {},
   "outputs": [
    {
     "data": {
      "text/plain": [
       "'Seafoam Green'"
      ]
     },
     "execution_count": 81,
     "metadata": {},
     "output_type": "execute_result"
    }
   ],
   "source": [
    "# We can use .pop() to do two things at once: it will remove the last element from the list and return that element\n",
    "favorite_colors.pop()\n"
   ]
  },
  {
   "cell_type": "code",
   "execution_count": 82,
   "id": "5cece83d",
   "metadata": {},
   "outputs": [
    {
     "data": {
      "text/plain": [
       "['Pearl White', 'Hot Pink', 'Midnight Blue', 'Electric Blue']"
      ]
     },
     "execution_count": 82,
     "metadata": {},
     "output_type": "execute_result"
    }
   ],
   "source": [
    "favorite_colors"
   ]
  },
  {
   "cell_type": "code",
   "execution_count": 83,
   "id": "20390c20",
   "metadata": {},
   "outputs": [],
   "source": [
    "# We can even save that popped element in a variable \n",
    "color = favorite_colors.pop()"
   ]
  },
  {
   "cell_type": "code",
   "execution_count": 84,
   "id": "617fc8a0",
   "metadata": {},
   "outputs": [
    {
     "data": {
      "text/plain": [
       "'Electric Blue'"
      ]
     },
     "execution_count": 84,
     "metadata": {},
     "output_type": "execute_result"
    }
   ],
   "source": [
    "color"
   ]
  },
  {
   "cell_type": "code",
   "execution_count": 85,
   "id": "89405be1",
   "metadata": {},
   "outputs": [
    {
     "data": {
      "text/plain": [
       "['Pearl White', 'Hot Pink', 'Midnight Blue']"
      ]
     },
     "execution_count": 85,
     "metadata": {},
     "output_type": "execute_result"
    }
   ],
   "source": [
    "favorite_colors"
   ]
  },
  {
   "cell_type": "code",
   "execution_count": 86,
   "id": "e45ad78e",
   "metadata": {},
   "outputs": [
    {
     "data": {
      "text/plain": [
       "['Pearl White', 'Midnight Blue']"
      ]
     },
     "execution_count": 86,
     "metadata": {},
     "output_type": "execute_result"
    }
   ],
   "source": [
    "# If you want to pop something other than the last element just pass the index ID as an argument to pop() and you're good to go!\n",
    "# Let's pop off 'Hot Pink'\n",
    "favorite_colors.pop(1)\n",
    "favorite_colors"
   ]
  },
  {
   "cell_type": "code",
   "execution_count": 87,
   "id": "9dbee1a2",
   "metadata": {},
   "outputs": [
    {
     "ename": "IndexError",
     "evalue": "list index out of range",
     "output_type": "error",
     "traceback": [
      "\u001b[1;31m---------------------------------------------------------------------------\u001b[0m",
      "\u001b[1;31mIndexError\u001b[0m                                Traceback (most recent call last)",
      "\u001b[1;32m~\\AppData\\Local\\Temp/ipykernel_2044/313613043.py\u001b[0m in \u001b[0;36m<module>\u001b[1;34m\u001b[0m\n\u001b[0;32m      1\u001b[0m \u001b[1;31m# Just keep in mind you can't reference and element out of bounds from the list\u001b[0m\u001b[1;33m\u001b[0m\u001b[1;33m\u001b[0m\u001b[0m\n\u001b[1;32m----> 2\u001b[1;33m \u001b[0mfavorite_colors\u001b[0m\u001b[1;33m[\u001b[0m\u001b[1;36m2\u001b[0m\u001b[1;33m]\u001b[0m\u001b[1;33m\u001b[0m\u001b[1;33m\u001b[0m\u001b[0m\n\u001b[0m",
      "\u001b[1;31mIndexError\u001b[0m: list index out of range"
     ]
    }
   ],
   "source": [
    "# Just keep in mind you can't reference and element out of bounds from the list\n",
    "favorite_colors[2]"
   ]
  },
  {
   "cell_type": "code",
   "execution_count": 92,
   "id": "50e39597",
   "metadata": {},
   "outputs": [
    {
     "data": {
      "text/plain": [
       "['Pearl White', 'Midnight Blue', 'Daytona Gray']"
      ]
     },
     "execution_count": 92,
     "metadata": {},
     "output_type": "execute_result"
    }
   ],
   "source": [
    "# Okay cool so what else can we do? We can sort all the elements\n",
    "favorite_colors.append('Daytona Gray')\n",
    "favorite_colors"
   ]
  },
  {
   "cell_type": "code",
   "execution_count": 94,
   "id": "ab0a2fff",
   "metadata": {},
   "outputs": [],
   "source": [
    "favorite_colors.sort()"
   ]
  },
  {
   "cell_type": "code",
   "execution_count": 96,
   "id": "d3edc093",
   "metadata": {},
   "outputs": [
    {
     "data": {
      "text/plain": [
       "['Daytona Gray', 'Midnight Blue', 'Pearl White']"
      ]
     },
     "execution_count": 96,
     "metadata": {},
     "output_type": "execute_result"
    }
   ],
   "source": [
    "# This is an in place change that modifies the actual list so it doesn't return a result that can be reassigned\n",
    "# For example, you can see favorite_colors has been modified, permanently\n",
    "favorite_colors"
   ]
  },
  {
   "cell_type": "code",
   "execution_count": 99,
   "id": "3f338cc8",
   "metadata": {},
   "outputs": [],
   "source": [
    "backwards = favorite_colors.reverse()\n",
    "backwards"
   ]
  },
  {
   "cell_type": "code",
   "execution_count": 100,
   "id": "27d03d93",
   "metadata": {},
   "outputs": [
    {
     "data": {
      "text/plain": [
       "NoneType"
      ]
     },
     "execution_count": 100,
     "metadata": {},
     "output_type": "execute_result"
    }
   ],
   "source": [
    "type(backwards)"
   ]
  },
  {
   "cell_type": "code",
   "execution_count": 102,
   "id": "8b65f5c1",
   "metadata": {},
   "outputs": [
    {
     "data": {
      "text/plain": [
       "['Daytona Gray', 'Midnight Blue', 'Pearl White']"
      ]
     },
     "execution_count": 102,
     "metadata": {},
     "output_type": "execute_result"
    }
   ],
   "source": [
    "# Notice that backwards is a NoneType, it doesn't contain any value because the .sort() and .reverse() methods don't return anything, they simply permanently change the item they're attached to\n",
    "# To change the value you can create a new variable to store the permanently changed list\n",
    "# Let's flip it forwards first\n",
    "favorite_colors.sort()\n",
    "favorite_colors\n"
   ]
  },
  {
   "cell_type": "code",
   "execution_count": 106,
   "id": "01d2d9b9",
   "metadata": {},
   "outputs": [
    {
     "data": {
      "text/plain": [
       "['Daytona Gray', 'Midnight Blue', 'Pearl White']"
      ]
     },
     "execution_count": 106,
     "metadata": {},
     "output_type": "execute_result"
    }
   ],
   "source": [
    "# And now lets do the in-place reverse operations again and save the updated list to a new variable reversed_colors\n",
    "favorite_colors.reverse()\n",
    "reversed_colors = favorite_colors\n",
    "reversed_colors"
   ]
  },
  {
   "cell_type": "markdown",
   "id": "a26348b6",
   "metadata": {},
   "source": [
    "Awesome! Awesome! You did it - alright let's keep going.  In the next lecture we will dig into Dictionaries... don't worry we're not about to bust out Merriam-Webster... it's way more fun than that.  Let's go!!"
   ]
  }
 ],
 "metadata": {
  "kernelspec": {
   "display_name": "Python 3 (ipykernel)",
   "language": "python",
   "name": "python3"
  },
  "language_info": {
   "codemirror_mode": {
    "name": "ipython",
    "version": 3
   },
   "file_extension": ".py",
   "mimetype": "text/x-python",
   "name": "python",
   "nbconvert_exporter": "python",
   "pygments_lexer": "ipython3",
   "version": "3.9.7"
  }
 },
 "nbformat": 4,
 "nbformat_minor": 5
}
