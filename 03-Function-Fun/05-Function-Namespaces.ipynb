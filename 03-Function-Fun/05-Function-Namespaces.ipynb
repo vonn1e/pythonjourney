{
 "cells": [
  {
   "cell_type": "markdown",
   "id": "5f780350",
   "metadata": {},
   "source": [
    "# Function Namespaces\n",
    "## It's time to get a grip on scope!\n",
    "\n",
    "So here's the thing: whenever you create a variable in Python that variable is stored in the namespace and scope.  And it's the scope that determines variable visibility in your code.\n",
    "\n",
    "Let me show you what I'm talking about here!"
   ]
  },
  {
   "cell_type": "code",
   "execution_count": 4,
   "id": "5f05dadc",
   "metadata": {},
   "outputs": [],
   "source": [
    "cash = 1337\n",
    "\n",
    "def money_printer():\n",
    "    cash = 9001\n",
    "    return cash"
   ]
  },
  {
   "cell_type": "code",
   "execution_count": 5,
   "id": "e75d9596",
   "metadata": {},
   "outputs": [
    {
     "data": {
      "text/plain": [
       "1337"
      ]
     },
     "execution_count": 5,
     "metadata": {},
     "output_type": "execute_result"
    }
   ],
   "source": [
    "# So what is cash? \n",
    "cash"
   ]
  },
  {
   "cell_type": "code",
   "execution_count": 7,
   "id": "2782f927",
   "metadata": {},
   "outputs": [
    {
     "name": "stdout",
     "output_type": "stream",
     "text": [
      "9001\n"
     ]
    }
   ],
   "source": [
    "# Why was it 1337 and not 9001?\n",
    "# Let's print the result of the money_printer function\n",
    "print(money_printer())"
   ]
  },
  {
   "cell_type": "code",
   "execution_count": 8,
   "id": "180f6cda",
   "metadata": {},
   "outputs": [],
   "source": [
    "# Huh? now it's 9001? what's up with that?\n",
    "# It's all about scope.  That's how it knows which variable to use\n",
    "# Python follows these rules when looking for variables"
   ]
  },
  {
   "cell_type": "markdown",
   "id": "defbe2aa",
   "metadata": {},
   "source": [
    "1. LOCAL - First, Python will look in its local namespace.  Any functions assigned within a function are LOCAL.  \n",
    "2. ENCLOSING Function Locals - Then it will check the variable in the enclosing function (you can have functions inside of functions)\n",
    "3. GLOBAL - Next, it'll check for any variables assigned at the top level of a module file or declared with the GLOBAL keyword\n",
    "4. BUILT-IN - Finally, Python will look in the built in namespace... built in keywords like range() and len() things like that.\n",
    "\n",
    "I remember it this way:\n",
    "**LEGO BUILT**\n",
    "L = LOCAL\n",
    "E = ENCLOSING\n",
    "GO = GLOBAL\n",
    "BUILT = BUILT-IN\n",
    "\n"
   ]
  },
  {
   "cell_type": "code",
   "execution_count": 48,
   "id": "67f991c6",
   "metadata": {},
   "outputs": [],
   "source": [
    "# Let's start with LOCAL\n",
    "\n",
    "x = 100 # GLOBAL\n",
    "\n",
    "def local_example(x):\n",
    "    print(f'x = {x}') # LOCAL"
   ]
  },
  {
   "cell_type": "code",
   "execution_count": 21,
   "id": "b1fcc2c3",
   "metadata": {},
   "outputs": [
    {
     "name": "stdout",
     "output_type": "stream",
     "text": [
      "x = 100\n"
     ]
    }
   ],
   "source": [
    "local_example(x)"
   ]
  },
  {
   "cell_type": "code",
   "execution_count": 49,
   "id": "607e30e3",
   "metadata": {},
   "outputs": [],
   "source": [
    "# No surprises there, let's reassign x locally to 1000\n",
    "x = 100 # GLOBAL\n",
    "\n",
    "def local_example(x):\n",
    "    print(f'x = {x}') # LOCAL\n",
    "    \n",
    "    x = 1000 # LOCAL REASSIGNMENT\n",
    "    print(f'x Reassigned Locally = {x}')"
   ]
  },
  {
   "cell_type": "code",
   "execution_count": 25,
   "id": "327431b1",
   "metadata": {},
   "outputs": [
    {
     "name": "stdout",
     "output_type": "stream",
     "text": [
      "x = 100\n",
      "x Reassigned Locally = 1000\n"
     ]
    }
   ],
   "source": [
    "local_example(x)"
   ]
  },
  {
   "cell_type": "code",
   "execution_count": 26,
   "id": "215d6d19",
   "metadata": {},
   "outputs": [
    {
     "data": {
      "text/plain": [
       "100"
      ]
     },
     "execution_count": 26,
     "metadata": {},
     "output_type": "execute_result"
    }
   ],
   "source": [
    "# Cool, so lets print out x\n",
    "x"
   ]
  },
  {
   "cell_type": "code",
   "execution_count": 51,
   "id": "e76423b0",
   "metadata": {},
   "outputs": [],
   "source": [
    "# Why was it 100 and not 1000? \n",
    "# That's because the reassignment happens inside the LOCAL, inside scope.\n",
    "# The variable declared inside the function is scoped to inside the function.\n",
    "# Let's look at GLOBAL now\n",
    "\n",
    "x = 100 # GLOBAL\n",
    "\n",
    "def global_example():\n",
    "    global x # We are declaring a global variable \n",
    "             # We're basically telling Python to jump up a level, grab X from there, and then\n",
    "             # send any changes we make to x happen to the GLOBAL variable at the highest level.\n",
    "    print(f'x = {x}') # LOCAL\n",
    "    \n",
    "    x = 1000 # GLOBAL REASSIGNMENT because of the GLOBAL keyword on x\n",
    "    print(f'x Reassigned Globally = {x}')"
   ]
  },
  {
   "cell_type": "code",
   "execution_count": 32,
   "id": "dcc66404",
   "metadata": {},
   "outputs": [
    {
     "data": {
      "text/plain": [
       "100"
      ]
     },
     "execution_count": 32,
     "metadata": {},
     "output_type": "execute_result"
    }
   ],
   "source": [
    "x"
   ]
  },
  {
   "cell_type": "code",
   "execution_count": 37,
   "id": "a35adfc2",
   "metadata": {},
   "outputs": [
    {
     "name": "stdout",
     "output_type": "stream",
     "text": [
      "x = 100\n",
      "x Reassigned Globally = 1000\n"
     ]
    }
   ],
   "source": [
    "global_example()"
   ]
  },
  {
   "cell_type": "code",
   "execution_count": 38,
   "id": "24a9b6b9",
   "metadata": {},
   "outputs": [
    {
     "data": {
      "text/plain": [
       "1000"
      ]
     },
     "execution_count": 38,
     "metadata": {},
     "output_type": "execute_result"
    }
   ],
   "source": [
    "x"
   ]
  },
  {
   "cell_type": "code",
   "execution_count": 39,
   "id": "c3e37a8e",
   "metadata": {},
   "outputs": [],
   "source": [
    "# Ah now we were able to modify that top level variable x \n",
    "# So be careful with these.  Instead of modifying variables in the global namespace\n",
    "# we can do something like this\n",
    "\n",
    "x = 100\n",
    "\n",
    "def safer_global_example(x):  # 1. Take the GLOBAL variable we want to modify as an argument\n",
    "   \n",
    "    print(f'x = {x}')\n",
    "    \n",
    "    x = 1000                  # 2. Do the local reassignment\n",
    "    print(f'x Reassigned Globally = {x}')\n",
    "    return x                  # 3. Return the newly modified object"
   ]
  },
  {
   "cell_type": "code",
   "execution_count": 40,
   "id": "b236d586",
   "metadata": {},
   "outputs": [
    {
     "data": {
      "text/plain": [
       "100"
      ]
     },
     "execution_count": 40,
     "metadata": {},
     "output_type": "execute_result"
    }
   ],
   "source": [
    "x"
   ]
  },
  {
   "cell_type": "code",
   "execution_count": 45,
   "id": "70eebcbd",
   "metadata": {},
   "outputs": [
    {
     "name": "stdout",
     "output_type": "stream",
     "text": [
      "x = 1000\n",
      "x Reassigned Globally = 1000\n"
     ]
    }
   ],
   "source": [
    "# 4. Then we overwrite the original global with our function return value\n",
    "x = safer_global_example(x)"
   ]
  },
  {
   "cell_type": "code",
   "execution_count": 47,
   "id": "449ebd63",
   "metadata": {},
   "outputs": [
    {
     "data": {
      "text/plain": [
       "1000"
      ]
     },
     "execution_count": 47,
     "metadata": {},
     "output_type": "execute_result"
    }
   ],
   "source": [
    "# BAM! x is 1,000 as we expected\n",
    "x"
   ]
  },
  {
   "cell_type": "code",
   "execution_count": 56,
   "id": "766e19e2",
   "metadata": {},
   "outputs": [],
   "source": [
    "# Let's walk through a function that demonstrates LEGO BUILT\n",
    "lego_built = 'GLOBAL STRING'\n",
    "\n",
    "def func():\n",
    "    \n",
    "    lego_built = 'ENCLOSING STRING'\n",
    "    \n",
    "    def nested_func():\n",
    "        \n",
    "        lego_built = 'LOCAL'\n",
    "        print (f'{lego_built}')\n",
    "        \n",
    "    nested_func() # calling nested_func() from the func() level"
   ]
  },
  {
   "cell_type": "code",
   "execution_count": 57,
   "id": "66bf6087",
   "metadata": {},
   "outputs": [
    {
     "name": "stdout",
     "output_type": "stream",
     "text": [
      "LOCAL\n"
     ]
    }
   ],
   "source": [
    "func()"
   ]
  },
  {
   "cell_type": "code",
   "execution_count": 60,
   "id": "b397ed31",
   "metadata": {},
   "outputs": [],
   "source": [
    "# So we have three values for the same variable name, which one we get is based on \n",
    "# Python's LEGO BUILT sequence.  First python checks within the LOCAL function\n",
    "# When we call func() Python jumps to nested_func and sees lego_built and says \n",
    "# Do I see lego_built defined anywhere? Yes, use it - otherwise jump to the next highest level\n",
    "# Then it checks the closest ENCLOSING function which in our case is func().  Is it defined there?\n",
    "# yes use it, otherwise jump a level higher and check.\n",
    "# If we comment out LOCAL and ENCLOSING STRING it will jump to GLOBAL STRING"
   ]
  },
  {
   "cell_type": "markdown",
   "id": "e9c48528",
   "metadata": {},
   "source": [
    "In the next lecture we will drop into args and kwargs - you ready!!!?? Let' go you are doing great!"
   ]
  },
  {
   "cell_type": "code",
   "execution_count": null,
   "id": "b73ebe1b",
   "metadata": {},
   "outputs": [],
   "source": []
  }
 ],
 "metadata": {
  "kernelspec": {
   "display_name": "Python 3 (ipykernel)",
   "language": "python",
   "name": "python3"
  },
  "language_info": {
   "codemirror_mode": {
    "name": "ipython",
    "version": 3
   },
   "file_extension": ".py",
   "mimetype": "text/x-python",
   "name": "python",
   "nbconvert_exporter": "python",
   "pygments_lexer": "ipython3",
   "version": "3.9.7"
  }
 },
 "nbformat": 4,
 "nbformat_minor": 5
}
