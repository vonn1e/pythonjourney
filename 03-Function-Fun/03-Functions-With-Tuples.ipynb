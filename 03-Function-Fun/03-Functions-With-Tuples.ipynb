{
 "cells": [
  {
   "cell_type": "markdown",
   "id": "16ad82d8",
   "metadata": {},
   "source": [
    "# Functions with Tuples!\n",
    "## So a function and a tuple walk into a bar...\n",
    "\n",
    "Sweet! we are making progress - in this lecture we're going to play with lists, tuples and functions\n",
    "\n",
    "So in earlier lectures I showed you how to loop through a list of tuples and then unpack specific value \"columns\" of interest.\n",
    "\n",
    "Well, we can also have functions that return tuples and we can unpack the columns we want when we call the function.  It's pretty slick and you will see this a lot in Python code.\n",
    "\n",
    "## In this lesson you will learn\n",
    "1. Review on looping through lists of tuples\n",
    "2. Functions that return tuples\n",
    "3. How to unpack the data you want from these function.\n",
    "\n",
    "## Review: Looping through lists of tuples\n"
   ]
  },
  {
   "cell_type": "code",
   "execution_count": 41,
   "id": "51a9b0d7",
   "metadata": {},
   "outputs": [],
   "source": [
    "cameras = [('Nikon D780',2300),('Canon EOS-1D Mark III',6500),('Sony ILCE-1',6500)]"
   ]
  },
  {
   "cell_type": "code",
   "execution_count": 42,
   "id": "a3af04d3",
   "metadata": {},
   "outputs": [
    {
     "data": {
      "text/plain": [
       "list"
      ]
     },
     "execution_count": 42,
     "metadata": {},
     "output_type": "execute_result"
    }
   ],
   "source": [
    "type(cameras)"
   ]
  },
  {
   "cell_type": "code",
   "execution_count": 43,
   "id": "31a30a1f",
   "metadata": {},
   "outputs": [
    {
     "name": "stdout",
     "output_type": "stream",
     "text": [
      "('Nikon D780', 2300)\n",
      "('Canon EOS-1D Mark III', 6500)\n",
      "('Sony ILCE-1', 6500)\n"
     ]
    }
   ],
   "source": [
    "for camera in cameras:\n",
    "    print(camera)"
   ]
  },
  {
   "cell_type": "code",
   "execution_count": 45,
   "id": "05395df6",
   "metadata": {},
   "outputs": [
    {
     "name": "stdout",
     "output_type": "stream",
     "text": [
      "Nikon D780\n",
      "Canon EOS-1D Mark III\n",
      "Sony ILCE-1\n"
     ]
    }
   ],
   "source": [
    "for model,cost in cameras:\n",
    "    print(model)"
   ]
  },
  {
   "cell_type": "code",
   "execution_count": 47,
   "id": "63932bfa",
   "metadata": {},
   "outputs": [
    {
     "name": "stdout",
     "output_type": "stream",
     "text": [
      "Nikon D780 1725.0\n",
      "Canon EOS-1D Mark III 4875.0\n",
      "Sony ILCE-1 4875.0\n"
     ]
    }
   ],
   "source": [
    "# 25% discount haha\n",
    "for model,cost in cameras:\n",
    "    print(model,cost-0.25*cost)"
   ]
  },
  {
   "cell_type": "code",
   "execution_count": 51,
   "id": "e4d50908",
   "metadata": {},
   "outputs": [],
   "source": [
    "# Functions can also return objects as Tuples and we can unpack the results from Functions too\n",
    "buildings = [('Burj Khalifa',2717),('One World Trade Center',1776),('Central Park Tower',1550)]"
   ]
  },
  {
   "cell_type": "code",
   "execution_count": 52,
   "id": "401405bb",
   "metadata": {},
   "outputs": [
    {
     "data": {
      "text/plain": [
       "[('Burj Khalifa', 2717),\n",
       " ('One World Trade Center', 1776),\n",
       " ('Central Park Tower', 1550)]"
      ]
     },
     "execution_count": 52,
     "metadata": {},
     "output_type": "execute_result"
    }
   ],
   "source": [
    "list(buildings)"
   ]
  },
  {
   "cell_type": "markdown",
   "id": "c49a1ac1",
   "metadata": {},
   "source": [
    "## Playing with functions that return Tuples"
   ]
  },
  {
   "cell_type": "code",
   "execution_count": 60,
   "id": "b6e7b513",
   "metadata": {},
   "outputs": [],
   "source": [
    "def find_tallest_building(buildings):\n",
    "    current_max = 0 \n",
    "    # Start at 0 and compare each employee hours to current max hours\n",
    "    # If that employee beats the current max hours then reset the current max to that employees hours\n",
    "    # and reset the employee_of_month to that employees name\n",
    "    \n",
    "    tallest_building = ''\n",
    "    \n",
    "    for building,height in buildings:\n",
    "        if height > current_max:\n",
    "            current_max = height\n",
    "            tallest_building = building\n",
    "        else:\n",
    "            pass\n",
    "    \n",
    "    # Return a Tuple\n",
    "    return (tallest_building,current_max)"
   ]
  },
  {
   "cell_type": "code",
   "execution_count": 62,
   "id": "207d9f24",
   "metadata": {},
   "outputs": [],
   "source": [
    "building = find_tallest_building(buildings)"
   ]
  },
  {
   "cell_type": "code",
   "execution_count": 64,
   "id": "90e5c943",
   "metadata": {},
   "outputs": [
    {
     "data": {
      "text/plain": [
       "('Burj Khalifa', 2717)"
      ]
     },
     "execution_count": 64,
     "metadata": {},
     "output_type": "execute_result"
    }
   ],
   "source": [
    "building"
   ]
  },
  {
   "cell_type": "code",
   "execution_count": 65,
   "id": "9e79b334",
   "metadata": {},
   "outputs": [
    {
     "data": {
      "text/plain": [
       "tuple"
      ]
     },
     "execution_count": 65,
     "metadata": {},
     "output_type": "execute_result"
    }
   ],
   "source": [
    "type(building)"
   ]
  },
  {
   "cell_type": "markdown",
   "id": "a96cdafc",
   "metadata": {},
   "source": [
    "## Unpacking the data you want "
   ]
  },
  {
   "cell_type": "code",
   "execution_count": 67,
   "id": "637867bd",
   "metadata": {},
   "outputs": [
    {
     "data": {
      "text/plain": [
       "2717"
      ]
     },
     "execution_count": 67,
     "metadata": {},
     "output_type": "execute_result"
    }
   ],
   "source": [
    "building,height = find_tallest_building(buildings)\n",
    "height"
   ]
  },
  {
   "cell_type": "code",
   "execution_count": 68,
   "id": "78756226",
   "metadata": {},
   "outputs": [
    {
     "data": {
      "text/plain": [
       "'Burj Khalifa'"
      ]
     },
     "execution_count": 68,
     "metadata": {},
     "output_type": "execute_result"
    }
   ],
   "source": [
    "building"
   ]
  },
  {
   "cell_type": "code",
   "execution_count": 73,
   "id": "d9c910ef",
   "metadata": {},
   "outputs": [],
   "source": [
    "# Let's add the vonnie tower to the mix - it's over 9000\n",
    "buildings = [('Vonnie Tower',9001),('Burj Khalifa',2717),('One World Trade Center',1776),('Central Park Tower',1550)]"
   ]
  },
  {
   "cell_type": "code",
   "execution_count": 74,
   "id": "53fcc239",
   "metadata": {},
   "outputs": [
    {
     "data": {
      "text/plain": [
       "9001"
      ]
     },
     "execution_count": 74,
     "metadata": {},
     "output_type": "execute_result"
    }
   ],
   "source": [
    "building,height = find_tallest_building(buildings)\n",
    "height"
   ]
  },
  {
   "cell_type": "code",
   "execution_count": 75,
   "id": "393867ca",
   "metadata": {},
   "outputs": [
    {
     "data": {
      "text/plain": [
       "'Vonnie Tower'"
      ]
     },
     "execution_count": 75,
     "metadata": {},
     "output_type": "execute_result"
    }
   ],
   "source": [
    "building"
   ]
  },
  {
   "cell_type": "markdown",
   "id": "7e4639ab",
   "metadata": {},
   "source": [
    "Great work! In the next lecture we will dig into how to code functions that speak to other functions.  Let's do this baby!"
   ]
  }
 ],
 "metadata": {
  "kernelspec": {
   "display_name": "Python 3 (ipykernel)",
   "language": "python",
   "name": "python3"
  },
  "language_info": {
   "codemirror_mode": {
    "name": "ipython",
    "version": 3
   },
   "file_extension": ".py",
   "mimetype": "text/x-python",
   "name": "python",
   "nbconvert_exporter": "python",
   "pygments_lexer": "ipython3",
   "version": "3.9.7"
  }
 },
 "nbformat": 4,
 "nbformat_minor": 5
}
