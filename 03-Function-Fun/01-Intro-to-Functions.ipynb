{
 "cells": [
  {
   "cell_type": "markdown",
   "id": "90883581",
   "metadata": {},
   "source": [
    "# Intro to Functions\n",
    "## Once you master these... you'll be unstoppable\n",
    "\n",
    "So we reach the part in your training when you become... well.. dangerous hehe.\n",
    "\n",
    "Also known as Methods, Functions are encapsulated workhorses built into Python objects.  We'll get into exactly what objects are and we have an entire lecture on Object Oriented Programming (OOP) later.\n",
    "\n",
    "The nice thing about functions is you can create a block of code once and then reuse it a bunch of times in your application.  Basically, instead of copying and pasting the entire code block everytime you need it, you can just package it all up into a tidy little function and then call the function.  It produces more readible code, reduces errors and makes it easier to update your code as you'll only need to update the function rather than every instance of copy and pasted text!\n",
    "\n",
    "In the meantime let's get right into your training!\n",
    "\n",
    "## In this lesson you will learn\n",
    "1. How to make a basic function in Python\n",
    "2. How to pass in arguments\n",
    "3. Returning Values vs Printing Values\n",
    "4. Another reason why Dynamically Typed is important!\n",
    "\n",
    "## How to make a basic function"
   ]
  },
  {
   "cell_type": "code",
   "execution_count": 3,
   "id": "606c50ed",
   "metadata": {},
   "outputs": [],
   "source": [
    "# Let's start from the top\n",
    "# To make a basic function start with \"def\", give it a name and then close\n",
    "# with the parenthesis and a colon. Everything indented is executed when \n",
    "# you call the function\n",
    "def wassup_bot():\n",
    "    print(\"Ay yo! Wassup!!\")"
   ]
  },
  {
   "cell_type": "code",
   "execution_count": 4,
   "id": "8f1943b1",
   "metadata": {},
   "outputs": [
    {
     "data": {
      "text/plain": [
       "<function __main__.wassup_bot()>"
      ]
     },
     "execution_count": 4,
     "metadata": {},
     "output_type": "execute_result"
    }
   ],
   "source": [
    "# Now we can call it... but don't forget the parenthesis!\n",
    "wassup_bot"
   ]
  },
  {
   "cell_type": "code",
   "execution_count": 6,
   "id": "a33c598b",
   "metadata": {},
   "outputs": [
    {
     "name": "stdout",
     "output_type": "stream",
     "text": [
      "Ay yo! Wassup!!\n"
     ]
    }
   ],
   "source": [
    "# Now we call it properly but notice there's no Out block next to the \n",
    "# function... that's because it's just printing the value to the screen...\n",
    "wassup_bot()"
   ]
  },
  {
   "cell_type": "markdown",
   "id": "916ce53d",
   "metadata": {},
   "source": [
    "## How to pass in Arguments"
   ]
  },
  {
   "cell_type": "code",
   "execution_count": 8,
   "id": "3f5f7628",
   "metadata": {},
   "outputs": [],
   "source": [
    "# So let's pass in some values to give it something useful to do\n",
    "def wassup_bot(name):\n",
    "    print(f'Ay yo! Wassup {name}!!')"
   ]
  },
  {
   "cell_type": "code",
   "execution_count": 10,
   "id": "42c6e7b4",
   "metadata": {},
   "outputs": [
    {
     "ename": "TypeError",
     "evalue": "wassup_bot() missing 1 required positional argument: 'name'",
     "output_type": "error",
     "traceback": [
      "\u001b[1;31m---------------------------------------------------------------------------\u001b[0m",
      "\u001b[1;31mTypeError\u001b[0m                                 Traceback (most recent call last)",
      "\u001b[1;32m~\\AppData\\Local\\Temp/ipykernel_9892/647827589.py\u001b[0m in \u001b[0;36m<module>\u001b[1;34m\u001b[0m\n\u001b[0;32m      1\u001b[0m \u001b[1;31m# Just make sure you actually put in a value for that name variable\u001b[0m\u001b[1;33m\u001b[0m\u001b[1;33m\u001b[0m\u001b[0m\n\u001b[1;32m----> 2\u001b[1;33m \u001b[0mwassup_bot\u001b[0m\u001b[1;33m(\u001b[0m\u001b[1;33m)\u001b[0m\u001b[1;33m\u001b[0m\u001b[1;33m\u001b[0m\u001b[0m\n\u001b[0m",
      "\u001b[1;31mTypeError\u001b[0m: wassup_bot() missing 1 required positional argument: 'name'"
     ]
    }
   ],
   "source": [
    "# Just make sure you actually put in a value for that name variable \n",
    "wassup_bot()"
   ]
  },
  {
   "cell_type": "code",
   "execution_count": 11,
   "id": "19ee7b1a",
   "metadata": {},
   "outputs": [
    {
     "name": "stdout",
     "output_type": "stream",
     "text": [
      "Ay yo! Wassup Vonnie!!\n"
     ]
    }
   ],
   "source": [
    "wassup_bot(\"Vonnie\")"
   ]
  },
  {
   "cell_type": "code",
   "execution_count": 15,
   "id": "eeeb4bbb",
   "metadata": {},
   "outputs": [],
   "source": [
    "# We can make it print something by default though\n",
    "# Notice I changed the argument name to \"n\", just did that to show you can\n",
    "# name it anything\n",
    "def wassup_bot(n=\"User\"):\n",
    "    print(f'Ay yo! Wassup {n}')"
   ]
  },
  {
   "cell_type": "code",
   "execution_count": 16,
   "id": "f23b21d0",
   "metadata": {},
   "outputs": [
    {
     "name": "stdout",
     "output_type": "stream",
     "text": [
      "Ay yo! Wassup User\n"
     ]
    }
   ],
   "source": [
    "wassup_bot()"
   ]
  },
  {
   "cell_type": "markdown",
   "id": "6264d1f5",
   "metadata": {},
   "source": [
    "## Returning Values vs Printing Values"
   ]
  },
  {
   "cell_type": "code",
   "execution_count": 19,
   "id": "13668bff",
   "metadata": {},
   "outputs": [],
   "source": [
    "# Let's create a basic function to multiple two numbers\n",
    "def multiply_two_numbers_print(num1,num2):\n",
    "    print (num1 * num2)"
   ]
  },
  {
   "cell_type": "code",
   "execution_count": 21,
   "id": "1396719c",
   "metadata": {},
   "outputs": [],
   "source": [
    "# Now this one does the same thing right?\n",
    "def multiply_two_numbers_return(num1,num2):\n",
    "    return num1 * num2"
   ]
  },
  {
   "cell_type": "code",
   "execution_count": 26,
   "id": "a7bb0a2b",
   "metadata": {},
   "outputs": [
    {
     "name": "stdout",
     "output_type": "stream",
     "text": [
      "6\n"
     ]
    }
   ],
   "source": [
    "multiply_two_numbers_print(2,3)"
   ]
  },
  {
   "cell_type": "code",
   "execution_count": 27,
   "id": "4062a96a",
   "metadata": {},
   "outputs": [
    {
     "data": {
      "text/plain": [
       "6"
      ]
     },
     "execution_count": 27,
     "metadata": {},
     "output_type": "execute_result"
    }
   ],
   "source": [
    "multiply_two_numbers_return(2,3)"
   ]
  },
  {
   "cell_type": "code",
   "execution_count": 29,
   "id": "e6ca96fe",
   "metadata": {},
   "outputs": [
    {
     "name": "stdout",
     "output_type": "stream",
     "text": [
      "6\n"
     ]
    }
   ],
   "source": [
    "# Looks the same right? But look what happens when I try to save the result in a variable...\n",
    "result = multiply_two_numbers_print(2,3)"
   ]
  },
  {
   "cell_type": "code",
   "execution_count": 30,
   "id": "a38ba6ed",
   "metadata": {},
   "outputs": [],
   "source": [
    "result"
   ]
  },
  {
   "cell_type": "code",
   "execution_count": 32,
   "id": "b3770192",
   "metadata": {},
   "outputs": [
    {
     "data": {
      "text/plain": [
       "NoneType"
      ]
     },
     "execution_count": 32,
     "metadata": {},
     "output_type": "execute_result"
    }
   ],
   "source": [
    "# Huh? There's nothing in result because the print function just shoots the output to the screen\n",
    "type(result)"
   ]
  },
  {
   "cell_type": "code",
   "execution_count": 33,
   "id": "ef9a1a25",
   "metadata": {},
   "outputs": [],
   "source": [
    "result = multiply_two_numbers_return(2,3)"
   ]
  },
  {
   "cell_type": "code",
   "execution_count": 34,
   "id": "00b2be80",
   "metadata": {},
   "outputs": [
    {
     "data": {
      "text/plain": [
       "6"
      ]
     },
     "execution_count": 34,
     "metadata": {},
     "output_type": "execute_result"
    }
   ],
   "source": [
    "result"
   ]
  },
  {
   "cell_type": "code",
   "execution_count": 36,
   "id": "e8f96a87",
   "metadata": {},
   "outputs": [
    {
     "data": {
      "text/plain": [
       "int"
      ]
     },
     "execution_count": 36,
     "metadata": {},
     "output_type": "execute_result"
    }
   ],
   "source": [
    "# Ah! There we go, this is the difference between print and return.\n",
    "# Return lets you save the output to a result; print doesn't \n",
    "type(result)"
   ]
  },
  {
   "cell_type": "markdown",
   "id": "8ab784dd",
   "metadata": {},
   "source": [
    "## Why being Dynamically Typed matters?"
   ]
  },
  {
   "cell_type": "code",
   "execution_count": 37,
   "id": "ed2c4e4a",
   "metadata": {},
   "outputs": [],
   "source": [
    "# Let's create a function to add two numbers\n",
    "def show_sum(num1,num2):\n",
    "    return num1 + num2"
   ]
  },
  {
   "cell_type": "code",
   "execution_count": 38,
   "id": "ddc465df",
   "metadata": {},
   "outputs": [
    {
     "data": {
      "text/plain": [
       "2"
      ]
     },
     "execution_count": 38,
     "metadata": {},
     "output_type": "execute_result"
    }
   ],
   "source": [
    "show_sum(1,1)"
   ]
  },
  {
   "cell_type": "code",
   "execution_count": 39,
   "id": "171e5d71",
   "metadata": {},
   "outputs": [
    {
     "data": {
      "text/plain": [
       "'11'"
      ]
     },
     "execution_count": 39,
     "metadata": {},
     "output_type": "execute_result"
    }
   ],
   "source": [
    "# Okay so far so good\n",
    "# But because Python is dynamically typed we don't need to explicitly set the type \n",
    "# so user input could be strings and then the + sign will concatenate not add\n",
    "# CAREFUL!\n",
    "show_sum('1','1')"
   ]
  },
  {
   "cell_type": "markdown",
   "id": "9c80239e",
   "metadata": {},
   "source": [
    "That's it for the basics!  In the next lecture we're going to combine what you learned about loops and if statements and inject them into a function!  You're coding capabilities is about to get leveled up!  Let's go!"
   ]
  },
  {
   "cell_type": "code",
   "execution_count": null,
   "id": "0bfd56da",
   "metadata": {},
   "outputs": [],
   "source": []
  }
 ],
 "metadata": {
  "kernelspec": {
   "display_name": "Python 3 (ipykernel)",
   "language": "python",
   "name": "python3"
  },
  "language_info": {
   "codemirror_mode": {
    "name": "ipython",
    "version": 3
   },
   "file_extension": ".py",
   "mimetype": "text/x-python",
   "name": "python",
   "nbconvert_exporter": "python",
   "pygments_lexer": "ipython3",
   "version": "3.9.7"
  }
 },
 "nbformat": 4,
 "nbformat_minor": 5
}
