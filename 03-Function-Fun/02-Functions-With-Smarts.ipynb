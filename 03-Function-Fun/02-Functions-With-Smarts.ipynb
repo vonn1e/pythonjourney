{
 "cells": [
  {
   "cell_type": "markdown",
   "id": "b8ccde64",
   "metadata": {},
   "source": [
    "# Functions (with Smarts)\n",
    "## Supercharging your functions with logical operations\n",
    "\n",
    "Yes! Yes! Yes!\n",
    "So now we're going to add loops and if/else conditions to our functions so you can really see how powerful they are.\n",
    "\n",
    "This lesson is important because it's really going to require some critical thinking skills to get through.  If up until this time you've been an observer it's time to put on your work boots and get to work!\n",
    "\n",
    "Let's go!\n",
    "\n",
    "## In this lesson you will learn\n",
    "1. How to leverage if conditions in functions\n",
    "2. How to leverage loops in functions\n"
   ]
  },
  {
   "cell_type": "code",
   "execution_count": 4,
   "id": "65abc43f",
   "metadata": {},
   "outputs": [
    {
     "data": {
      "text/plain": [
       "0"
      ]
     },
     "execution_count": 4,
     "metadata": {},
     "output_type": "execute_result"
    }
   ],
   "source": [
    "# So let's review.  How would you determine if a number is even?\n",
    "# You just see if it's easily divisible by 2 right?\n",
    "# In other words, if it divides with no remainder it's even. \n",
    "100 % 2"
   ]
  },
  {
   "cell_type": "code",
   "execution_count": 5,
   "id": "0f6426fc",
   "metadata": {},
   "outputs": [
    {
     "data": {
      "text/plain": [
       "1"
      ]
     },
     "execution_count": 5,
     "metadata": {},
     "output_type": "execute_result"
    }
   ],
   "source": [
    "101 % 2"
   ]
  },
  {
   "cell_type": "code",
   "execution_count": 14,
   "id": "3e981878",
   "metadata": {},
   "outputs": [],
   "source": [
    "# So we can create a function so that the first number there, 100, 101 or whatever\n",
    "# can be passed as input to a function\n",
    "def is_even(num):\n",
    "    result = num % 2 == 0\n",
    "    return result"
   ]
  },
  {
   "cell_type": "code",
   "execution_count": 15,
   "id": "b56eeabf",
   "metadata": {},
   "outputs": [
    {
     "data": {
      "text/plain": [
       "True"
      ]
     },
     "execution_count": 15,
     "metadata": {},
     "output_type": "execute_result"
    }
   ],
   "source": [
    "is_even(100)"
   ]
  },
  {
   "cell_type": "code",
   "execution_count": 16,
   "id": "a9ea7dda",
   "metadata": {},
   "outputs": [
    {
     "data": {
      "text/plain": [
       "False"
      ]
     },
     "execution_count": 16,
     "metadata": {},
     "output_type": "execute_result"
    }
   ],
   "source": [
    "is_even(101)"
   ]
  },
  {
   "cell_type": "code",
   "execution_count": 17,
   "id": "d545db96",
   "metadata": {},
   "outputs": [],
   "source": [
    "# Ok so it's working but we can refine this function a bit\n",
    "def is_even(num):\n",
    "    return num % 2 == 0"
   ]
  },
  {
   "cell_type": "code",
   "execution_count": 18,
   "id": "c2e1303d",
   "metadata": {},
   "outputs": [
    {
     "data": {
      "text/plain": [
       "True"
      ]
     },
     "execution_count": 18,
     "metadata": {},
     "output_type": "execute_result"
    }
   ],
   "source": [
    "is_even(100)"
   ]
  },
  {
   "cell_type": "code",
   "execution_count": 19,
   "id": "2962c02e",
   "metadata": {},
   "outputs": [
    {
     "data": {
      "text/plain": [
       "False"
      ]
     },
     "execution_count": 19,
     "metadata": {},
     "output_type": "execute_result"
    }
   ],
   "source": [
    "is_even(101)"
   ]
  },
  {
   "cell_type": "markdown",
   "id": "0790f175",
   "metadata": {},
   "source": [
    "So let's see if we can make this more sophisticated.\n",
    "Let's say we wanted to make the function smarter \n",
    "We pass in a list of numbers and the function returns true if ANY number in that list is true"
   ]
  },
  {
   "cell_type": "code",
   "execution_count": 13,
   "id": "1164959e",
   "metadata": {},
   "outputs": [],
   "source": [
    "nums = [1,2,3,4,5,6,7,8,9,10]"
   ]
  },
  {
   "cell_type": "code",
   "execution_count": 41,
   "id": "761ff531",
   "metadata": {},
   "outputs": [],
   "source": [
    "def has_even(nums):\n",
    "    # We need to loop through each item in the list to check if its even right?\n",
    "    for num in nums:\n",
    "        # For each and every number in the list we need to check if its even\n",
    "        if num % 2 == 0:\n",
    "            # The first time we hit an even number we'll just return True \n",
    "            # Once we hit this, we basically jump out the function and bail.\n",
    "            return True"
   ]
  },
  {
   "cell_type": "code",
   "execution_count": 23,
   "id": "8e27eb6b",
   "metadata": {},
   "outputs": [
    {
     "data": {
      "text/plain": [
       "True"
      ]
     },
     "execution_count": 23,
     "metadata": {},
     "output_type": "execute_result"
    }
   ],
   "source": [
    "# Okay that works \n",
    "has_even(nums)"
   ]
  },
  {
   "cell_type": "code",
   "execution_count": 24,
   "id": "809dd9a3",
   "metadata": {},
   "outputs": [],
   "source": [
    "# Let's change the list and give it just odds... what's going to happen?\n",
    "nums = [1,3,5,7,9]"
   ]
  },
  {
   "cell_type": "code",
   "execution_count": 26,
   "id": "4c26ced3",
   "metadata": {},
   "outputs": [],
   "source": [
    "has_even(nums)"
   ]
  },
  {
   "cell_type": "code",
   "execution_count": 27,
   "id": "28586a9b",
   "metadata": {},
   "outputs": [],
   "source": [
    "# Okay nothing to print right, what about different edge cases?\n",
    "nums = [1,3,5,7,8]"
   ]
  },
  {
   "cell_type": "code",
   "execution_count": 28,
   "id": "7c156615",
   "metadata": {},
   "outputs": [
    {
     "data": {
      "text/plain": [
       "True"
      ]
     },
     "execution_count": 28,
     "metadata": {},
     "output_type": "execute_result"
    }
   ],
   "source": [
    "has_even(nums)"
   ]
  },
  {
   "cell_type": "code",
   "execution_count": 42,
   "id": "9a1031ac",
   "metadata": {},
   "outputs": [],
   "source": [
    "nums = [1,3,5,9]\n",
    "has_even(nums)"
   ]
  },
  {
   "cell_type": "code",
   "execution_count": 43,
   "id": "2268e44f",
   "metadata": {},
   "outputs": [],
   "source": [
    "# Okay so the only issue is it returns nothing if all numbers are odd, let's change that\n",
    "\n",
    "def has_even(nums):\n",
    "    # We need to loop through each item in the list to check if its even right?\n",
    "    for num in nums:\n",
    "        # For each and every number in the list we need to check if its even\n",
    "        if num % 2 == 0:\n",
    "            # The first time we hit an even number we'll just return True \n",
    "            # Once we hit this, we basically jump out the function and bail.\n",
    "            return True\n",
    "        else:\n",
    "            return False"
   ]
  },
  {
   "cell_type": "code",
   "execution_count": 33,
   "id": "2c61fd73",
   "metadata": {},
   "outputs": [],
   "source": [
    "nums = [1,3,5,7,9]"
   ]
  },
  {
   "cell_type": "code",
   "execution_count": 34,
   "id": "360110ef",
   "metadata": {},
   "outputs": [
    {
     "data": {
      "text/plain": [
       "False"
      ]
     },
     "execution_count": 34,
     "metadata": {},
     "output_type": "execute_result"
    }
   ],
   "source": [
    "has_even(nums)"
   ]
  },
  {
   "cell_type": "code",
   "execution_count": 35,
   "id": "5262e107",
   "metadata": {},
   "outputs": [],
   "source": [
    "# Okay, looks like it's working - let's just make sure - I'll add in an even 2\n",
    "nums = [1,2,3,5,7,9]"
   ]
  },
  {
   "cell_type": "code",
   "execution_count": 37,
   "id": "d832fee0",
   "metadata": {},
   "outputs": [
    {
     "data": {
      "text/plain": [
       "False"
      ]
     },
     "execution_count": 37,
     "metadata": {},
     "output_type": "execute_result"
    }
   ],
   "source": [
    "has_even(nums)"
   ]
  },
  {
   "cell_type": "code",
   "execution_count": 67,
   "id": "ea339a96",
   "metadata": {},
   "outputs": [],
   "source": [
    "# Huh? What's wrong - let's look at the code again\n",
    "\n",
    "def has_even(nums):\n",
    "    for num in nums:\n",
    "        if num % 2 == 0:\n",
    "            return True\n",
    "        else:\n",
    "            # This is wrong why?\n",
    "            # Notice the indentation.  The very FIRST time a number is NOT even in the list, \n",
    "            # the If condition fails so code moves to the Else block, returns False and immediately\n",
    "            # ends the function... it doesn't bother checking the rest of the list!\n",
    "            return False "
   ]
  },
  {
   "cell_type": "markdown",
   "id": "6926ed21",
   "metadata": {},
   "source": [
    "We need to move the return False somewhere else.\n",
    "We want to make sure we check EVERY number in the list and then if none were Even we return False\n",
    "So where should we place that return False statement?"
   ]
  },
  {
   "cell_type": "code",
   "execution_count": 47,
   "id": "f68ccb0e",
   "metadata": {},
   "outputs": [
    {
     "ename": "IndentationError",
     "evalue": "expected an indented block (Temp/ipykernel_728/1085555564.py, line 12)",
     "output_type": "error",
     "traceback": [
      "\u001b[1;36m  File \u001b[1;32m\"C:\\Users\\Vonnie\\AppData\\Local\\Temp/ipykernel_728/1085555564.py\"\u001b[1;36m, line \u001b[1;32m12\u001b[0m\n\u001b[1;33m    return False\u001b[0m\n\u001b[1;37m    ^\u001b[0m\n\u001b[1;31mIndentationError\u001b[0m\u001b[1;31m:\u001b[0m expected an indented block\n"
     ]
    }
   ],
   "source": [
    "# Let's move return False up a few indents so it is OUTSIDE the for loop.\n",
    "# This gives the for loop a chance to loop through all items checking them to see if they are \n",
    "# even or odd, and then once the loop has finished, it only hits the return False after it's tried\n",
    "# the evens test for each item\n",
    "\n",
    "def has_even(nums):\n",
    "    for num in nums:\n",
    "        if num % 2 == 0:\n",
    "            return True\n",
    "        else:\n",
    "            # Do nothing\n",
    "    return False "
   ]
  },
  {
   "cell_type": "markdown",
   "id": "3274fbdd",
   "metadata": {},
   "source": [
    "right we need to put in pass for \"# Do nothing\""
   ]
  },
  {
   "cell_type": "code",
   "execution_count": 68,
   "id": "681c2a83",
   "metadata": {},
   "outputs": [],
   "source": [
    "def has_even(nums):\n",
    "    for num in nums:\n",
    "        if num % 2 == 0:\n",
    "            return True\n",
    "        else:\n",
    "            # Do nothing\n",
    "            pass\n",
    "    return False "
   ]
  },
  {
   "cell_type": "code",
   "execution_count": 49,
   "id": "4f23ce84",
   "metadata": {},
   "outputs": [
    {
     "data": {
      "text/plain": [
       "[1, 3, 5, 9]"
      ]
     },
     "execution_count": 49,
     "metadata": {},
     "output_type": "execute_result"
    }
   ],
   "source": [
    "nums"
   ]
  },
  {
   "cell_type": "code",
   "execution_count": 51,
   "id": "92765f1f",
   "metadata": {},
   "outputs": [
    {
     "data": {
      "text/plain": [
       "False"
      ]
     },
     "execution_count": 51,
     "metadata": {},
     "output_type": "execute_result"
    }
   ],
   "source": [
    "has_even(nums)"
   ]
  },
  {
   "cell_type": "code",
   "execution_count": 52,
   "id": "7f6602a6",
   "metadata": {},
   "outputs": [],
   "source": [
    "nums = [1,2,3,5,9]"
   ]
  },
  {
   "cell_type": "code",
   "execution_count": 54,
   "id": "17471292",
   "metadata": {},
   "outputs": [
    {
     "data": {
      "text/plain": [
       "True"
      ]
     },
     "execution_count": 54,
     "metadata": {},
     "output_type": "execute_result"
    }
   ],
   "source": [
    "has_even(nums)"
   ]
  },
  {
   "cell_type": "markdown",
   "id": "cbf447ca",
   "metadata": {},
   "source": [
    "Ok let's amp it up a bit\n",
    "let's say we don't just want to say True or False but if there ARE evens in the list, we want to SHOW them; otherwise, we do nothing. Any ideas how we could do that?"
   ]
  },
  {
   "cell_type": "code",
   "execution_count": 58,
   "id": "655a012b",
   "metadata": {},
   "outputs": [],
   "source": [
    "# So we need to return the evens in the list if there are evens\n",
    "# So we need to collect all the evens in a new list full of evens so we can return it\n",
    "def has_even(nums):\n",
    "    evens = [] # Create an empty list to collect evens\n",
    "\n",
    "    for num in nums:\n",
    "        if num % 2 == 0:\n",
    "            evens.append(num) # Add each even number to the evens[] list.\n",
    "        else:\n",
    "            # Do nothing if it's odd\n",
    "            pass\n",
    "    return evens # Return the even numbers AFTER the looping is done, not False\n",
    "                 # but the evens list."
   ]
  },
  {
   "cell_type": "code",
   "execution_count": 63,
   "id": "ce981ccf",
   "metadata": {},
   "outputs": [
    {
     "data": {
      "text/plain": [
       "[1, 2, 3, 4, 5, 6, 7, 8, 9]"
      ]
     },
     "execution_count": 63,
     "metadata": {},
     "output_type": "execute_result"
    }
   ],
   "source": [
    "nums = [1,2,3,4,5,6,7,8,9]\n",
    "nums"
   ]
  },
  {
   "cell_type": "code",
   "execution_count": 64,
   "id": "2d2937e4",
   "metadata": {},
   "outputs": [
    {
     "data": {
      "text/plain": [
       "[2, 4, 6, 8]"
      ]
     },
     "execution_count": 64,
     "metadata": {},
     "output_type": "execute_result"
    }
   ],
   "source": [
    "has_even(nums)"
   ]
  },
  {
   "cell_type": "code",
   "execution_count": 65,
   "id": "8e14b196",
   "metadata": {},
   "outputs": [
    {
     "data": {
      "text/plain": [
       "[1, 3, 3, 7]"
      ]
     },
     "execution_count": 65,
     "metadata": {},
     "output_type": "execute_result"
    }
   ],
   "source": [
    "nums = [1,3,3,7]\n",
    "nums"
   ]
  },
  {
   "cell_type": "code",
   "execution_count": 66,
   "id": "0c66526d",
   "metadata": {},
   "outputs": [
    {
     "data": {
      "text/plain": [
       "[]"
      ]
     },
     "execution_count": 66,
     "metadata": {},
     "output_type": "execute_result"
    }
   ],
   "source": [
    "has_even(nums)"
   ]
  },
  {
   "cell_type": "markdown",
   "id": "bd5e940d",
   "metadata": {},
   "source": [
    "Alright so we did it!  In the next lecture we're going to marry Tuples with Functions!"
   ]
  }
 ],
 "metadata": {
  "kernelspec": {
   "display_name": "Python 3 (ipykernel)",
   "language": "python",
   "name": "python3"
  },
  "language_info": {
   "codemirror_mode": {
    "name": "ipython",
    "version": 3
   },
   "file_extension": ".py",
   "mimetype": "text/x-python",
   "name": "python",
   "nbconvert_exporter": "python",
   "pygments_lexer": "ipython3",
   "version": "3.9.7"
  }
 },
 "nbformat": 4,
 "nbformat_minor": 5
}
