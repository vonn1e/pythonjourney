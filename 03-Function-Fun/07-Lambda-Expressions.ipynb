{
 "cells": [
  {
   "cell_type": "markdown",
   "id": "1f2ff379",
   "metadata": {},
   "source": [
    "## Lambda Expressions\n",
    "# Understanding the mysterious Lamda!\n",
    "\n",
    "Lambda Expressions are basically nameless functions.  It's a way to quickly create a dump and forget function for a specific tasks.  The real value for Lambda comes when it's used with the map() and filter() functions... so we'll need to understand those first!\n",
    "\n",
    "## In this lesson you will learn\n",
    "1. All about map()\n",
    "2. All about filter()\n",
    "3. All about lamda expressions \n",
    "4. Using map() and filter() with lambda expressions\n",
    "\n",
    "Let's do this baby!\n",
    "\n",
    "## All about map()"
   ]
  },
  {
   "cell_type": "code",
   "execution_count": 1,
   "id": "a7056bda",
   "metadata": {},
   "outputs": [],
   "source": [
    "def square(num):\n",
    "    return num**2"
   ]
  },
  {
   "cell_type": "code",
   "execution_count": 2,
   "id": "c80d1b09",
   "metadata": {},
   "outputs": [],
   "source": [
    "nums = [1,2,3,4,5,6,7]"
   ]
  },
  {
   "cell_type": "code",
   "execution_count": 10,
   "id": "742f5cd2",
   "metadata": {},
   "outputs": [],
   "source": [
    "def square(nums):\n",
    "    \n",
    "    squares = []\n",
    "\n",
    "    for num in nums:\n",
    "        num**=2\n",
    "        squares.append(num)\n",
    "        \n",
    "    return squares"
   ]
  },
  {
   "cell_type": "code",
   "execution_count": 11,
   "id": "d8b1bba1",
   "metadata": {},
   "outputs": [
    {
     "data": {
      "text/plain": [
       "[1, 4, 9, 16, 25, 36, 49]"
      ]
     },
     "execution_count": 11,
     "metadata": {},
     "output_type": "execute_result"
    }
   ],
   "source": [
    "square(nums)"
   ]
  },
  {
   "cell_type": "code",
   "execution_count": 20,
   "id": "d63d8dce",
   "metadata": {},
   "outputs": [
    {
     "data": {
      "text/plain": [
       "[1, 2, 3, 4, 5, 6, 7]"
      ]
     },
     "execution_count": 20,
     "metadata": {},
     "output_type": "execute_result"
    }
   ],
   "source": [
    "nums"
   ]
  },
  {
   "cell_type": "code",
   "execution_count": 24,
   "id": "28ad55b7",
   "metadata": {},
   "outputs": [],
   "source": [
    "def square(nums):\n",
    "    return nums**2"
   ]
  },
  {
   "cell_type": "code",
   "execution_count": 41,
   "id": "f4ea919f",
   "metadata": {},
   "outputs": [
    {
     "data": {
      "text/plain": [
       "<map at 0x2124ab6d280>"
      ]
     },
     "execution_count": 41,
     "metadata": {},
     "output_type": "execute_result"
    }
   ],
   "source": [
    "map(square,nums) # Just pass the function name not function_name() because map executes it for us"
   ]
  },
  {
   "cell_type": "code",
   "execution_count": 27,
   "id": "2552071e",
   "metadata": {},
   "outputs": [
    {
     "name": "stdout",
     "output_type": "stream",
     "text": [
      "1\n",
      "4\n",
      "9\n",
      "16\n",
      "25\n",
      "36\n",
      "49\n"
     ]
    }
   ],
   "source": [
    "# We can apply square() to every item in the list\n",
    "for num in map(square,nums):\n",
    "    print(num)"
   ]
  },
  {
   "cell_type": "code",
   "execution_count": 32,
   "id": "36a127a3",
   "metadata": {},
   "outputs": [],
   "source": [
    "# You can also pass map to a list\n",
    "squares = list(map(square,nums))"
   ]
  },
  {
   "cell_type": "code",
   "execution_count": 31,
   "id": "b40b74bb",
   "metadata": {},
   "outputs": [
    {
     "data": {
      "text/plain": [
       "[1, 4, 9, 16, 25, 36, 49]"
      ]
     },
     "execution_count": 31,
     "metadata": {},
     "output_type": "execute_result"
    }
   ],
   "source": [
    "squares"
   ]
  },
  {
   "cell_type": "code",
   "execution_count": 38,
   "id": "d15bd76a",
   "metadata": {},
   "outputs": [],
   "source": [
    "# We can even (no pun intended) get more complicated with conditional statements\n",
    "# We can say print out \"EVEN\" when a string has an even number of characters, otherwise -\n",
    "# just print out the last letter of all of them\n",
    "def even_detector(names):\n",
    "    if len(names)%2 == 0:\n",
    "        return 'EVEN'\n",
    "    else:\n",
    "        return names[-1]"
   ]
  },
  {
   "cell_type": "code",
   "execution_count": 39,
   "id": "38d2c755",
   "metadata": {},
   "outputs": [],
   "source": [
    "names = ['Vonnie','John','Alice','Roberto']"
   ]
  },
  {
   "cell_type": "code",
   "execution_count": 36,
   "id": "dee06966",
   "metadata": {},
   "outputs": [
    {
     "data": {
      "text/plain": [
       "<map at 0x2124ab1cd60>"
      ]
     },
     "execution_count": 36,
     "metadata": {},
     "output_type": "execute_result"
    }
   ],
   "source": [
    "map(even_detector,names)"
   ]
  },
  {
   "cell_type": "code",
   "execution_count": 40,
   "id": "12e61dc1",
   "metadata": {},
   "outputs": [
    {
     "data": {
      "text/plain": [
       "['EVEN', 'EVEN', 'e', 'o']"
      ]
     },
     "execution_count": 40,
     "metadata": {},
     "output_type": "execute_result"
    }
   ],
   "source": [
    "list(map(even_detector,names))"
   ]
  },
  {
   "cell_type": "markdown",
   "id": "8bc09485",
   "metadata": {},
   "source": [
    "## All about filter()"
   ]
  },
  {
   "cell_type": "code",
   "execution_count": 42,
   "id": "26ec2856",
   "metadata": {},
   "outputs": [],
   "source": [
    "# So let's talk about filter().  This works on functions that return either true or false\n",
    "# It returns an iterator with the iterable items when the argument is true\n",
    "def is_even(num):\n",
    "    return num % 2 == 0"
   ]
  },
  {
   "cell_type": "code",
   "execution_count": 43,
   "id": "10823432",
   "metadata": {},
   "outputs": [],
   "source": [
    "nums = [1,2,3,4,5,6,7,8,9]"
   ]
  },
  {
   "cell_type": "code",
   "execution_count": 44,
   "id": "662c8d33",
   "metadata": {},
   "outputs": [
    {
     "data": {
      "text/plain": [
       "<filter at 0x2124ab6db50>"
      ]
     },
     "execution_count": 44,
     "metadata": {},
     "output_type": "execute_result"
    }
   ],
   "source": [
    "# A filter() is great when you want to grab certain items from a list based\n",
    "# off a condition defined in a function we'ved defined\n",
    "# filter() will FILTER based on the functions condition.  \n",
    "filter(is_even,nums)"
   ]
  },
  {
   "cell_type": "code",
   "execution_count": 45,
   "id": "9f194031",
   "metadata": {},
   "outputs": [],
   "source": [
    "evens = list(filter(is_even,nums))"
   ]
  },
  {
   "cell_type": "code",
   "execution_count": 46,
   "id": "dc01c0d8",
   "metadata": {},
   "outputs": [
    {
     "data": {
      "text/plain": [
       "[2, 4, 6, 8]"
      ]
     },
     "execution_count": 46,
     "metadata": {},
     "output_type": "execute_result"
    }
   ],
   "source": [
    "evens"
   ]
  },
  {
   "cell_type": "code",
   "execution_count": 48,
   "id": "8210f7ea",
   "metadata": {},
   "outputs": [
    {
     "name": "stdout",
     "output_type": "stream",
     "text": [
      "2\n",
      "4\n",
      "6\n",
      "8\n"
     ]
    }
   ],
   "source": [
    "for num in filter(is_even,nums):\n",
    "    print(num)"
   ]
  },
  {
   "cell_type": "markdown",
   "id": "2dc704ae",
   "metadata": {},
   "source": [
    "## All about Lambda Expressions "
   ]
  },
  {
   "cell_type": "code",
   "execution_count": 54,
   "id": "b5f0e788",
   "metadata": {},
   "outputs": [],
   "source": [
    "# Now let's talk about Lambda Expressions\n",
    "def get_square(num):\n",
    "    return num**2"
   ]
  },
  {
   "cell_type": "code",
   "execution_count": 55,
   "id": "5aa6dfd1",
   "metadata": {},
   "outputs": [
    {
     "data": {
      "text/plain": [
       "9"
      ]
     },
     "execution_count": 55,
     "metadata": {},
     "output_type": "execute_result"
    }
   ],
   "source": [
    "get_square(3)"
   ]
  },
  {
   "cell_type": "code",
   "execution_count": 56,
   "id": "4143909d",
   "metadata": {},
   "outputs": [],
   "source": [
    "# But we can compress this function as a one-liner\n",
    "def get_square(num): return num**2"
   ]
  },
  {
   "cell_type": "code",
   "execution_count": 57,
   "id": "da43e83d",
   "metadata": {},
   "outputs": [
    {
     "data": {
      "text/plain": [
       "9"
      ]
     },
     "execution_count": 57,
     "metadata": {},
     "output_type": "execute_result"
    }
   ],
   "source": [
    "get_square(3)"
   ]
  },
  {
   "cell_type": "code",
   "execution_count": 60,
   "id": "35227711",
   "metadata": {},
   "outputs": [
    {
     "data": {
      "text/plain": [
       "<function __main__.<lambda>(num)>"
      ]
     },
     "execution_count": 60,
     "metadata": {},
     "output_type": "execute_result"
    }
   ],
   "source": [
    "# We are almost a Lambda expression.  A Lambda Expression is just an anonymous function.\n",
    "# It's a function you use once so it's not worthy of a name or def keyword.  Instead we just\n",
    "# call it \"lambda\"\n",
    "lambda num: num**2"
   ]
  },
  {
   "cell_type": "code",
   "execution_count": 61,
   "id": "6f7a1def",
   "metadata": {},
   "outputs": [
    {
     "data": {
      "text/plain": [
       "9"
      ]
     },
     "execution_count": 61,
     "metadata": {},
     "output_type": "execute_result"
    }
   ],
   "source": [
    "# True barebones right?\n",
    "get_square = lambda num: num**2\n",
    "get_square(3)"
   ]
  },
  {
   "cell_type": "markdown",
   "id": "9e7eb6aa",
   "metadata": {},
   "source": [
    "## Using map and filter with lambda"
   ]
  },
  {
   "cell_type": "code",
   "execution_count": 64,
   "id": "7a3d33ca",
   "metadata": {},
   "outputs": [
    {
     "data": {
      "text/plain": [
       "<map at 0x2124ab6d5e0>"
      ]
     },
     "execution_count": 64,
     "metadata": {},
     "output_type": "execute_result"
    }
   ],
   "source": [
    "# You'll usually use lambdas with map and filter.  That's why I showed you those earlier\n",
    "# When we used map() we passed in a function... but in order to do that we needed to define that\n",
    "# function which is more code and more work.  If we were only planning to use the map functionality\n",
    "# once... why go through all that work? just use a lambda!\n",
    "map(lambda num:num**2,nums)"
   ]
  },
  {
   "cell_type": "code",
   "execution_count": 65,
   "id": "791ecb89",
   "metadata": {},
   "outputs": [
    {
     "data": {
      "text/plain": [
       "[1, 4, 9, 16, 25, 36, 49, 64, 81]"
      ]
     },
     "execution_count": 65,
     "metadata": {},
     "output_type": "execute_result"
    }
   ],
   "source": [
    "list(map(lambda num:num**2,nums))"
   ]
  },
  {
   "cell_type": "code",
   "execution_count": 66,
   "id": "b7071df0",
   "metadata": {},
   "outputs": [
    {
     "data": {
      "text/plain": [
       "[1, 4, 9, 16, 25, 36, 49, 64, 81]"
      ]
     },
     "execution_count": 66,
     "metadata": {},
     "output_type": "execute_result"
    }
   ],
   "source": [
    "squares = list(map(lambda num:num**2,nums))\n",
    "squares"
   ]
  },
  {
   "cell_type": "code",
   "execution_count": 68,
   "id": "795b396e",
   "metadata": {},
   "outputs": [],
   "source": [
    "# BAM! Nice eh? And we can use it with filter() too.\n",
    "# Here's the old function we were passing into filter()\n",
    "def is_even(num):\n",
    "    return num % 2 == 0"
   ]
  },
  {
   "cell_type": "code",
   "execution_count": 69,
   "id": "70903908",
   "metadata": {},
   "outputs": [
    {
     "data": {
      "text/plain": [
       "<function __main__.<lambda>(num)>"
      ]
     },
     "execution_count": 69,
     "metadata": {},
     "output_type": "execute_result"
    }
   ],
   "source": [
    "# Let's convert that thing to a lambda expression\n",
    "lambda num: num%2 == 0"
   ]
  },
  {
   "cell_type": "code",
   "execution_count": 70,
   "id": "40a992e7",
   "metadata": {},
   "outputs": [
    {
     "data": {
      "text/plain": [
       "<filter at 0x2124ab6d3d0>"
      ]
     },
     "execution_count": 70,
     "metadata": {},
     "output_type": "execute_result"
    }
   ],
   "source": [
    "filter(lambda num: num%2 == 0,nums)"
   ]
  },
  {
   "cell_type": "code",
   "execution_count": 71,
   "id": "cf685806",
   "metadata": {},
   "outputs": [
    {
     "data": {
      "text/plain": [
       "[2, 4, 6, 8]"
      ]
     },
     "execution_count": 71,
     "metadata": {},
     "output_type": "execute_result"
    }
   ],
   "source": [
    "list(filter(lambda num: num%2 == 0,nums))"
   ]
  },
  {
   "cell_type": "code",
   "execution_count": 73,
   "id": "f240a2a4",
   "metadata": {},
   "outputs": [],
   "source": [
    "evens = list(filter(lambda num: num%2 == 0,nums))"
   ]
  },
  {
   "cell_type": "code",
   "execution_count": 78,
   "id": "1f3a9fe5",
   "metadata": {},
   "outputs": [],
   "source": [
    "# Nice now we have ultimate flexibility with these\n",
    "# We can return the first character of each country\n",
    "countries = ['Vietnam','Oman','New Zealand', 'Nepal', 'India','Ethiopia']"
   ]
  },
  {
   "cell_type": "code",
   "execution_count": 79,
   "id": "38d1d403",
   "metadata": {},
   "outputs": [
    {
     "data": {
      "text/plain": [
       "['V', 'O', 'N', 'N', 'I', 'E']"
      ]
     },
     "execution_count": 79,
     "metadata": {},
     "output_type": "execute_result"
    }
   ],
   "source": [
    "list(map(lambda country:country[0],countries))"
   ]
  },
  {
   "cell_type": "code",
   "execution_count": 82,
   "id": "991959df",
   "metadata": {},
   "outputs": [
    {
     "data": {
      "text/plain": [
       "['V', 'O', 'N', 'N', 'I', 'E']"
      ]
     },
     "execution_count": 82,
     "metadata": {},
     "output_type": "execute_result"
    }
   ],
   "source": [
    "# we can also change the name from country to anything just like you can with an ordinary function\n",
    "list(map(lambda blah:blah[0],countries))"
   ]
  },
  {
   "cell_type": "code",
   "execution_count": 83,
   "id": "53ed1a26",
   "metadata": {},
   "outputs": [
    {
     "data": {
      "text/plain": [
       "['manteiV', 'namO', 'dnalaeZ weN', 'lapeN', 'aidnI', 'aipoihtE']"
      ]
     },
     "execution_count": 83,
     "metadata": {},
     "output_type": "execute_result"
    }
   ],
   "source": [
    "list(map(lambda country:country[::-1],countries))"
   ]
  },
  {
   "cell_type": "code",
   "execution_count": 86,
   "id": "ed517ac8",
   "metadata": {},
   "outputs": [
    {
     "data": {
      "text/plain": [
       "[7, 4, 11, 5, 5, 8]"
      ]
     },
     "execution_count": 86,
     "metadata": {},
     "output_type": "execute_result"
    }
   ],
   "source": [
    "list(map(lambda country:len(country),countries))"
   ]
  },
  {
   "cell_type": "markdown",
   "id": "d83ddb1c",
   "metadata": {},
   "source": [
    "There!  Lambda Expressions are still confusing - I admit but I wanted you to get a taste for them so you can quickly recognize one when you see one!  As always, if you have any questions just hit me up in the course!"
   ]
  },
  {
   "cell_type": "code",
   "execution_count": null,
   "id": "13c2dc79",
   "metadata": {},
   "outputs": [],
   "source": []
  }
 ],
 "metadata": {
  "kernelspec": {
   "display_name": "Python 3 (ipykernel)",
   "language": "python",
   "name": "python3"
  },
  "language_info": {
   "codemirror_mode": {
    "name": "ipython",
    "version": 3
   },
   "file_extension": ".py",
   "mimetype": "text/x-python",
   "name": "python",
   "nbconvert_exporter": "python",
   "pygments_lexer": "ipython3",
   "version": "3.9.7"
  }
 },
 "nbformat": 4,
 "nbformat_minor": 5
}
