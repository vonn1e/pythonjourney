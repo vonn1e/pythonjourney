{
 "cells": [
  {
   "cell_type": "markdown",
   "id": "c8ca025f",
   "metadata": {},
   "source": [
    "# Functions that talk to one another!\n",
    "## How to make communicate with other functions!\n",
    "\n",
    "Yup, so this is where we are going to see the connected nature of functions.\n",
    "We're going to build a few and I'm going to show you how the output from one function can become the input for another!\n",
    "\n",
    "## In this lesson you will learn:\n",
    "1. How to build a function that randomly shuffles up a bunch of cups (one contains a ball)\n",
    "2. How to build a function that asks the user to guess where the ball is\n",
    "3. How to build a function that accepts as input the output from the above two functions!\n",
    "4. How to code a program that puts it all together!"
   ]
  },
  {
   "cell_type": "code",
   "execution_count": 1,
   "id": "11666833",
   "metadata": {},
   "outputs": [
    {
     "data": {
      "text/plain": [
       "['Blue', 'Green', 'Red']"
      ]
     },
     "execution_count": 1,
     "metadata": {},
     "output_type": "execute_result"
    }
   ],
   "source": [
    "# Let's make a short list of colors\n",
    "colors = ['Blue','Green','Red']\n",
    "colors"
   ]
  },
  {
   "cell_type": "code",
   "execution_count": 2,
   "id": "2863a582",
   "metadata": {},
   "outputs": [
    {
     "data": {
      "text/plain": [
       "['Green', 'Blue', 'Red']"
      ]
     },
     "execution_count": 2,
     "metadata": {},
     "output_type": "execute_result"
    }
   ],
   "source": [
    "# We can shake up the list and return random results with the shuffle library\n",
    "from random import shuffle\n",
    "shuffle(colors)\n",
    "colors"
   ]
  },
  {
   "cell_type": "code",
   "execution_count": 3,
   "id": "f2f690ee",
   "metadata": {},
   "outputs": [
    {
     "data": {
      "text/plain": [
       "['Red', 'Blue', 'Green']"
      ]
     },
     "execution_count": 3,
     "metadata": {},
     "output_type": "execute_result"
    }
   ],
   "source": [
    "shuffle(colors)\n",
    "colors"
   ]
  },
  {
   "cell_type": "code",
   "execution_count": 4,
   "id": "8dc2ddd5",
   "metadata": {},
   "outputs": [],
   "source": [
    "# All the shuffling happens in-place, as nothing is actually returned\n",
    "shuffled_colors = shuffle(colors)\n",
    "shuffled_colors"
   ]
  },
  {
   "cell_type": "code",
   "execution_count": 5,
   "id": "da374fc6",
   "metadata": {},
   "outputs": [
    {
     "data": {
      "text/plain": [
       "NoneType"
      ]
     },
     "execution_count": 5,
     "metadata": {},
     "output_type": "execute_result"
    }
   ],
   "source": [
    "type(shuffled_colors)"
   ]
  },
  {
   "cell_type": "markdown",
   "id": "62394d33",
   "metadata": {},
   "source": [
    "## How to build a cup shuffle function"
   ]
  },
  {
   "cell_type": "code",
   "execution_count": 6,
   "id": "43ff2038",
   "metadata": {},
   "outputs": [],
   "source": [
    "# Let's think of a way we can change this behavior.\n",
    "# We could build our own function that returns the shuffled result!\n",
    "def shuffled(my_list):\n",
    "    shuffle(my_list)\n",
    "    return my_list"
   ]
  },
  {
   "cell_type": "code",
   "execution_count": 7,
   "id": "c36f61d2",
   "metadata": {},
   "outputs": [
    {
     "data": {
      "text/plain": [
       "['Green', 'Blue', 'Red']"
      ]
     },
     "execution_count": 7,
     "metadata": {},
     "output_type": "execute_result"
    }
   ],
   "source": [
    "shuffled_colors = shuffled(colors)\n",
    "shuffled_colors"
   ]
  },
  {
   "cell_type": "code",
   "execution_count": 8,
   "id": "ec440eb6",
   "metadata": {},
   "outputs": [
    {
     "data": {
      "text/plain": [
       "['', 'O', '']"
      ]
     },
     "execution_count": 8,
     "metadata": {},
     "output_type": "execute_result"
    }
   ],
   "source": [
    "# Alright great so play a game.  We'll have three cups and we'll place a ball in one.\n",
    "# You the player need to guess it's location (based on the index)\n",
    "# We'll kick things off by putting the ball in the middle cup\n",
    "cups = ['','O','']\n",
    "mixedup_cups = shuffled(cups)\n",
    "mixedup_cups"
   ]
  },
  {
   "cell_type": "markdown",
   "id": "e01c5a8b",
   "metadata": {},
   "source": [
    "## How to build a player guess function"
   ]
  },
  {
   "cell_type": "code",
   "execution_count": 9,
   "id": "4053aef6",
   "metadata": {},
   "outputs": [],
   "source": [
    "# okay great, so we have a function that shuffles the cups and it works!\n",
    "# Now let's build another function to get the player to guess where the ball is\n",
    "def player_guess():\n",
    "    guess='' # Clear the variable before using it\n",
    "    \n",
    "    guess = input(\"Where's the ball? 0, 1 or 2?: \")\n",
    "    return guess"
   ]
  },
  {
   "cell_type": "code",
   "execution_count": 10,
   "id": "a0b4a7d8",
   "metadata": {},
   "outputs": [
    {
     "name": "stdout",
     "output_type": "stream",
     "text": [
      "Where's the ball? 0, 1 or 2?: 2\n"
     ]
    },
    {
     "data": {
      "text/plain": [
       "'2'"
      ]
     },
     "execution_count": 10,
     "metadata": {},
     "output_type": "execute_result"
    }
   ],
   "source": [
    "player_guess()"
   ]
  },
  {
   "cell_type": "code",
   "execution_count": 11,
   "id": "30e91752",
   "metadata": {},
   "outputs": [
    {
     "name": "stdout",
     "output_type": "stream",
     "text": [
      "Where's the ball? 0, 1 or 2?: 3\n"
     ]
    },
    {
     "data": {
      "text/plain": [
       "'3'"
      ]
     },
     "execution_count": 11,
     "metadata": {},
     "output_type": "execute_result"
    }
   ],
   "source": [
    "player_guess()"
   ]
  },
  {
   "cell_type": "code",
   "execution_count": 12,
   "id": "9864f19f",
   "metadata": {},
   "outputs": [],
   "source": [
    "# so don't want to give the user the option of guess values other than 0 or 1 or 2.  \n",
    "# How can we do this? \n",
    "# What if we kept looping the question as long as the users guesss is not in a list of 0, 1 or 2?\n",
    "def player_guess():\n",
    "    guess=''\n",
    "    \n",
    "    while guess not in [0,1,2]:\n",
    "        guess = input(\"Where's the ball? 0, 1, or 2?: \")\n",
    "    \n",
    "    return guess"
   ]
  },
  {
   "cell_type": "code",
   "execution_count": 13,
   "id": "7f102430",
   "metadata": {},
   "outputs": [
    {
     "name": "stdout",
     "output_type": "stream",
     "text": [
      "Where's the ball? 0, 1, or 2?: 2\n",
      "Where's the ball? 0, 1, or 2?: 3\n"
     ]
    },
    {
     "ename": "KeyboardInterrupt",
     "evalue": "Interrupted by user",
     "output_type": "error",
     "traceback": [
      "\u001b[1;31m---------------------------------------------------------------------------\u001b[0m",
      "\u001b[1;31mKeyboardInterrupt\u001b[0m                         Traceback (most recent call last)",
      "\u001b[1;32m~\\AppData\\Local\\Temp/ipykernel_5856/706388726.py\u001b[0m in \u001b[0;36m<module>\u001b[1;34m\u001b[0m\n\u001b[0;32m      1\u001b[0m \u001b[1;31m# This will hang the kernel - you'll have to restart it\u001b[0m\u001b[1;33m\u001b[0m\u001b[1;33m\u001b[0m\u001b[0m\n\u001b[1;32m----> 2\u001b[1;33m \u001b[0mplayer_guess\u001b[0m\u001b[1;33m(\u001b[0m\u001b[1;33m)\u001b[0m\u001b[1;33m\u001b[0m\u001b[1;33m\u001b[0m\u001b[0m\n\u001b[0m",
      "\u001b[1;32m~\\AppData\\Local\\Temp/ipykernel_5856/535528471.py\u001b[0m in \u001b[0;36mplayer_guess\u001b[1;34m()\u001b[0m\n\u001b[0;32m      6\u001b[0m \u001b[1;33m\u001b[0m\u001b[0m\n\u001b[0;32m      7\u001b[0m     \u001b[1;32mwhile\u001b[0m \u001b[0mguess\u001b[0m \u001b[1;32mnot\u001b[0m \u001b[1;32min\u001b[0m \u001b[1;33m[\u001b[0m\u001b[1;36m0\u001b[0m\u001b[1;33m,\u001b[0m\u001b[1;36m1\u001b[0m\u001b[1;33m,\u001b[0m\u001b[1;36m2\u001b[0m\u001b[1;33m]\u001b[0m\u001b[1;33m:\u001b[0m\u001b[1;33m\u001b[0m\u001b[1;33m\u001b[0m\u001b[0m\n\u001b[1;32m----> 8\u001b[1;33m         \u001b[0mguess\u001b[0m \u001b[1;33m=\u001b[0m \u001b[0minput\u001b[0m\u001b[1;33m(\u001b[0m\u001b[1;34m\"Where's the ball? 0, 1, or 2?: \"\u001b[0m\u001b[1;33m)\u001b[0m\u001b[1;33m\u001b[0m\u001b[1;33m\u001b[0m\u001b[0m\n\u001b[0m\u001b[0;32m      9\u001b[0m \u001b[1;33m\u001b[0m\u001b[0m\n\u001b[0;32m     10\u001b[0m     \u001b[1;32mreturn\u001b[0m \u001b[0mguess\u001b[0m\u001b[1;33m\u001b[0m\u001b[1;33m\u001b[0m\u001b[0m\n",
      "\u001b[1;32mC:\\ProgramData\\Anaconda3\\lib\\site-packages\\ipykernel\\kernelbase.py\u001b[0m in \u001b[0;36mraw_input\u001b[1;34m(self, prompt)\u001b[0m\n\u001b[0;32m   1004\u001b[0m                 \u001b[1;34m\"raw_input was called, but this frontend does not support input requests.\"\u001b[0m\u001b[1;33m\u001b[0m\u001b[1;33m\u001b[0m\u001b[0m\n\u001b[0;32m   1005\u001b[0m             )\n\u001b[1;32m-> 1006\u001b[1;33m         return self._input_request(\n\u001b[0m\u001b[0;32m   1007\u001b[0m             \u001b[0mstr\u001b[0m\u001b[1;33m(\u001b[0m\u001b[0mprompt\u001b[0m\u001b[1;33m)\u001b[0m\u001b[1;33m,\u001b[0m\u001b[1;33m\u001b[0m\u001b[1;33m\u001b[0m\u001b[0m\n\u001b[0;32m   1008\u001b[0m             \u001b[0mself\u001b[0m\u001b[1;33m.\u001b[0m\u001b[0m_parent_ident\u001b[0m\u001b[1;33m[\u001b[0m\u001b[1;34m\"shell\"\u001b[0m\u001b[1;33m]\u001b[0m\u001b[1;33m,\u001b[0m\u001b[1;33m\u001b[0m\u001b[1;33m\u001b[0m\u001b[0m\n",
      "\u001b[1;32mC:\\ProgramData\\Anaconda3\\lib\\site-packages\\ipykernel\\kernelbase.py\u001b[0m in \u001b[0;36m_input_request\u001b[1;34m(self, prompt, ident, parent, password)\u001b[0m\n\u001b[0;32m   1049\u001b[0m             \u001b[1;32mexcept\u001b[0m \u001b[0mKeyboardInterrupt\u001b[0m\u001b[1;33m:\u001b[0m\u001b[1;33m\u001b[0m\u001b[1;33m\u001b[0m\u001b[0m\n\u001b[0;32m   1050\u001b[0m                 \u001b[1;31m# re-raise KeyboardInterrupt, to truncate traceback\u001b[0m\u001b[1;33m\u001b[0m\u001b[1;33m\u001b[0m\u001b[0m\n\u001b[1;32m-> 1051\u001b[1;33m                 \u001b[1;32mraise\u001b[0m \u001b[0mKeyboardInterrupt\u001b[0m\u001b[1;33m(\u001b[0m\u001b[1;34m\"Interrupted by user\"\u001b[0m\u001b[1;33m)\u001b[0m \u001b[1;32mfrom\u001b[0m \u001b[1;32mNone\u001b[0m\u001b[1;33m\u001b[0m\u001b[1;33m\u001b[0m\u001b[0m\n\u001b[0m\u001b[0;32m   1052\u001b[0m             \u001b[1;32mexcept\u001b[0m \u001b[0mException\u001b[0m\u001b[1;33m:\u001b[0m\u001b[1;33m\u001b[0m\u001b[1;33m\u001b[0m\u001b[0m\n\u001b[0;32m   1053\u001b[0m                 \u001b[0mself\u001b[0m\u001b[1;33m.\u001b[0m\u001b[0mlog\u001b[0m\u001b[1;33m.\u001b[0m\u001b[0mwarning\u001b[0m\u001b[1;33m(\u001b[0m\u001b[1;34m\"Invalid Message:\"\u001b[0m\u001b[1;33m,\u001b[0m \u001b[0mexc_info\u001b[0m\u001b[1;33m=\u001b[0m\u001b[1;32mTrue\u001b[0m\u001b[1;33m)\u001b[0m\u001b[1;33m\u001b[0m\u001b[1;33m\u001b[0m\u001b[0m\n",
      "\u001b[1;31mKeyboardInterrupt\u001b[0m: Interrupted by user"
     ]
    }
   ],
   "source": [
    "# This will hang the kernel - you'll have to restart it\n",
    "player_guess()"
   ]
  },
  {
   "cell_type": "code",
   "execution_count": 14,
   "id": "908fcd73",
   "metadata": {},
   "outputs": [
    {
     "name": "stdout",
     "output_type": "stream",
     "text": [
      "Where's the ball? 0, 1, or 2?: 2\n"
     ]
    },
    {
     "data": {
      "text/plain": [
       "str"
      ]
     },
     "execution_count": 14,
     "metadata": {},
     "output_type": "execute_result"
    }
   ],
   "source": [
    "# something is wrong, it keeps asking for the ball even though our input falls within the accepted range.\n",
    "# let's think about what's happening here... what's the data type returned by input?\n",
    "guess = input(\"Where's the ball? 0, 1, or 2?: \")\n",
    "type(guess)"
   ]
  },
  {
   "cell_type": "code",
   "execution_count": 15,
   "id": "9f8c74d0",
   "metadata": {},
   "outputs": [],
   "source": [
    "# ah it's a string! so we were asking the not in operator to look for an integer but the input function returns a string \n",
    "# so we have an infinite loop that is always true - hence the reason our kernel crashed\n",
    "def player_guess():\n",
    "    guess=''\n",
    "    \n",
    "    while guess not in ['0','1','2']: # modified to include a list of STRINGS not INTS\n",
    "        guess = input(\"Where's the ball? 0, 1, or 2?: \")\n",
    "    \n",
    "    return int(guess) # typecast the result to be an integer so we can use it as an index in other functions"
   ]
  },
  {
   "cell_type": "code",
   "execution_count": 16,
   "id": "8a535005",
   "metadata": {},
   "outputs": [
    {
     "name": "stdout",
     "output_type": "stream",
     "text": [
      "Where's the ball? 0, 1, or 2?: 2\n"
     ]
    },
    {
     "data": {
      "text/plain": [
       "int"
      ]
     },
     "execution_count": 16,
     "metadata": {},
     "output_type": "execute_result"
    }
   ],
   "source": [
    "result = player_guess()\n",
    "type(result)"
   ]
  },
  {
   "cell_type": "code",
   "execution_count": 17,
   "id": "287d2cbf",
   "metadata": {},
   "outputs": [
    {
     "name": "stdout",
     "output_type": "stream",
     "text": [
      "Where's the ball? 0, 1, or 2?: 3\n",
      "Where's the ball? 0, 1, or 2?: -1\n",
      "Where's the ball? 0, 1, or 2?: 2\n"
     ]
    },
    {
     "data": {
      "text/plain": [
       "2"
      ]
     },
     "execution_count": 17,
     "metadata": {},
     "output_type": "execute_result"
    }
   ],
   "source": [
    "# And now! all is well!\n",
    "player_guess()"
   ]
  },
  {
   "cell_type": "markdown",
   "id": "9a54d216",
   "metadata": {},
   "source": [
    "## How to build a function that accepts output from other functions"
   ]
  },
  {
   "cell_type": "code",
   "execution_count": 18,
   "id": "041e8b7c",
   "metadata": {},
   "outputs": [],
   "source": [
    "# So now we have two functions that work: shuffled() returns a shuffled list\n",
    "# and guess() returns an index specified by the user... basically their guess!\n",
    "# so now we just need to connect the dots with one more function!\n",
    "def check_guess(cups,guess): \n",
    "    # We pass in the shuffled list of cups and the players guess index\n",
    "    if cups[guess] == 'O':\n",
    "        print(\"YES! You got it right baby!\")\n",
    "    else:\n",
    "        print(\"No, I'm sorry. Look where it was: \")\n",
    "        print(cups)"
   ]
  },
  {
   "cell_type": "markdown",
   "id": "1c36e441",
   "metadata": {},
   "source": [
    "## How to code a program that puts it all together!"
   ]
  },
  {
   "cell_type": "code",
   "execution_count": 21,
   "id": "db1bba37",
   "metadata": {},
   "outputs": [],
   "source": [
    "# Now lets build our program\n",
    "\n",
    "# 1. SETUP THE LIST (The cups with the hidden ball)\n",
    "\n",
    "# 2. SHUFFLE THE LIST\n",
    "\n",
    "# 3. GET THE USERS GUESS INDEX\n",
    "\n",
    "# 4. CHECK IF USERS GUESS INDEX matches INDEX of Ball \"O\""
   ]
  },
  {
   "cell_type": "code",
   "execution_count": 24,
   "id": "ee666397",
   "metadata": {},
   "outputs": [
    {
     "name": "stdout",
     "output_type": "stream",
     "text": [
      "Where's the ball? 0, 1, or 2?: -1\n",
      "Where's the ball? 0, 1, or 2?: 2\n",
      "No, I'm sorry. Look where it was: \n",
      "['O', '', '']\n"
     ]
    }
   ],
   "source": [
    "# 1. SETUP THE LIST (The cups with the hidden ball)\n",
    "cups = ['','O','']\n",
    "\n",
    "# 2. SHUFFLE THE LIST\n",
    "mixed_cups = shuffled(cups)\n",
    "\n",
    "# 3. GET THE USERS GUESS INDEX\n",
    "guess = player_guess()\n",
    "\n",
    "# 4. CHECK IF USERS GUESS INDEX matches INDEX of Ball \"O\"\n",
    "check_guess(cups,guess)"
   ]
  },
  {
   "cell_type": "markdown",
   "id": "fd5f7621",
   "metadata": {},
   "source": [
    "Everything works! The shuffle works, the input validation works, very good job!\n",
    "In the next lecture we're going to get into more details about functions - specifically namespaces and scope\n",
    "Let's go!"
   ]
  },
  {
   "cell_type": "code",
   "execution_count": null,
   "id": "b4ae42db",
   "metadata": {},
   "outputs": [],
   "source": []
  }
 ],
 "metadata": {
  "kernelspec": {
   "display_name": "Python 3 (ipykernel)",
   "language": "python",
   "name": "python3"
  },
  "language_info": {
   "codemirror_mode": {
    "name": "ipython",
    "version": 3
   },
   "file_extension": ".py",
   "mimetype": "text/x-python",
   "name": "python",
   "nbconvert_exporter": "python",
   "pygments_lexer": "ipython3",
   "version": "3.9.7"
  }
 },
 "nbformat": 4,
 "nbformat_minor": 5
}
