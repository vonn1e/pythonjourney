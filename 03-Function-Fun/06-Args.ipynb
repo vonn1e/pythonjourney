{
 "cells": [
  {
   "cell_type": "markdown",
   "id": "af2a81ea",
   "metadata": {},
   "source": [
    "# Arguments + Keyword Arguments\n",
    "## Also known as `*args` and `**kwargs`\n",
    "\n",
    "These are function parameters that let you accept an arbitrary number of arguments and keyword arguments but without having to hard  code a bunch of parameters in your function arguments.\n",
    "\n",
    "It's kind of hard to explain and you might be wondering why this matters.  I want to teach you these because when you start reading documentation and diving into StackOverflow posts and Google articles you'll see *args and *kwargs!  So I want you to be prepared for the unknown!\n",
    "\n",
    "## In this lesson you will learn\n",
    "1. How to use the `*args1` parameter\n",
    "2. How to use the `**kwargs` parameter\n",
    "3. Using `*args` with `**kwargs` TOGETHER!\n",
    "\n",
    "## How to use *args"
   ]
  },
  {
   "cell_type": "code",
   "execution_count": 17,
   "id": "4d816b92",
   "metadata": {},
   "outputs": [],
   "source": [
    "# Let's create a function that accepts two numbers, adds them together and increases that sum \n",
    "# by 25% percent.\n",
    "def markup(num1,num2):\n",
    "    return sum((num1,num2)) * 1.25"
   ]
  },
  {
   "cell_type": "code",
   "execution_count": 20,
   "id": "3a02f8a5",
   "metadata": {},
   "outputs": [
    {
     "data": {
      "text/plain": [
       "125.0"
      ]
     },
     "execution_count": 20,
     "metadata": {},
     "output_type": "execute_result"
    }
   ],
   "source": [
    "markup(50,50)"
   ]
  },
  {
   "cell_type": "code",
   "execution_count": 25,
   "id": "796737f4",
   "metadata": {},
   "outputs": [],
   "source": [
    "# Great, but what happens if you want to pass in more than just two numbers to multiply?\n",
    "# Let's say we want our function to take three positional arguments.\n",
    "# They're positional because num1 maps to the first number and num2 maps to the second\n",
    "def markup(num1,num2,num3=0): # set num3 to 0 so it won't affect the sum if left off\n",
    "    return sum((num1,num2,num3)) * 1.25"
   ]
  },
  {
   "cell_type": "code",
   "execution_count": 24,
   "id": "2667aa0e",
   "metadata": {},
   "outputs": [
    {
     "data": {
      "text/plain": [
       "125.0"
      ]
     },
     "execution_count": 24,
     "metadata": {},
     "output_type": "execute_result"
    }
   ],
   "source": [
    "markup(50,50)"
   ]
  },
  {
   "cell_type": "code",
   "execution_count": 26,
   "id": "2225c1f5",
   "metadata": {},
   "outputs": [
    {
     "data": {
      "text/plain": [
       "187.5"
      ]
     },
     "execution_count": 26,
     "metadata": {},
     "output_type": "execute_result"
    }
   ],
   "source": [
    "markup(50,50,50)"
   ]
  },
  {
   "cell_type": "code",
   "execution_count": 28,
   "id": "ab077594",
   "metadata": {},
   "outputs": [],
   "source": [
    "# So far so good, but what if we wanted to allow 4 numbers? lol \n",
    "def markup(num1,num2,num3=0,num4=0):\n",
    "    return sum((num1,num2,num3,num4)) * 1.25"
   ]
  },
  {
   "cell_type": "code",
   "execution_count": 29,
   "id": "29ec3c70",
   "metadata": {},
   "outputs": [
    {
     "data": {
      "text/plain": [
       "125.0"
      ]
     },
     "execution_count": 29,
     "metadata": {},
     "output_type": "execute_result"
    }
   ],
   "source": [
    "markup(50,50)"
   ]
  },
  {
   "cell_type": "code",
   "execution_count": 30,
   "id": "fcae091d",
   "metadata": {},
   "outputs": [
    {
     "data": {
      "text/plain": [
       "187.5"
      ]
     },
     "execution_count": 30,
     "metadata": {},
     "output_type": "execute_result"
    }
   ],
   "source": [
    "markup(50,50,50)"
   ]
  },
  {
   "cell_type": "code",
   "execution_count": 31,
   "id": "2e1146d5",
   "metadata": {},
   "outputs": [
    {
     "data": {
      "text/plain": [
       "250.0"
      ]
     },
     "execution_count": 31,
     "metadata": {},
     "output_type": "execute_result"
    }
   ],
   "source": [
    "markup(50,50,50,50)"
   ]
  },
  {
   "cell_type": "code",
   "execution_count": 32,
   "id": "894b37aa",
   "metadata": {},
   "outputs": [
    {
     "ename": "TypeError",
     "evalue": "markup() takes from 2 to 4 positional arguments but 5 were given",
     "output_type": "error",
     "traceback": [
      "\u001b[1;31m---------------------------------------------------------------------------\u001b[0m",
      "\u001b[1;31mTypeError\u001b[0m                                 Traceback (most recent call last)",
      "\u001b[1;32m~\\AppData\\Local\\Temp/ipykernel_8584/62101170.py\u001b[0m in \u001b[0;36m<module>\u001b[1;34m\u001b[0m\n\u001b[0;32m      1\u001b[0m \u001b[1;31m# Ah but if we add more arguments than are allowed we get an error...\u001b[0m\u001b[1;33m\u001b[0m\u001b[1;33m\u001b[0m\u001b[0m\n\u001b[0;32m      2\u001b[0m \u001b[1;31m# So this is where *args comes into play\u001b[0m\u001b[1;33m\u001b[0m\u001b[1;33m\u001b[0m\u001b[0m\n\u001b[1;32m----> 3\u001b[1;33m \u001b[0mmarkup\u001b[0m\u001b[1;33m(\u001b[0m\u001b[1;36m50\u001b[0m\u001b[1;33m,\u001b[0m\u001b[1;36m50\u001b[0m\u001b[1;33m,\u001b[0m\u001b[1;36m50\u001b[0m\u001b[1;33m,\u001b[0m\u001b[1;36m50\u001b[0m\u001b[1;33m,\u001b[0m\u001b[1;36m50\u001b[0m\u001b[1;33m)\u001b[0m\u001b[1;33m\u001b[0m\u001b[1;33m\u001b[0m\u001b[0m\n\u001b[0m",
      "\u001b[1;31mTypeError\u001b[0m: markup() takes from 2 to 4 positional arguments but 5 were given"
     ]
    }
   ],
   "source": [
    "# Ah but if we add more arguments than are allowed we get an error... \n",
    "# So this is where *args comes into play\n",
    "markup(50,50,50,50,50)"
   ]
  },
  {
   "cell_type": "code",
   "execution_count": 35,
   "id": "a249295a",
   "metadata": {},
   "outputs": [],
   "source": [
    "def new_markup(*args):\n",
    "    return sum(args) * 1.25"
   ]
  },
  {
   "cell_type": "code",
   "execution_count": 36,
   "id": "68a41d1d",
   "metadata": {},
   "outputs": [
    {
     "data": {
      "text/plain": [
       "125.0"
      ]
     },
     "execution_count": 36,
     "metadata": {},
     "output_type": "execute_result"
    }
   ],
   "source": [
    "new_markup(50,50)"
   ]
  },
  {
   "cell_type": "code",
   "execution_count": 37,
   "id": "bf575be0",
   "metadata": {},
   "outputs": [
    {
     "data": {
      "text/plain": [
       "187.5"
      ]
     },
     "execution_count": 37,
     "metadata": {},
     "output_type": "execute_result"
    }
   ],
   "source": [
    "new_markup(50,50,50)"
   ]
  },
  {
   "cell_type": "code",
   "execution_count": 38,
   "id": "4b524dfd",
   "metadata": {},
   "outputs": [
    {
     "data": {
      "text/plain": [
       "500.0"
      ]
     },
     "execution_count": 38,
     "metadata": {},
     "output_type": "execute_result"
    }
   ],
   "source": [
    "# So I can add as many arguments as I want now... \n",
    "new_markup(50,50,50,50,50,50,50,50)"
   ]
  },
  {
   "cell_type": "code",
   "execution_count": 41,
   "id": "c41eb099",
   "metadata": {},
   "outputs": [],
   "source": [
    "# And as you can see, the result is simply returned as a Tuple\n",
    "def new_markup(*args):\n",
    "    print(args)"
   ]
  },
  {
   "cell_type": "code",
   "execution_count": 40,
   "id": "d0e7719e",
   "metadata": {},
   "outputs": [
    {
     "name": "stdout",
     "output_type": "stream",
     "text": [
      "(50, 100, 125, 300, 1337)\n"
     ]
    }
   ],
   "source": [
    "new_markup(50,100,125,300,1337)"
   ]
  },
  {
   "cell_type": "code",
   "execution_count": 42,
   "id": "a2c6cfa4",
   "metadata": {},
   "outputs": [],
   "source": [
    "# And args can be any keyword you want so don't let that trip you up\n",
    "def new_markup(*vonnies):\n",
    "    print(vonnies)"
   ]
  },
  {
   "cell_type": "code",
   "execution_count": 43,
   "id": "b0c279ba",
   "metadata": {},
   "outputs": [
    {
     "name": "stdout",
     "output_type": "stream",
     "text": [
      "(50, 100, 125, 300, 1337)\n"
     ]
    }
   ],
   "source": [
    "new_markup(50,100,125,300,1337)"
   ]
  },
  {
   "cell_type": "code",
   "execution_count": 52,
   "id": "9e8dee11",
   "metadata": {},
   "outputs": [],
   "source": [
    "def new_markup(*vonnies):\n",
    "    for num in vonnies:\n",
    "        print(f'{num}!')"
   ]
  },
  {
   "cell_type": "code",
   "execution_count": 53,
   "id": "232114e3",
   "metadata": {},
   "outputs": [
    {
     "name": "stdout",
     "output_type": "stream",
     "text": [
      "50!\n",
      "100!\n",
      "125!\n",
      "300!\n",
      "1337!\n"
     ]
    }
   ],
   "source": [
    "new_markup(50,100,125,300,1337)"
   ]
  },
  {
   "cell_type": "code",
   "execution_count": 44,
   "id": "ec23d754",
   "metadata": {},
   "outputs": [],
   "source": [
    "def new_markup(*vonnies):\n",
    "    return sum(vonnies) * 1.25"
   ]
  },
  {
   "cell_type": "code",
   "execution_count": 47,
   "id": "b144a3c4",
   "metadata": {},
   "outputs": [
    {
     "data": {
      "text/plain": [
       "2390.0"
      ]
     },
     "execution_count": 47,
     "metadata": {},
     "output_type": "execute_result"
    }
   ],
   "source": [
    "# Most of the time you will see *args though so stick to convention!\n",
    "new_markup(50,100,125,300,1337)"
   ]
  },
  {
   "cell_type": "markdown",
   "id": "d185e912",
   "metadata": {},
   "source": [
    "## How to use **kwargs"
   ]
  },
  {
   "cell_type": "code",
   "execution_count": 58,
   "id": "897cd9be",
   "metadata": {},
   "outputs": [],
   "source": [
    "# We can create a dictionary of key value pairs too\n",
    "def shopping_cart(**kwargs):\n",
    "    print(kwargs)"
   ]
  },
  {
   "cell_type": "code",
   "execution_count": 62,
   "id": "ed3a8026",
   "metadata": {},
   "outputs": [
    {
     "name": "stdout",
     "output_type": "stream",
     "text": [
      "{'snack': 'chips', 'drinks': 'beer'}\n"
     ]
    }
   ],
   "source": [
    "# So we can assign an arbitrary number of key value pairs kind of like what we did for *args\n",
    "shopping_cart(snack='chips',drinks='beer')"
   ]
  },
  {
   "cell_type": "code",
   "execution_count": 63,
   "id": "e87aaf4f",
   "metadata": {},
   "outputs": [],
   "source": [
    "# We can also name the kargs variable anything, although you should stick to convention\n",
    "def shopping_cart(**vonnie):\n",
    "    print(vonnie)"
   ]
  },
  {
   "cell_type": "code",
   "execution_count": 64,
   "id": "9e15d6f5",
   "metadata": {},
   "outputs": [
    {
     "name": "stdout",
     "output_type": "stream",
     "text": [
      "{'snack': 'doritos', 'drinks': 'coke'}\n"
     ]
    }
   ],
   "source": [
    "shopping_cart(snack='doritos',drinks='coke')"
   ]
  },
  {
   "cell_type": "code",
   "execution_count": 68,
   "id": "b89dd422",
   "metadata": {},
   "outputs": [],
   "source": [
    "# So we can use this to our advantage\n",
    "def shopping_cart(**kwargs):\n",
    "    if 'snack' in kwargs:\n",
    "        print('You should eat a bag of {}'.format(kwargs['snack']))\n",
    "    else:\n",
    "        print(\"Ah, I didn't find any snacks\")"
   ]
  },
  {
   "cell_type": "code",
   "execution_count": 69,
   "id": "0421277a",
   "metadata": {},
   "outputs": [
    {
     "name": "stdout",
     "output_type": "stream",
     "text": [
      "Ah, I didn't find any snacks\n"
     ]
    }
   ],
   "source": [
    "shopping_cart()"
   ]
  },
  {
   "cell_type": "code",
   "execution_count": 70,
   "id": "f5ef3fb7",
   "metadata": {},
   "outputs": [
    {
     "name": "stdout",
     "output_type": "stream",
     "text": [
      "You should eat a bag of doritos\n"
     ]
    }
   ],
   "source": [
    "shopping_cart(snack='doritos')"
   ]
  },
  {
   "cell_type": "code",
   "execution_count": 77,
   "id": "6eece753",
   "metadata": {},
   "outputs": [],
   "source": [
    "# If we print out the kwargs in function you can see it adding each parameter we include in the \n",
    "# parameter list as a new key/value pair to the dictionary\n",
    "def shopping_cart(**kwargs):\n",
    "    print(kwargs)\n",
    "    \n",
    "    if 'snack' in kwargs:\n",
    "        print('You should eat a bag of {}'.format(kwargs['snack']))\n",
    "    else:\n",
    "        print(\"Ah, I didn't find any snacks\")"
   ]
  },
  {
   "cell_type": "code",
   "execution_count": 74,
   "id": "78c34650",
   "metadata": {},
   "outputs": [
    {
     "name": "stdout",
     "output_type": "stream",
     "text": [
      "{'snack': 'doritos'}\n",
      "You should eat a bag of doritos\n"
     ]
    }
   ],
   "source": [
    "shopping_cart(snack='doritos')"
   ]
  },
  {
   "cell_type": "code",
   "execution_count": 75,
   "id": "97bad93e",
   "metadata": {},
   "outputs": [
    {
     "name": "stdout",
     "output_type": "stream",
     "text": [
      "{'snack': 'doritos', 'junk': 'snickers'}\n",
      "You should eat a bag of doritos\n"
     ]
    }
   ],
   "source": [
    "shopping_cart(snack='doritos', junk='snickers')"
   ]
  },
  {
   "cell_type": "code",
   "execution_count": 76,
   "id": "a2880fb7",
   "metadata": {},
   "outputs": [
    {
     "name": "stdout",
     "output_type": "stream",
     "text": [
      "{'snack': 'doritos', 'junk': 'snickers', 'bread': 'toast'}\n",
      "You should eat a bag of doritos\n"
     ]
    }
   ],
   "source": [
    "shopping_cart(snack='doritos', junk='snickers', bread='toast')"
   ]
  },
  {
   "cell_type": "markdown",
   "id": "e5155352",
   "metadata": {},
   "source": [
    "## Putting it all together"
   ]
  },
  {
   "cell_type": "code",
   "execution_count": 90,
   "id": "2c6a5748",
   "metadata": {},
   "outputs": [],
   "source": [
    "# Now we can combine args with kwargs.\n",
    "# Just make sure args always appear first, before kwargs in the param list\n",
    "def func(*args,**kwargs):\n",
    "    \n",
    "    print(args) \n",
    "    print(kwargs)\n",
    "    \n",
    "    print ('Give me {} {}'.format(args[0],kwargs['toys']))"
   ]
  },
  {
   "cell_type": "code",
   "execution_count": 89,
   "id": "aab96822",
   "metadata": {},
   "outputs": [
    {
     "name": "stdout",
     "output_type": "stream",
     "text": [
      "(1337, 9000, 9001)\n",
      "{'toys': 'lego', 'pet': 'dog', 'car': 'jeep'}\n",
      "Give me 9000 lego\n"
     ]
    }
   ],
   "source": [
    "func(1337,9000,9001,toys='lego',pet='dog',car='jeep')"
   ]
  },
  {
   "cell_type": "code",
   "execution_count": 91,
   "id": "a6ef2c02",
   "metadata": {},
   "outputs": [],
   "source": [
    "# We can also change those indexes and values\n",
    "def func(*args,**kwargs):\n",
    "    \n",
    "    print(args) \n",
    "    print(kwargs)\n",
    "    \n",
    "    print ('Give me {} {}'.format(args[1],kwargs['car']))"
   ]
  },
  {
   "cell_type": "code",
   "execution_count": 92,
   "id": "d5064852",
   "metadata": {},
   "outputs": [
    {
     "name": "stdout",
     "output_type": "stream",
     "text": [
      "(1337, 9000, 9001)\n",
      "{'toys': 'lego', 'pet': 'dog', 'car': 'jeep'}\n",
      "Give me 9000 jeep\n"
     ]
    }
   ],
   "source": [
    "func(1337,9000,9001,toys='lego',pet='dog',car='jeep')"
   ]
  },
  {
   "cell_type": "markdown",
   "id": "0faccb9c",
   "metadata": {},
   "source": [
    "This will be useful when using external libraries!\n",
    "That's all we have for this lecture, join me in the next when we drop into Lambda Expressions!\n",
    "Ohhhhhh.... hahaha yeah they are wierd lookn' but I'll break to down for ya.  Let's go!"
   ]
  },
  {
   "cell_type": "code",
   "execution_count": null,
   "id": "f6210135",
   "metadata": {},
   "outputs": [],
   "source": []
  }
 ],
 "metadata": {
  "kernelspec": {
   "display_name": "Python 3 (ipykernel)",
   "language": "python",
   "name": "python3"
  },
  "language_info": {
   "codemirror_mode": {
    "name": "ipython",
    "version": 3
   },
   "file_extension": ".py",
   "mimetype": "text/x-python",
   "name": "python",
   "nbconvert_exporter": "python",
   "pygments_lexer": "ipython3",
   "version": "3.9.7"
  }
 },
 "nbformat": 4,
 "nbformat_minor": 5
}
