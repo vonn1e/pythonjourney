{
 "cells": [
  {
   "cell_type": "markdown",
   "id": "e122a0ba",
   "metadata": {},
   "source": [
    "# While Loops\n",
    "## Another way to get things done in Python!\n",
    "\n",
    "While loops are another way to iterate over elements in an object. It works just as you wouldexpect. As long as a particular condition evaluates to True the loop will continue to iterate through each element in the object until there are no more items left or the condition is no longer true.\n",
    "\n",
    "Let's my show you how this works\n"
   ]
  },
  {
   "cell_type": "code",
   "execution_count": null,
   "id": "0cc76b07",
   "metadata": {},
   "outputs": [],
   "source": [
    "# WARNING! Running this  cell will potentially crash your computer!\n",
    "# Just look at the code: the condition is NEVER false.  0 will always be less than 5 \n",
    "# So the body of the loop keeps executing forever.\n",
    "# If you accidentally run this cell, go to Kernel and click \"Restart\" to quit the forever loop\n",
    "num = 0\n",
    "\n",
    "while num < 5:\n",
    "    print(f'The number is currently {num}')"
   ]
  },
  {
   "cell_type": "code",
   "execution_count": 16,
   "id": "9559cea5",
   "metadata": {},
   "outputs": [
    {
     "name": "stdout",
     "output_type": "stream",
     "text": [
      "The number is currently 0\n",
      "The number is currently 1\n",
      "The number is currently 2\n",
      "The number is currently 3\n",
      "The number is currently 4\n"
     ]
    }
   ],
   "source": [
    "# What we need is for num to update to eventually make the condition false so the loop ends\n",
    "num = 0\n",
    "\n",
    "while num < 5:\n",
    "    print(f'The number is currently {num}')\n",
    "    num += 1"
   ]
  },
  {
   "cell_type": "code",
   "execution_count": 17,
   "id": "3afcd54d",
   "metadata": {},
   "outputs": [
    {
     "name": "stdout",
     "output_type": "stream",
     "text": [
      "The number is currently 0\n",
      "The number is currently 1\n",
      "The number is currently 2\n",
      "The number is currently 3\n",
      "The number is currently 4\n",
      "5 is not less than 5\n"
     ]
    }
   ],
   "source": [
    "# Let's add an else statement\n",
    "num = 0\n",
    "\n",
    "while num < 5:\n",
    "    print(f'The number is currently {num}')\n",
    "    num += 1\n",
    "else:\n",
    "    print(f'{num} is not less than 5')"
   ]
  },
  {
   "cell_type": "code",
   "execution_count": 18,
   "id": "90d56b2e",
   "metadata": {},
   "outputs": [
    {
     "name": "stdout",
     "output_type": "stream",
     "text": [
      "The number is currently 1337\n"
     ]
    }
   ],
   "source": [
    "# Now obviously, if the part part of the codition is false, the while condition \n",
    "# will evaluate to false and skip to the else like this:\n",
    "num = 1337\n",
    "\n",
    "while num < 5:\n",
    "    print(f\"The number is currently {num}\")\n",
    "    num += 1\n",
    "else:\n",
    "    print(f\"The number is currently {num}\")"
   ]
  },
  {
   "cell_type": "markdown",
   "id": "4cf24a59",
   "metadata": {},
   "source": [
    "Now let's talk about **pass**, **continue** and **break**\n",
    "pass does nothing... I'll explain why you would want to use it in a moment.\n",
    "\n",
    "continue skips to the top of the closest enclosing loop\n",
    "\n",
    "break jumps out of the closest enclosing loop"
   ]
  },
  {
   "cell_type": "code",
   "execution_count": 19,
   "id": "66999c5e",
   "metadata": {},
   "outputs": [],
   "source": [
    "# To help clarify what I mean let's start with a basic list\n",
    "my_list = [1,2,3]"
   ]
  },
  {
   "cell_type": "code",
   "execution_count": 21,
   "id": "15669f47",
   "metadata": {},
   "outputs": [
    {
     "ename": "IndentationError",
     "evalue": "expected an indented block (Temp/ipykernel_1708/1259787216.py, line 4)",
     "output_type": "error",
     "traceback": [
      "\u001b[1;36m  File \u001b[1;32m\"C:\\Users\\Vonnie\\AppData\\Local\\Temp/ipykernel_1708/1259787216.py\"\u001b[1;36m, line \u001b[1;32m4\u001b[0m\n\u001b[1;33m    # Put awesome code here later\u001b[0m\n\u001b[1;37m                                 ^\u001b[0m\n\u001b[1;31mIndentationError\u001b[0m\u001b[1;31m:\u001b[0m expected an indented block\n"
     ]
    }
   ],
   "source": [
    "# If you want to add a placeholder comment in a loop the Python interpreter will barf errors\n",
    "# You can't just include a comment inside the loop body like that\n",
    "for i in my_list:\n",
    "    # Put awesome code here later\n"
   ]
  },
  {
   "cell_type": "code",
   "execution_count": 22,
   "id": "983dfa6c",
   "metadata": {},
   "outputs": [],
   "source": [
    "# So instead we can include the pass keyword to get around this limitation\n",
    "for i in my_list:\n",
    "    # Put awesome code here later\n",
    "    pass"
   ]
  },
  {
   "cell_type": "code",
   "execution_count": 24,
   "id": "5d1ad2ac",
   "metadata": {},
   "outputs": [
    {
     "name": "stdout",
     "output_type": "stream",
     "text": [
      "d\n",
      "a\n",
      "m\n",
      "n\n",
      " \n",
      "i\n",
      "t\n"
     ]
    }
   ],
   "source": [
    "# But what about continue? check this out\n",
    "censored = 'damn it'\n",
    "\n",
    "for character in censored:\n",
    "    print(character)"
   ]
  },
  {
   "cell_type": "code",
   "execution_count": 25,
   "id": "462b57c1",
   "metadata": {},
   "outputs": [
    {
     "name": "stdout",
     "output_type": "stream",
     "text": [
      "d\n",
      "m\n",
      "n\n",
      " \n",
      "i\n",
      "t\n"
     ]
    }
   ],
   "source": [
    "# Remember, continue makes the loop jump out of its normal sequence based on \n",
    "# a condition.  So it will go back to the top of the closest enclosing loop\n",
    "# if that condition is true\n",
    "for character in censored:\n",
    "    if character == 'a':\n",
    "        continue\n",
    "    print(character)"
   ]
  },
  {
   "cell_type": "code",
   "execution_count": 26,
   "id": "0c61911e",
   "metadata": {},
   "outputs": [
    {
     "data": {
      "text/plain": [
       "'damn it'"
      ]
     },
     "execution_count": 26,
     "metadata": {},
     "output_type": "execute_result"
    }
   ],
   "source": [
    "# and let's check out break\n",
    "censored"
   ]
  },
  {
   "cell_type": "code",
   "execution_count": 28,
   "id": "cecf855a",
   "metadata": {},
   "outputs": [
    {
     "name": "stdout",
     "output_type": "stream",
     "text": [
      "d\n",
      "Next statement of code\n"
     ]
    }
   ],
   "source": [
    "# We can tell the loop to jump out of the closest enclosing loop and move to the next statement\n",
    "\n",
    "for character in censored:\n",
    "    if character == 'a':\n",
    "        break\n",
    "    print(character)\n",
    "\n",
    "print(\"Next statement of code\")"
   ]
  },
  {
   "cell_type": "code",
   "execution_count": 29,
   "id": "f80f7f46",
   "metadata": {},
   "outputs": [
    {
     "name": "stdout",
     "output_type": "stream",
     "text": [
      "0\n",
      "1\n",
      "2\n",
      "3\n",
      "4\n"
     ]
    }
   ],
   "source": [
    "# Here's another example\n",
    "num = 0\n",
    "\n",
    "while num < 5:\n",
    "    print(num)\n",
    "    num+=1"
   ]
  },
  {
   "cell_type": "code",
   "execution_count": 30,
   "id": "e688ebaf",
   "metadata": {},
   "outputs": [
    {
     "name": "stdout",
     "output_type": "stream",
     "text": [
      "0\n",
      "1\n",
      "2\n"
     ]
    }
   ],
   "source": [
    "# If we want to jump out of the loop when num equals 3 we can just break when that condition is true\n",
    "num = 0\n",
    "\n",
    "while num < 5:\n",
    "    if num == 3:\n",
    "        break\n",
    "    print(num)\n",
    "    num+=1"
   ]
  },
  {
   "cell_type": "markdown",
   "id": "b05b99f7",
   "metadata": {},
   "source": [
    "So that's all! The main thing I want you to remember is to pay attention to your indents and remember: if you end up in an infinite loop press Ctrl+ c or go to Kernel > Restart to refresh the notebook!  Alright, let's head on to the next lecture."
   ]
  },
  {
   "cell_type": "code",
   "execution_count": null,
   "id": "affd1a40",
   "metadata": {},
   "outputs": [],
   "source": []
  }
 ],
 "metadata": {
  "kernelspec": {
   "display_name": "Python 3 (ipykernel)",
   "language": "python",
   "name": "python3"
  },
  "language_info": {
   "codemirror_mode": {
    "name": "ipython",
    "version": 3
   },
   "file_extension": ".py",
   "mimetype": "text/x-python",
   "name": "python",
   "nbconvert_exporter": "python",
   "pygments_lexer": "ipython3",
   "version": "3.9.7"
  }
 },
 "nbformat": 4,
 "nbformat_minor": 5
}
