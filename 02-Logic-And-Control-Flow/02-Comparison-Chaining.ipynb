{
 "cells": [
  {
   "cell_type": "markdown",
   "id": "456ada02",
   "metadata": {},
   "source": [
    "# Chaining Comparison Operators\n",
    "## Connecting the dots\n",
    "\n",
    "So one of the cool things about Python is you can connect or chain many comparison operations together to do more complicating testing.  Think of like a beautiful Python neckless that let's you test complex expressions hehe.\n",
    "\n",
    "## What you will learn\n",
    "1. How to use the **and**, **or** and **not** comparison operators\n",
    "\n",
    "## How to use \"and\" and \"or\" and \"not\"\n",
    "\n",
    "Let me break down how this works"
   ]
  },
  {
   "cell_type": "code",
   "execution_count": 11,
   "id": "98f08861",
   "metadata": {},
   "outputs": [
    {
     "data": {
      "text/plain": [
       "True"
      ]
     },
     "execution_count": 11,
     "metadata": {},
     "output_type": "execute_result"
    }
   ],
   "source": [
    "# So let's think: Let's say we want to compare 0 < 1 and 1 < 2. \n",
    "0 < 1"
   ]
  },
  {
   "cell_type": "code",
   "execution_count": 14,
   "id": "1a06e5ce",
   "metadata": {},
   "outputs": [
    {
     "data": {
      "text/plain": [
       "True"
      ]
     },
     "execution_count": 14,
     "metadata": {},
     "output_type": "execute_result"
    }
   ],
   "source": [
    "1 < 2"
   ]
  },
  {
   "cell_type": "code",
   "execution_count": 13,
   "id": "65d1de92",
   "metadata": {},
   "outputs": [
    {
     "data": {
      "text/plain": [
       "True"
      ]
     },
     "execution_count": 13,
     "metadata": {},
     "output_type": "execute_result"
    }
   ],
   "source": [
    "# I'm going to lace together these two comparison operators.\n",
    "# The below expression checks to see if 0 is less than 1 AND if 1 is ALSO less than 2.  If so, then the entire thing is True.\n",
    "0 < 1 < 2"
   ]
  },
  {
   "cell_type": "code",
   "execution_count": 15,
   "id": "4f89a222",
   "metadata": {},
   "outputs": [
    {
     "data": {
      "text/plain": [
       "True"
      ]
     },
     "execution_count": 15,
     "metadata": {},
     "output_type": "execute_result"
    }
   ],
   "source": [
    "# Here's another way of putting it.  The \"and\" logical operator makes it a little easier to read\n",
    "0<1 and 1<2"
   ]
  },
  {
   "cell_type": "code",
   "execution_count": 17,
   "id": "b00a9295",
   "metadata": {},
   "outputs": [
    {
     "data": {
      "text/plain": [
       "True"
      ]
     },
     "execution_count": 17,
     "metadata": {},
     "output_type": "execute_result"
    }
   ],
   "source": [
    "# You can also group things in parenthesis if that makes things more readible for ya\n",
    "(0<1) and (1<2)"
   ]
  },
  {
   "cell_type": "code",
   "execution_count": 6,
   "id": "ccae5f34",
   "metadata": {},
   "outputs": [
    {
     "data": {
      "text/plain": [
       "True"
      ]
     },
     "execution_count": 6,
     "metadata": {},
     "output_type": "execute_result"
    }
   ],
   "source": [
    "# You can also flip things up like this.\n",
    "# This is fancy way of saying \"Is 0 less than 2? Ok yup, AND is 2 also greater than 1? Yup. Alright so the entire expression is True\"\n",
    "0 < 2 > 1"
   ]
  },
  {
   "cell_type": "code",
   "execution_count": 7,
   "id": "b8faccde",
   "metadata": {},
   "outputs": [
    {
     "data": {
      "text/plain": [
       "True"
      ]
     },
     "execution_count": 7,
     "metadata": {},
     "output_type": "execute_result"
    }
   ],
   "source": [
    "# This is identical to this:\n",
    "0<2 and 2>1"
   ]
  },
  {
   "cell_type": "code",
   "execution_count": 18,
   "id": "075c5f7c",
   "metadata": {},
   "outputs": [
    {
     "data": {
      "text/plain": [
       "True"
      ]
     },
     "execution_count": 18,
     "metadata": {},
     "output_type": "execute_result"
    }
   ],
   "source": [
    "# \"and\" isnt the only \"connecting\" operator.  We can use \"or\" too!  Just ONE condition needs to be true.\n",
    "1337==9000 or 0<2"
   ]
  },
  {
   "cell_type": "code",
   "execution_count": 20,
   "id": "4eb8f029",
   "metadata": {},
   "outputs": [
    {
     "data": {
      "text/plain": [
       "False"
      ]
     },
     "execution_count": 20,
     "metadata": {},
     "output_type": "execute_result"
    }
   ],
   "source": [
    "# this one is false because BOTH conditions are false.\n",
    "1337==9000 or 1337<2"
   ]
  },
  {
   "cell_type": "code",
   "execution_count": 21,
   "id": "20d43175",
   "metadata": {},
   "outputs": [
    {
     "data": {
      "text/plain": [
       "True"
      ]
     },
     "execution_count": 21,
     "metadata": {},
     "output_type": "execute_result"
    }
   ],
   "source": [
    " # But down here, notice the result is still true.  Even though 1337 is NOT equal to 9000, zero is indeed less than 2.  Only one needs to be true for the entire thing to evaluate to true.\n",
    "-1==999999 or 1==1"
   ]
  },
  {
   "cell_type": "code",
   "execution_count": 22,
   "id": "d9a47b40",
   "metadata": {},
   "outputs": [
    {
     "data": {
      "text/plain": [
       "True"
      ]
     },
     "execution_count": 22,
     "metadata": {},
     "output_type": "execute_result"
    }
   ],
   "source": [
    "# And finally, we can wrap things up with the \"NOT\" keyword\n",
    "# It just does the opposite bool \n",
    "1337 == 1337"
   ]
  },
  {
   "cell_type": "code",
   "execution_count": 23,
   "id": "71830603",
   "metadata": {},
   "outputs": [
    {
     "data": {
      "text/plain": [
       "False"
      ]
     },
     "execution_count": 23,
     "metadata": {},
     "output_type": "execute_result"
    }
   ],
   "source": [
    "not (1337 == 1337)"
   ]
  },
  {
   "cell_type": "code",
   "execution_count": 25,
   "id": "141ff43f",
   "metadata": {},
   "outputs": [
    {
     "data": {
      "text/plain": [
       "False"
      ]
     },
     "execution_count": 25,
     "metadata": {},
     "output_type": "execute_result"
    }
   ],
   "source": [
    "# This also works without the parenthesis\n",
    "not 1337 == 1337"
   ]
  },
  {
   "cell_type": "markdown",
   "id": "91053b92",
   "metadata": {},
   "source": [
    "Alright, so that's it for Comparison Chaining! You should now start to get the gist of the **or** and **and** and **not** operators!  Awesome! Awesome! Let's keep marching forward!"
   ]
  }
 ],
 "metadata": {
  "kernelspec": {
   "display_name": "Python 3 (ipykernel)",
   "language": "python",
   "name": "python3"
  },
  "language_info": {
   "codemirror_mode": {
    "name": "ipython",
    "version": 3
   },
   "file_extension": ".py",
   "mimetype": "text/x-python",
   "name": "python",
   "nbconvert_exporter": "python",
   "pygments_lexer": "ipython3",
   "version": "3.9.7"
  }
 },
 "nbformat": 4,
 "nbformat_minor": 5
}
