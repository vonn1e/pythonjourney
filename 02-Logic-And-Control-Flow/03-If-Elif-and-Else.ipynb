{
 "cells": [
  {
   "cell_type": "markdown",
   "id": "9948c9a1",
   "metadata": {},
   "source": [
    "# Control Flow\n",
    "## If, Elif and Else\n",
    "\n",
    "This is where programming power dwells.  With If, Elif and Else statements, you the programmer, can conrol the logical flow of how the program progresses.  Statements don't need to be executed sequentially, you can branch and divert the flow based on how conditions are evaluated!\n",
    "\n",
    "So we can do things like \"If you give me $250,000 THEN I will buy a Porsche 911 Turbo S\". The first part of that statement is the CONDITION... giving me a quarter mil.  The second part is the ACTION, me driving off into the sunset with an electric blue Porsche.  Thanks by the way :)\n",
    "\n",
    "So in order to pull this off I need to underscore the importance of whitespace (indentation).  **Python cares about whitespace.**   Indentation is how you group code blocks.\n",
    "\n",
    "For example check this out:\n",
    "\n",
    "**if** condition:\n",
    "    # execute this code\n",
    "    \n",
    "Notice how the code to be executed is indented.  That part is critical for Python.  \n",
    "Also notice the condition ends with a colon \":\".\n",
    "What's the condition? It's just the expression that evaluates to True or False.  Check out the last two lectures if you need a quick refresher on those!\n",
    "\n",
    "So back to If, we can also do this:\n",
    "\n",
    "**if** condition:\n",
    "    # execute this code\n",
    "**else:**\n",
    "    # execute this code which does something different\n",
    "    \n",
    "So if the **if** condition is false the **else** block will evaluate.\n",
    "The key thing to keep in mind here is the **else** block is aligned with the **if** block.  And the else ends with a colon like the if.\n",
    "\n",
    "Now, the indentation isn't just for asthetics, in Python it's for functionality.  If the else weren't indented at the same level as the if we would run into syntax issues.\n",
    "\n",
    "Finally, we can use **elif** which is like an else if.\n",
    "\n",
    "**if** condition:\n",
    "    # execute this code\n",
    "**elseif this_other_condition:**\n",
    "    # execute this different block of code\n",
    "**elseif this_totally_other_condition:**\n",
    "    # do this new thing\n",
    "**else:**\n",
    "    # when all else fails, run this block of code\n",
    "    \n",
    "## In this lesson you will learn:\n",
    "1. How to create **if** statements\n",
    "2. How to use the **else** keyword\n",
    "3. How to use the **elif** keyword\n",
    "\n",
    "## How to create if statements"
   ]
  },
  {
   "cell_type": "code",
   "execution_count": 7,
   "id": "54693835",
   "metadata": {},
   "outputs": [
    {
     "name": "stdout",
     "output_type": "stream",
     "text": [
      "What up world!\n"
     ]
    }
   ],
   "source": [
    "# let's start easy\n",
    "# Your IDE will auto-indent for you - how nice!\n",
    "if True:\n",
    "    print('What up world!')"
   ]
  },
  {
   "cell_type": "code",
   "execution_count": 2,
   "id": "b890aaf9",
   "metadata": {},
   "outputs": [
    {
     "name": "stdout",
     "output_type": "stream",
     "text": [
      "What up world!\n"
     ]
    }
   ],
   "source": [
    "if 1337 > 0:\n",
    "    print('What up world!')"
   ]
  },
  {
   "cell_type": "code",
   "execution_count": 3,
   "id": "210e7c00",
   "metadata": {},
   "outputs": [
    {
     "name": "stdout",
     "output_type": "stream",
     "text": [
      "What flavor you want?\n"
     ]
    }
   ],
   "source": [
    "like_ice_cream = True\n",
    "\n",
    "if like_ice_cream:\n",
    "    print(\"What flavor you want?\")"
   ]
  },
  {
   "cell_type": "code",
   "execution_count": 6,
   "id": "9b89b31d",
   "metadata": {},
   "outputs": [],
   "source": [
    "# Notice when we set the condition to False, the entire If block gets skipped, so nothing gets printed here\n",
    "like_ice_cream = False\n",
    "if like_ice_cream:\n",
    "    print(\"What flavor you want?\")"
   ]
  },
  {
   "cell_type": "markdown",
   "id": "27be75c0",
   "metadata": {},
   "source": [
    "## How to use the else keyword"
   ]
  },
  {
   "cell_type": "code",
   "execution_count": 9,
   "id": "1421e3b0",
   "metadata": {},
   "outputs": [
    {
     "name": "stdout",
     "output_type": "stream",
     "text": [
      "Aw, I'm sorry you don't like ice cream\n"
     ]
    }
   ],
   "source": [
    "# We could add in an else statement to this condition so it does something when the If statement is False\n",
    "like_ice_cream = False\n",
    "if like_ice_cream:\n",
    "    print(\"what flavor you want?\")\n",
    "else:\n",
    "    print(\"Aw, I'm sorry you don't like ice cream\")\n",
    "    "
   ]
  },
  {
   "cell_type": "markdown",
   "id": "aa5d17d8",
   "metadata": {},
   "source": [
    "## How to use the elif keyword"
   ]
  },
  {
   "cell_type": "code",
   "execution_count": 12,
   "id": "d4621d8d",
   "metadata": {},
   "outputs": [
    {
     "name": "stdout",
     "output_type": "stream",
     "text": [
      "Facebook is a huge social platform!\n"
     ]
    }
   ],
   "source": [
    "# Let's dig into elif\n",
    "social_platform = 'Facebook'\n",
    "if social_platform == 'Facebook':\n",
    "    print(\"Facebook is a huge social platform!\")\n",
    "elif social_platform == 'LinkedIN':\n",
    "    print(\"LinkedIN is great for building your professional network!\")\n",
    "elif social_platform == 'Twitter':\n",
    "    print(\"Twitter is good for getting, quick news updates\")\n",
    "else:\n",
    "    print(\"Um... I'm not sure what Social Platform that is\")"
   ]
  },
  {
   "cell_type": "code",
   "execution_count": null,
   "id": "346e9aee",
   "metadata": {},
   "outputs": [],
   "source": [
    "# So the key things here are:\n",
    "# 1. Make sure the indents for control flow keywords are at the same level\n",
    "# 2. Make sure the conditions end in a colon\n",
    "\n",
    "# Watch what happens if the indents don't match\n",
    "a = True\n",
    "\n",
    "if a:\n",
    "    print(\"AAAA I like AA!\")\n",
    "    else \n",
    "    print(\"Errors.. oh the errors\")"
   ]
  },
  {
   "cell_type": "markdown",
   "id": "4424d2de",
   "metadata": {},
   "source": [
    "Okay, so great job getting through this one! \n",
    "In the next lecture we'll dig into loops! Let's go!"
   ]
  }
 ],
 "metadata": {
  "kernelspec": {
   "display_name": "Python 3 (ipykernel)",
   "language": "python",
   "name": "python3"
  },
  "language_info": {
   "codemirror_mode": {
    "name": "ipython",
    "version": 3
   },
   "file_extension": ".py",
   "mimetype": "text/x-python",
   "name": "python",
   "nbconvert_exporter": "python",
   "pygments_lexer": "ipython3",
   "version": "3.9.7"
  }
 },
 "nbformat": 4,
 "nbformat_minor": 5
}
