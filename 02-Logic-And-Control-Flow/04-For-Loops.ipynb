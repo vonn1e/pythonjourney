{
 "cells": [
  {
   "cell_type": "markdown",
   "id": "4690349b",
   "metadata": {},
   "source": [
    "# For Loops\n",
    "## Making Python Work for YOU!\n",
    "\n",
    "\"You da boss man, you da boss.\"  That's what a NYC barber kept telling me a few months ago when I got my haircut in Times Square and that's what Python is basically saying to you when you tell it to do \"for\" loops.\n",
    "\n",
    "Objects in Python are what's known as \"iterable\" mean you can walk through every element in a given object and every time you walk through an item in that object you can do something... run some code for example.\n",
    "\n",
    "This is very powerful as you will soon find out.\n",
    "\n",
    "We can iterate over every item in a list ir dictionary or string or whatever.  Let's look at the syntax\n",
    "\n",
    "for some_number in my_list:\n",
    "    print(some_number)\n",
    "    \n",
    "In the above code, we have a list called my_list.  It could include anything, let's say it just contains three items, 1, 2 and 3.\n",
    "\n",
    "Then we create a variable name, some_number, and this is the placeholder that gets updated each time through the loop.  So some_number is constantly getting updated as the loop moves foward.  In this exmaple, the first time through some_number is 1.  The second time through, some_number is 2 and the last time through some_number is 3.\n",
    "\n",
    "And that print statement gets run each time through the loop.  This is a lot easier to explain by showing you the code in the Jupyter notebook!"
   ]
  },
  {
   "cell_type": "code",
   "execution_count": 1,
   "id": "7364f6cf",
   "metadata": {},
   "outputs": [],
   "source": [
    "my_list = [1,2,3,4,5,6,7,8,9,10]"
   ]
  },
  {
   "cell_type": "code",
   "execution_count": 2,
   "id": "e5d0efb7",
   "metadata": {},
   "outputs": [
    {
     "data": {
      "text/plain": [
       "[1, 2, 3, 4, 5, 6, 7, 8, 9, 10]"
      ]
     },
     "execution_count": 2,
     "metadata": {},
     "output_type": "execute_result"
    }
   ],
   "source": [
    "my_list"
   ]
  },
  {
   "cell_type": "code",
   "execution_count": 4,
   "id": "28cdc436",
   "metadata": {},
   "outputs": [
    {
     "name": "stdout",
     "output_type": "stream",
     "text": [
      "1\n",
      "2\n",
      "3\n",
      "4\n",
      "5\n",
      "6\n",
      "7\n",
      "8\n",
      "9\n",
      "10\n"
     ]
    }
   ],
   "source": [
    "# I'll name that represents each object item in the iterable can be named anything.  I named it \"item\" below but it can be called almost anything really\n",
    "for item in my_list:\n",
    "    print(item)"
   ]
  },
  {
   "cell_type": "code",
   "execution_count": 6,
   "id": "f984544b",
   "metadata": {},
   "outputs": [
    {
     "name": "stdout",
     "output_type": "stream",
     "text": [
      "sup\n",
      "sup\n",
      "sup\n",
      "sup\n",
      "sup\n",
      "sup\n",
      "sup\n",
      "sup\n",
      "sup\n",
      "sup\n"
     ]
    }
   ],
   "source": [
    "# You don't even need to use the placehold variable name in the code execution block.  \n",
    "# You can see we aren't even printing out the item below, we're just saying \"sup\".  \n",
    "# Since we have 10 items in the list it's pretting \"sup\" 10 times.\n",
    "for item in my_list:\n",
    "    print(\"sup\")"
   ]
  },
  {
   "cell_type": "code",
   "execution_count": 7,
   "id": "b6966f26",
   "metadata": {},
   "outputs": [
    {
     "data": {
      "text/plain": [
       "[1, 2, 3, 4, 5, 6, 7, 8, 9, 10]"
      ]
     },
     "execution_count": 7,
     "metadata": {},
     "output_type": "execute_result"
    }
   ],
   "source": [
    "# Let's check how we can only print out even numbers\n",
    "my_list"
   ]
  },
  {
   "cell_type": "code",
   "execution_count": 13,
   "id": "ec1aafff",
   "metadata": {},
   "outputs": [
    {
     "data": {
      "text/plain": [
       "False"
      ]
     },
     "execution_count": 13,
     "metadata": {},
     "output_type": "execute_result"
    }
   ],
   "source": [
    "# So if we take the first element in the list and test to see if it's divisible by 2 the result should be 0.\n",
    "# So what's the first item in the list? 1 right? Is 1 mod 2 equal to 0? In other words, is 1 even?\n",
    "my_list[0] % 2 == 0"
   ]
  },
  {
   "cell_type": "code",
   "execution_count": 14,
   "id": "11196d7d",
   "metadata": {},
   "outputs": [
    {
     "data": {
      "text/plain": [
       "True"
      ]
     },
     "execution_count": 14,
     "metadata": {},
     "output_type": "execute_result"
    }
   ],
   "source": [
    "# Okay, what about the second number in the list.  \n",
    "# Is 2 % 2 equal to 0? yup, so it's even!\n",
    "my_list[1] % 2 == 0"
   ]
  },
  {
   "cell_type": "code",
   "execution_count": 12,
   "id": "6cfa1b82",
   "metadata": {},
   "outputs": [
    {
     "data": {
      "text/plain": [
       "2"
      ]
     },
     "execution_count": 12,
     "metadata": {},
     "output_type": "execute_result"
    }
   ],
   "source": [
    "my_list[1]"
   ]
  },
  {
   "cell_type": "code",
   "execution_count": 18,
   "id": "4ef815a5",
   "metadata": {},
   "outputs": [
    {
     "name": "stdout",
     "output_type": "stream",
     "text": [
      "1 is odd\n",
      "2 is even\n",
      "3 is odd\n",
      "4 is even\n",
      "5 is odd\n",
      "6 is even\n",
      "7 is odd\n",
      "8 is even\n",
      "9 is odd\n",
      "10 is even\n"
     ]
    }
   ],
   "source": [
    "# So now we can add some conditional logic to our loop\n",
    "# We'll combine this with f-string literals to modern hehe\n",
    "for da_number in my_list:\n",
    "    if da_number % 2 == 0:\n",
    "        print(f\"{da_number} is even\")\n",
    "    else:\n",
    "        print(f\"{da_number} is odd\")"
   ]
  },
  {
   "cell_type": "markdown",
   "id": "46088a33",
   "metadata": {},
   "source": [
    "Indentation is key here.  That if and else is inside that for loop because it is indented under the for loop.  That entire block of code gets executed for every time in the list - that if and else is tested "
   ]
  },
  {
   "cell_type": "code",
   "execution_count": 22,
   "id": "d87afdcf",
   "metadata": {},
   "outputs": [
    {
     "name": "stdout",
     "output_type": "stream",
     "text": [
      "55\n"
     ]
    }
   ],
   "source": [
    "# Let's have some more fun\n",
    "# Let's do a tally.  We start by zeroing out a new variable called total.\n",
    "# Then we loop through the list adding it to the total on each iteration until there's no more items left to add\n",
    "total = 0\n",
    "for num in my_list:\n",
    "    total = total + num\n",
    "print(total)"
   ]
  },
  {
   "cell_type": "code",
   "execution_count": 26,
   "id": "098cdd04",
   "metadata": {},
   "outputs": [
    {
     "name": "stdout",
     "output_type": "stream",
     "text": [
      "[1, 2, 3, 4, 5, 6, 7, 8, 9, 10]\n",
      "1\n",
      "3\n",
      "6\n",
      "10\n",
      "15\n",
      "21\n",
      "28\n",
      "36\n",
      "45\n",
      "55\n"
     ]
    }
   ],
   "source": [
    "# Look what happens when we indent the print(total) so it's inside the for loop\n",
    "print(my_list)\n",
    "\n",
    "total = 0\n",
    "for num in my_list:\n",
    "    total = total + num\n",
    "    print(total)"
   ]
  },
  {
   "cell_type": "code",
   "execution_count": 28,
   "id": "6f6e6bcd",
   "metadata": {},
   "outputs": [
    {
     "name": "stdout",
     "output_type": "stream",
     "text": [
      "W\n",
      "h\n",
      "a\n",
      "t\n",
      "u\n",
      "p\n",
      " \n",
      "w\n",
      "o\n",
      "r\n",
      "l\n",
      "d\n",
      "!\n"
     ]
    }
   ],
   "source": [
    "# We can also do it with strings\n",
    "greeting = 'Whatup world!'\n",
    "\n",
    "for letter in greeting:\n",
    "    print(letter)"
   ]
  },
  {
   "cell_type": "code",
   "execution_count": 29,
   "id": "86ebe9ef",
   "metadata": {},
   "outputs": [
    {
     "name": "stdout",
     "output_type": "stream",
     "text": [
      "W\n",
      "h\n",
      "a\n",
      "t\n",
      "u\n",
      "p\n",
      " \n",
      "w\n",
      "o\n",
      "r\n",
      "l\n",
      "d\n",
      "!\n"
     ]
    }
   ],
   "source": [
    "# The placeholder can be named anything though\n",
    "greeting = 'Whatup world!'\n",
    "\n",
    "for i in greeting:\n",
    "    print(i)"
   ]
  },
  {
   "cell_type": "code",
   "execution_count": 30,
   "id": "2a691397",
   "metadata": {},
   "outputs": [
    {
     "name": "stdout",
     "output_type": "stream",
     "text": [
      "Amaze balls\n",
      "Amaze balls\n",
      "Amaze balls\n",
      "Amaze balls\n",
      "Amaze balls\n",
      "Amaze balls\n",
      "Amaze balls\n",
      "Amaze balls\n",
      "Amaze balls\n",
      "Amaze balls\n",
      "Amaze balls\n",
      "Amaze balls\n",
      "Amaze balls\n"
     ]
    }
   ],
   "source": [
    "# You can even sort of remove it with the underscore character. \n",
    "# This is sometimes a good idea if the placholder isn't actually used in the loop itself\n",
    "greeting = 'Whatup world!'\n",
    "\n",
    "for _ in greeting:\n",
    "    print('Amaze balls')"
   ]
  },
  {
   "cell_type": "code",
   "execution_count": 31,
   "id": "a8398a13",
   "metadata": {},
   "outputs": [
    {
     "name": "stdout",
     "output_type": "stream",
     "text": [
      "1\n",
      "2\n",
      "3\n"
     ]
    }
   ],
   "source": [
    "# Same works for tuples\n",
    "my_tuple = (1,2,3)\n",
    "\n",
    "for t in my_tuple:\n",
    "    print(t)"
   ]
  },
  {
   "cell_type": "code",
   "execution_count": 34,
   "id": "effd92a7",
   "metadata": {},
   "outputs": [],
   "source": [
    "# But there's something interesting that happens if you are iterating through sequence full of tuples\n",
    "# You can grab the item itself with this thing known as Tuple Unpacking\n",
    "my_list_of_tuples = [(1,2),(3,4),(5,6),(7,8),(9,10)]"
   ]
  },
  {
   "cell_type": "code",
   "execution_count": 35,
   "id": "6200a994",
   "metadata": {},
   "outputs": [
    {
     "data": {
      "text/plain": [
       "list"
      ]
     },
     "execution_count": 35,
     "metadata": {},
     "output_type": "execute_result"
    }
   ],
   "source": [
    "type(my_list_of_tuples)"
   ]
  },
  {
   "cell_type": "code",
   "execution_count": 36,
   "id": "4c27a79a",
   "metadata": {},
   "outputs": [
    {
     "data": {
      "text/plain": [
       "5"
      ]
     },
     "execution_count": 36,
     "metadata": {},
     "output_type": "execute_result"
    }
   ],
   "source": [
    "len(my_list_of_tuples)"
   ]
  },
  {
   "cell_type": "code",
   "execution_count": 37,
   "id": "7658696b",
   "metadata": {},
   "outputs": [
    {
     "name": "stdout",
     "output_type": "stream",
     "text": [
      "(1, 2)\n",
      "(3, 4)\n",
      "(5, 6)\n",
      "(7, 8)\n",
      "(9, 10)\n"
     ]
    }
   ],
   "source": [
    "# So lets try print out all those items with a for loop\n",
    "for placeholder in my_list_of_tuples:\n",
    "    print(placeholder)"
   ]
  },
  {
   "cell_type": "code",
   "execution_count": 38,
   "id": "c6d5d9cd",
   "metadata": {},
   "outputs": [
    {
     "name": "stdout",
     "output_type": "stream",
     "text": [
      "1\n",
      "2\n",
      "3\n",
      "4\n",
      "5\n",
      "6\n",
      "7\n",
      "8\n",
      "9\n",
      "10\n"
     ]
    }
   ],
   "source": [
    "# Lets unpack it \n",
    "for (a,b) in my_list_of_tuples:\n",
    "    print(a)\n",
    "    print(b)"
   ]
  },
  {
   "cell_type": "code",
   "execution_count": 39,
   "id": "a7bdab27",
   "metadata": {},
   "outputs": [
    {
     "name": "stdout",
     "output_type": "stream",
     "text": [
      "1\n",
      "2\n",
      "3\n",
      "4\n",
      "5\n",
      "6\n",
      "7\n",
      "8\n",
      "9\n",
      "10\n"
     ]
    }
   ],
   "source": [
    "# You can also drop the parenthesis and unpack naked\n",
    "for a,b in my_list_of_tuples:\n",
    "    print(a)\n",
    "    print(b)"
   ]
  },
  {
   "cell_type": "code",
   "execution_count": null,
   "id": "80f19e4c",
   "metadata": {},
   "outputs": [],
   "source": []
  }
 ],
 "metadata": {
  "kernelspec": {
   "display_name": "Python 3 (ipykernel)",
   "language": "python",
   "name": "python3"
  },
  "language_info": {
   "codemirror_mode": {
    "name": "ipython",
    "version": 3
   },
   "file_extension": ".py",
   "mimetype": "text/x-python",
   "name": "python",
   "nbconvert_exporter": "python",
   "pygments_lexer": "ipython3",
   "version": "3.9.7"
  }
 },
 "nbformat": 4,
 "nbformat_minor": 5
}
