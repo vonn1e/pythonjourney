{
 "cells": [
  {
   "cell_type": "markdown",
   "id": "8c87f458",
   "metadata": {},
   "source": [
    "# List Comprehensions\n",
    "## Can you comprehend it?\n",
    "\n",
    "So I'm going to be up front with you and say these are pretty advanced\n",
    "I'm only sharing it here so you can be aware of these when you see them in Stack Overflow or in your Google searches or in interview questions.\n",
    "\n",
    "Let's jump right in\n",
    "\n",
    "A list comprehension is just a compact way to build a list.  It's like a for loop one-liner in brackets.  This means it can look beautiful but can also reduce readability which isn't a good thing so you'll need to use these wisely.\n",
    "\n"
   ]
  },
  {
   "cell_type": "code",
   "execution_count": 31,
   "id": "f619ade1",
   "metadata": {},
   "outputs": [],
   "source": [
    "first_name = \"Vonnie\""
   ]
  },
  {
   "cell_type": "code",
   "execution_count": 32,
   "id": "8981e07c",
   "metadata": {},
   "outputs": [],
   "source": [
    "my_list = []\n",
    "\n",
    "for letter in first_name:\n",
    "    my_list.append(letter)"
   ]
  },
  {
   "cell_type": "code",
   "execution_count": 33,
   "id": "b7a27ded",
   "metadata": {},
   "outputs": [
    {
     "data": {
      "text/plain": [
       "['V', 'o', 'n', 'n', 'i', 'e']"
      ]
     },
     "execution_count": 33,
     "metadata": {},
     "output_type": "execute_result"
    }
   ],
   "source": [
    "my_list"
   ]
  },
  {
   "cell_type": "code",
   "execution_count": 36,
   "id": "be54f3a1",
   "metadata": {},
   "outputs": [],
   "source": [
    "# it's a flat for loop\n",
    "my_list = [letter for letter in first_name]"
   ]
  },
  {
   "cell_type": "code",
   "execution_count": 37,
   "id": "e39c010f",
   "metadata": {},
   "outputs": [
    {
     "data": {
      "text/plain": [
       "['V', 'o', 'n', 'n', 'i', 'e']"
      ]
     },
     "execution_count": 37,
     "metadata": {},
     "output_type": "execute_result"
    }
   ],
   "source": [
    "my_list"
   ]
  },
  {
   "cell_type": "code",
   "execution_count": 9,
   "id": "f98e0f59",
   "metadata": {},
   "outputs": [],
   "source": [
    "my_list = [element for element in 'iterable_object']"
   ]
  },
  {
   "cell_type": "code",
   "execution_count": 10,
   "id": "51d4cdbc",
   "metadata": {},
   "outputs": [
    {
     "data": {
      "text/plain": [
       "['i', 't', 'e', 'r', 'a', 'b', 'l', 'e', '_', 'o', 'b', 'j', 'e', 'c', 't']"
      ]
     },
     "execution_count": 10,
     "metadata": {},
     "output_type": "execute_result"
    }
   ],
   "source": [
    "my_list"
   ]
  },
  {
   "cell_type": "code",
   "execution_count": 11,
   "id": "2cc8fb55",
   "metadata": {},
   "outputs": [],
   "source": [
    "my_list = [num for num in range(0,11)]"
   ]
  },
  {
   "cell_type": "code",
   "execution_count": 12,
   "id": "52eed353",
   "metadata": {},
   "outputs": [
    {
     "data": {
      "text/plain": [
       "[0, 1, 2, 3, 4, 5, 6, 7, 8, 9, 10]"
      ]
     },
     "execution_count": 12,
     "metadata": {},
     "output_type": "execute_result"
    }
   ],
   "source": [
    "my_list"
   ]
  },
  {
   "cell_type": "code",
   "execution_count": 38,
   "id": "7be6d7c6",
   "metadata": {},
   "outputs": [
    {
     "data": {
      "text/plain": [
       "[0, 1, 4, 9, 16, 25, 36, 49, 64, 81, 100]"
      ]
     },
     "execution_count": 38,
     "metadata": {},
     "output_type": "execute_result"
    }
   ],
   "source": [
    "# You can also perform operations on the first variable before the \"for\" keyword\n",
    "my_list = [num*num for num in range(0,11)]\n",
    "my_list"
   ]
  },
  {
   "cell_type": "code",
   "execution_count": 39,
   "id": "f5643051",
   "metadata": {},
   "outputs": [
    {
     "data": {
      "text/plain": [
       "[0, 1, 4, 9, 16, 25, 36, 49, 64, 81, 100]"
      ]
     },
     "execution_count": 39,
     "metadata": {},
     "output_type": "execute_result"
    }
   ],
   "source": [
    "# here's how we would do the same thing with an old school for loop\n",
    "# once isn't any more efficient but could be easier to read\n",
    "my_list = []\n",
    "for num in range(0,11):\n",
    "    my_list.append(num*num)\n",
    "my_list"
   ]
  },
  {
   "cell_type": "code",
   "execution_count": 42,
   "id": "1ac9f890",
   "metadata": {},
   "outputs": [
    {
     "data": {
      "text/plain": [
       "[0, 2, 4, 6, 8, 10]"
      ]
     },
     "execution_count": 42,
     "metadata": {},
     "output_type": "execute_result"
    }
   ],
   "source": [
    "# you can also check for if conditions in the list comprehension\n",
    "# here we can only print out the even numbers by adding the neccessary check \n",
    "evens = [num for num in range(0,11) if num%2==0]\n",
    "evens"
   ]
  },
  {
   "cell_type": "code",
   "execution_count": 52,
   "id": "b540bb77",
   "metadata": {},
   "outputs": [
    {
     "data": {
      "text/plain": [
       "[0.0, 8.04672, 24.14016, 88.51392000000001, 104.60736]"
      ]
     },
     "execution_count": 52,
     "metadata": {},
     "output_type": "execute_result"
    }
   ],
   "source": [
    "# We can use these beautiful list comprehensions to do conversions\n",
    "# For example we can easily convert all the values in mph to kph \n",
    "mph = [0,5,15,55,65]\n",
    "kph = [(speed * 1.609344) for speed in mph]\n",
    "kph"
   ]
  },
  {
   "cell_type": "code",
   "execution_count": 47,
   "id": "9493a519",
   "metadata": {},
   "outputs": [
    {
     "data": {
      "text/plain": [
       "[0.0, 8.04672, 24.14016, 88.51392000000001, 104.60736]"
      ]
     },
     "execution_count": 47,
     "metadata": {},
     "output_type": "execute_result"
    }
   ],
   "source": [
    "# here's how this pans out in the old school loop\n",
    "mph = [0,5,15,55,65]\n",
    "kph = []\n",
    "for speed in mph:\n",
    "    kph.append(speed * 1.609344)\n",
    "kph"
   ]
  },
  {
   "cell_type": "markdown",
   "id": "cabf6abe",
   "metadata": {},
   "source": [
    "You can also add else conditions and nested loops in list comprehensions \n",
    "but it's complicated and not recommended because it will make code more difficult to read"
   ]
  }
 ],
 "metadata": {
  "kernelspec": {
   "display_name": "Python 3 (ipykernel)",
   "language": "python",
   "name": "python3"
  },
  "language_info": {
   "codemirror_mode": {
    "name": "ipython",
    "version": 3
   },
   "file_extension": ".py",
   "mimetype": "text/x-python",
   "name": "python",
   "nbconvert_exporter": "python",
   "pygments_lexer": "ipython3",
   "version": "3.9.7"
  }
 },
 "nbformat": 4,
 "nbformat_minor": 5
}
