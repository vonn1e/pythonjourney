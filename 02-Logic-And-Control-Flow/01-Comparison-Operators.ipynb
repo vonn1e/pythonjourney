{
 "cells": [
  {
   "cell_type": "markdown",
   "id": "74922efe",
   "metadata": {},
   "source": [
    "# Comparison Operators\n",
    "## It's all about equality (and inequality)\n",
    "\n",
    "So this is a perfect build on Bools.  Comparison Operators let us compare variables and return a bool result.  It's all pretty easy.\n",
    "\n",
    "## In this lesson you will learn\n",
    "1. How to use comparison operators\n",
    "\n",
    "## How to use Comparison Operators\n"
   ]
  },
  {
   "cell_type": "code",
   "execution_count": 1,
   "id": "00cd85ae",
   "metadata": {},
   "outputs": [
    {
     "data": {
      "text/plain": [
       "True"
      ]
     },
     "execution_count": 1,
     "metadata": {},
     "output_type": "execute_result"
    }
   ],
   "source": [
    "2 == 2"
   ]
  },
  {
   "cell_type": "code",
   "execution_count": 10,
   "id": "928eb1d3",
   "metadata": {},
   "outputs": [
    {
     "data": {
      "text/plain": [
       "True"
      ]
     },
     "execution_count": 10,
     "metadata": {},
     "output_type": "execute_result"
    }
   ],
   "source": [
    "# This also works for floats\n",
    "2.0 == 2"
   ]
  },
  {
   "cell_type": "code",
   "execution_count": 11,
   "id": "4d290584",
   "metadata": {},
   "outputs": [
    {
     "data": {
      "text/plain": [
       "False"
      ]
     },
     "execution_count": 11,
     "metadata": {},
     "output_type": "execute_result"
    }
   ],
   "source": [
    "# But not for numbers that are actually strings \n",
    "'2' == 2"
   ]
  },
  {
   "cell_type": "code",
   "execution_count": 12,
   "id": "caff5ab4",
   "metadata": {},
   "outputs": [
    {
     "data": {
      "text/plain": [
       "False"
      ]
     },
     "execution_count": 12,
     "metadata": {},
     "output_type": "execute_result"
    }
   ],
   "source": [
    "# Or just unequal numbers...\n",
    "2 == 1"
   ]
  },
  {
   "cell_type": "code",
   "execution_count": 3,
   "id": "3c0246e1",
   "metadata": {},
   "outputs": [
    {
     "data": {
      "text/plain": [
       "True"
      ]
     },
     "execution_count": 3,
     "metadata": {},
     "output_type": "execute_result"
    }
   ],
   "source": [
    "# We need two equal signs otherwise Python assumes variable assignment\n",
    "'Vonnie' == 'Vonnie'"
   ]
  },
  {
   "cell_type": "code",
   "execution_count": 4,
   "id": "523861a5",
   "metadata": {},
   "outputs": [
    {
     "ename": "SyntaxError",
     "evalue": "cannot assign to literal (Temp/ipykernel_8768/3121182985.py, line 1)",
     "output_type": "error",
     "traceback": [
      "\u001b[1;36m  File \u001b[1;32m\"C:\\Users\\Vonnie\\AppData\\Local\\Temp/ipykernel_8768/3121182985.py\"\u001b[1;36m, line \u001b[1;32m1\u001b[0m\n\u001b[1;33m    'Vonnie' = 'Vonnie'\u001b[0m\n\u001b[1;37m    ^\u001b[0m\n\u001b[1;31mSyntaxError\u001b[0m\u001b[1;31m:\u001b[0m cannot assign to literal\n"
     ]
    }
   ],
   "source": [
    "'Vonnie' = 'Vonnie'"
   ]
  },
  {
   "cell_type": "code",
   "execution_count": 6,
   "id": "fffe2ca2",
   "metadata": {},
   "outputs": [
    {
     "data": {
      "text/plain": [
       "True"
      ]
     },
     "execution_count": 6,
     "metadata": {},
     "output_type": "execute_result"
    }
   ],
   "source": [
    "'Vonnie' == 'Vonnie'"
   ]
  },
  {
   "cell_type": "code",
   "execution_count": 8,
   "id": "2d9ac8c4",
   "metadata": {},
   "outputs": [
    {
     "data": {
      "text/plain": [
       "False"
      ]
     },
     "execution_count": 8,
     "metadata": {},
     "output_type": "execute_result"
    }
   ],
   "source": [
    "# Capitalization counts\n",
    "'Vonnie' == 'vonnie'"
   ]
  },
  {
   "cell_type": "code",
   "execution_count": 14,
   "id": "982d9358",
   "metadata": {},
   "outputs": [
    {
     "data": {
      "text/plain": [
       "True"
      ]
     },
     "execution_count": 14,
     "metadata": {},
     "output_type": "execute_result"
    }
   ],
   "source": [
    "# To test inequality use the excalamation point.\n",
    "# The below says, \"Is 1,337 the same thing as 9,000?\"\n",
    "1337 != 9000"
   ]
  },
  {
   "cell_type": "code",
   "execution_count": 15,
   "id": "33a0fe00",
   "metadata": {},
   "outputs": [
    {
     "data": {
      "text/plain": [
       "False"
      ]
     },
     "execution_count": 15,
     "metadata": {},
     "output_type": "execute_result"
    }
   ],
   "source": [
    "1337 != 1337"
   ]
  },
  {
   "cell_type": "code",
   "execution_count": 16,
   "id": "90dac8c9",
   "metadata": {},
   "outputs": [
    {
     "data": {
      "text/plain": [
       "True"
      ]
     },
     "execution_count": 16,
     "metadata": {},
     "output_type": "execute_result"
    }
   ],
   "source": [
    "9001 > 9000"
   ]
  },
  {
   "cell_type": "code",
   "execution_count": 17,
   "id": "225ee697",
   "metadata": {},
   "outputs": [
    {
     "data": {
      "text/plain": [
       "False"
      ]
     },
     "execution_count": 17,
     "metadata": {},
     "output_type": "execute_result"
    }
   ],
   "source": [
    "1 > 9000"
   ]
  },
  {
   "cell_type": "code",
   "execution_count": 18,
   "id": "66131ccb",
   "metadata": {},
   "outputs": [
    {
     "data": {
      "text/plain": [
       "True"
      ]
     },
     "execution_count": 18,
     "metadata": {},
     "output_type": "execute_result"
    }
   ],
   "source": [
    "1 < 1337"
   ]
  },
  {
   "cell_type": "code",
   "execution_count": 19,
   "id": "5d5c9bbf",
   "metadata": {},
   "outputs": [
    {
     "data": {
      "text/plain": [
       "False"
      ]
     },
     "execution_count": 19,
     "metadata": {},
     "output_type": "execute_result"
    }
   ],
   "source": [
    "9000 < 1337"
   ]
  },
  {
   "cell_type": "code",
   "execution_count": 20,
   "id": "0b1f3152",
   "metadata": {},
   "outputs": [
    {
     "data": {
      "text/plain": [
       "True"
      ]
     },
     "execution_count": 20,
     "metadata": {},
     "output_type": "execute_result"
    }
   ],
   "source": [
    "9000 <= 9000"
   ]
  },
  {
   "cell_type": "code",
   "execution_count": 21,
   "id": "02fbe62e",
   "metadata": {},
   "outputs": [
    {
     "data": {
      "text/plain": [
       "True"
      ]
     },
     "execution_count": 21,
     "metadata": {},
     "output_type": "execute_result"
    }
   ],
   "source": [
    "2 >= 1"
   ]
  },
  {
   "cell_type": "markdown",
   "id": "1f25f953",
   "metadata": {},
   "source": [
    "Great! So you made it through Comparison Operators!  Let's now move into chaining these comparison operators together... we're getting closer to using logic to make decisions in our programs baby! \n",
    "\n",
    "Let's do this!"
   ]
  }
 ],
 "metadata": {
  "kernelspec": {
   "display_name": "Python 3 (ipykernel)",
   "language": "python",
   "name": "python3"
  },
  "language_info": {
   "codemirror_mode": {
    "name": "ipython",
    "version": 3
   },
   "file_extension": ".py",
   "mimetype": "text/x-python",
   "name": "python",
   "nbconvert_exporter": "python",
   "pygments_lexer": "ipython3",
   "version": "3.9.7"
  }
 },
 "nbformat": 4,
 "nbformat_minor": 5
}
