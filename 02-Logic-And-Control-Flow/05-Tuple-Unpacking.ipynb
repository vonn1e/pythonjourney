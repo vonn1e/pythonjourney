{
 "cells": [
  {
   "cell_type": "markdown",
   "id": "a79dd7be",
   "metadata": {},
   "source": [
    "# Tuple Unpacking\n",
    "## It's time to get moving!\n",
    "\n",
    "Tuple Unpacking is a core concept you'll need to understand if you really want to OWN your Python career.\n",
    "\n",
    "The basic idea here is we can extract keys bits of data from a tuple while ignoring other bits of information.\n",
    "\n",
    "Let me show you what I mean"
   ]
  },
  {
   "cell_type": "code",
   "execution_count": 34,
   "id": "4fa82ab6",
   "metadata": {},
   "outputs": [],
   "source": [
    "# Let's make a basic tuple with three elements\n",
    "my_tuple = (1,2,3)"
   ]
  },
  {
   "cell_type": "code",
   "execution_count": 2,
   "id": "7e5bf0c9",
   "metadata": {},
   "outputs": [
    {
     "data": {
      "text/plain": [
       "tuple"
      ]
     },
     "execution_count": 2,
     "metadata": {},
     "output_type": "execute_result"
    }
   ],
   "source": [
    "type(my_tuple)"
   ]
  },
  {
   "cell_type": "code",
   "execution_count": 35,
   "id": "cd664065",
   "metadata": {},
   "outputs": [
    {
     "name": "stdout",
     "output_type": "stream",
     "text": [
      "1\n",
      "2\n",
      "3\n"
     ]
    }
   ],
   "source": [
    "# Now let's loop through all the elements\n",
    "for t in my_tuple:\n",
    "    print(t)"
   ]
  },
  {
   "cell_type": "code",
   "execution_count": 36,
   "id": "95edebad",
   "metadata": {},
   "outputs": [],
   "source": [
    "# So far so good right? \n",
    "# But lets say we had a list that contained a bunch of tuples like this:\n",
    "my_list_of_tuples = [(1,2),(3,4),(5,6),(7,8),(9,10)]"
   ]
  },
  {
   "cell_type": "code",
   "execution_count": 5,
   "id": "653afde8",
   "metadata": {},
   "outputs": [
    {
     "data": {
      "text/plain": [
       "list"
      ]
     },
     "execution_count": 5,
     "metadata": {},
     "output_type": "execute_result"
    }
   ],
   "source": [
    "type(my_list_of_tuples)"
   ]
  },
  {
   "cell_type": "code",
   "execution_count": 37,
   "id": "0aef13b4",
   "metadata": {},
   "outputs": [
    {
     "data": {
      "text/plain": [
       "5"
      ]
     },
     "execution_count": 37,
     "metadata": {},
     "output_type": "execute_result"
    }
   ],
   "source": [
    "# We have five items in the list and each item is itself a tuple containing a pair of elements\n",
    "len(my_list_of_tuples)"
   ]
  },
  {
   "cell_type": "code",
   "execution_count": 38,
   "id": "50b4994a",
   "metadata": {},
   "outputs": [
    {
     "name": "stdout",
     "output_type": "stream",
     "text": [
      "(1, 2)\n",
      "(3, 4)\n",
      "(5, 6)\n",
      "(7, 8)\n",
      "(9, 10)\n"
     ]
    }
   ],
   "source": [
    "# So let's print everything out\n",
    "for i in my_list_of_tuples:\n",
    "    print(i)"
   ]
  },
  {
   "cell_type": "code",
   "execution_count": 39,
   "id": "d9435616",
   "metadata": {},
   "outputs": [
    {
     "name": "stdout",
     "output_type": "stream",
     "text": [
      "1\n",
      "2\n",
      "3\n",
      "4\n",
      "5\n",
      "6\n",
      "7\n",
      "8\n",
      "9\n",
      "10\n"
     ]
    }
   ],
   "source": [
    "# This is fine and sort of expected but what if we just wanted one column?\n",
    "# We can define two placeholder variable names just to hold the places for the left column and the right column\n",
    "for h,i in my_list_of_tuples:\n",
    "    print(h)\n",
    "    print(i)"
   ]
  },
  {
   "cell_type": "code",
   "execution_count": 9,
   "id": "5715eed4",
   "metadata": {},
   "outputs": [
    {
     "data": {
      "text/plain": [
       "[(1, 2), (3, 4), (5, 6), (7, 8), (9, 10)]"
      ]
     },
     "execution_count": 9,
     "metadata": {},
     "output_type": "execute_result"
    }
   ],
   "source": [
    "my_list_of_tuples"
   ]
  },
  {
   "cell_type": "code",
   "execution_count": 40,
   "id": "cfd18c94",
   "metadata": {},
   "outputs": [
    {
     "name": "stdout",
     "output_type": "stream",
     "text": [
      "2\n",
      "4\n",
      "6\n",
      "8\n",
      "10\n"
     ]
    }
   ],
   "source": [
    "# This gives us the flexibility to extract key columns from the list of tuples\n",
    "for k,v in my_list_of_tuples:\n",
    "    print(v)"
   ]
  },
  {
   "cell_type": "code",
   "execution_count": 12,
   "id": "19591c5a",
   "metadata": {},
   "outputs": [],
   "source": [
    "my_bigger_list_of_tuples = [(1,2,3,4),(5,6,7,8),(7,8,9,10),(11,12,13,14)]"
   ]
  },
  {
   "cell_type": "code",
   "execution_count": 13,
   "id": "9dc1c0a1",
   "metadata": {},
   "outputs": [
    {
     "data": {
      "text/plain": [
       "4"
      ]
     },
     "execution_count": 13,
     "metadata": {},
     "output_type": "execute_result"
    }
   ],
   "source": [
    "len(my_bigger_list_of_tuples)"
   ]
  },
  {
   "cell_type": "code",
   "execution_count": 14,
   "id": "4a609996",
   "metadata": {},
   "outputs": [
    {
     "name": "stdout",
     "output_type": "stream",
     "text": [
      "(1, 2, 3, 4)\n",
      "(5, 6, 7, 8)\n",
      "(7, 8, 9, 10)\n",
      "(11, 12, 13, 14)\n"
     ]
    }
   ],
   "source": [
    "for that_thing in my_bigger_list_of_tuples:\n",
    "    print(that_thing)"
   ]
  },
  {
   "cell_type": "code",
   "execution_count": 41,
   "id": "943f2320",
   "metadata": {},
   "outputs": [
    {
     "name": "stdout",
     "output_type": "stream",
     "text": [
      "3\n",
      "7\n",
      "9\n",
      "13\n"
     ]
    }
   ],
   "source": [
    "# For example, if I just wanted to extract the third column from these tuples \n",
    "# I could create a placeholder variable for each columnand then only print the desired column\n",
    "for index,key,value,code in my_bigger_list_of_tuples:\n",
    "    print(value)"
   ]
  },
  {
   "cell_type": "code",
   "execution_count": 42,
   "id": "df7c8b1e",
   "metadata": {},
   "outputs": [],
   "source": [
    "# This can really come in handy with dictionaries\n",
    "my_dictionary = {'key1':1,'key3':2,'key2':3}"
   ]
  },
  {
   "cell_type": "code",
   "execution_count": 29,
   "id": "eaabd633",
   "metadata": {},
   "outputs": [
    {
     "data": {
      "text/plain": [
       "dict"
      ]
     },
     "execution_count": 29,
     "metadata": {},
     "output_type": "execute_result"
    }
   ],
   "source": [
    "type(my_dictionary)"
   ]
  },
  {
   "cell_type": "code",
   "execution_count": 43,
   "id": "2198a136",
   "metadata": {},
   "outputs": [
    {
     "name": "stdout",
     "output_type": "stream",
     "text": [
      "key1\n",
      "key3\n",
      "key2\n"
     ]
    }
   ],
   "source": [
    "# Notice when you loop through a dictionary it only shows the key names by default\n",
    "for item in my_dictionary:\n",
    "    print(item)"
   ]
  },
  {
   "cell_type": "code",
   "execution_count": 44,
   "id": "8ebf2848",
   "metadata": {},
   "outputs": [
    {
     "name": "stdout",
     "output_type": "stream",
     "text": [
      "('key1', 1)\n",
      "('key3', 2)\n",
      "('key2', 3)\n"
     ]
    }
   ],
   "source": [
    "# To see the key and value pairs you need to use the .items() method\n",
    "for item in my_dictionary.items():\n",
    "    print(item)"
   ]
  },
  {
   "cell_type": "code",
   "execution_count": 45,
   "id": "dde5cd09",
   "metadata": {},
   "outputs": [
    {
     "name": "stdout",
     "output_type": "stream",
     "text": [
      "1\n",
      "2\n",
      "3\n"
     ]
    }
   ],
   "source": [
    "# Or if you just want to pull out the values you can use tuple unpacking\n",
    "# We just create placeholder variables for each column and then print out the desired column\n",
    "for key,value in my_dictionary.items():\n",
    "    print(value)"
   ]
  },
  {
   "cell_type": "code",
   "execution_count": 33,
   "id": "dc806b1b",
   "metadata": {},
   "outputs": [
    {
     "name": "stdout",
     "output_type": "stream",
     "text": [
      "1\n",
      "2\n",
      "3\n"
     ]
    }
   ],
   "source": [
    "for v in my_dictionary.values():\n",
    "    print(v)"
   ]
  },
  {
   "cell_type": "markdown",
   "id": "d58ad18c",
   "metadata": {},
   "source": [
    "Nice! Are you starting to get this!? Just keep playing with the code and it will start to \"feel\" right.  It really just takes practice.  It didn't feel right to me until I just kept playing with it over and over and over... \n",
    "\n",
    "Anyway! In the next lecture we're jumping into While Loops so let's go! \n",
    "\n",
    "See you there"
   ]
  }
 ],
 "metadata": {
  "kernelspec": {
   "display_name": "Python 3 (ipykernel)",
   "language": "python",
   "name": "python3"
  },
  "language_info": {
   "codemirror_mode": {
    "name": "ipython",
    "version": 3
   },
   "file_extension": ".py",
   "mimetype": "text/x-python",
   "name": "python",
   "nbconvert_exporter": "python",
   "pygments_lexer": "ipython3",
   "version": "3.9.7"
  }
 },
 "nbformat": 4,
 "nbformat_minor": 5
}
