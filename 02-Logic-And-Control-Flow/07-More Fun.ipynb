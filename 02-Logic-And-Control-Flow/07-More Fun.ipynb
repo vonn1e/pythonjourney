{
 "cells": [
  {
   "cell_type": "markdown",
   "id": "3f0535f2",
   "metadata": {},
   "source": [
    "# More Fun\n",
    "## Just a few more odds and ends to round out this section\n",
    "\n",
    "So I wanted to get into a few more functions that are very useful so you should know.  We have an entire section devoted to functions later so don't fret too much.\n",
    "\n",
    "## In this lession you will learn:\n",
    "1. How to get user input\n",
    "2. How to use the range() method\n",
    "3. Why the enumerate() function is pretty useful\n",
    "4. All about zip()\n",
    "5. Fun with not in and in\n",
    "6. Fun with max and min\n",
    "7. Fun with random integers\n",
    "\n",
    "## How to get user input"
   ]
  },
  {
   "cell_type": "code",
   "execution_count": 65,
   "id": "8786a59c",
   "metadata": {},
   "outputs": [
    {
     "name": "stdout",
     "output_type": "stream",
     "text": [
      "Enter a number here: 10\n"
     ]
    },
    {
     "data": {
      "text/plain": [
       "'10'"
      ]
     },
     "execution_count": 65,
     "metadata": {},
     "output_type": "execute_result"
    }
   ],
   "source": [
    "# Let's say you want to get input from the user.  You can use input() for that\n",
    "input('Enter a number here: ')"
   ]
  },
  {
   "cell_type": "code",
   "execution_count": 66,
   "id": "50f43a20",
   "metadata": {},
   "outputs": [
    {
     "name": "stdout",
     "output_type": "stream",
     "text": [
      "Enter a number here: 10\n"
     ]
    }
   ],
   "source": [
    "# Just keep in mind it accepts anything we input as a string \n",
    "result = input('Enter a number here: ')"
   ]
  },
  {
   "cell_type": "code",
   "execution_count": 67,
   "id": "bfa0e954",
   "metadata": {},
   "outputs": [
    {
     "data": {
      "text/plain": [
       "'10'"
      ]
     },
     "execution_count": 67,
     "metadata": {},
     "output_type": "execute_result"
    }
   ],
   "source": [
    "result"
   ]
  },
  {
   "cell_type": "code",
   "execution_count": 68,
   "id": "bbbb708c",
   "metadata": {},
   "outputs": [
    {
     "data": {
      "text/plain": [
       "str"
      ]
     },
     "execution_count": 68,
     "metadata": {},
     "output_type": "execute_result"
    }
   ],
   "source": [
    "# See it's a string\n",
    "type(result)"
   ]
  },
  {
   "cell_type": "code",
   "execution_count": 69,
   "id": "b0df2231",
   "metadata": {},
   "outputs": [
    {
     "data": {
      "text/plain": [
       "10"
      ]
     },
     "execution_count": 69,
     "metadata": {},
     "output_type": "execute_result"
    }
   ],
   "source": [
    "# We can typecast to an integer\n",
    "int(result)"
   ]
  },
  {
   "cell_type": "code",
   "execution_count": 70,
   "id": "945b2169",
   "metadata": {},
   "outputs": [
    {
     "name": "stdout",
     "output_type": "stream",
     "text": [
      "Enter a number here: 10\n"
     ]
    }
   ],
   "source": [
    "# Or just wrap the input() in an int to force the string to be an integer\n",
    "result = int(input('Enter a number here: '))"
   ]
  },
  {
   "cell_type": "code",
   "execution_count": 71,
   "id": "713b6ccf",
   "metadata": {
    "scrolled": true
   },
   "outputs": [
    {
     "data": {
      "text/plain": [
       "int"
      ]
     },
     "execution_count": 71,
     "metadata": {},
     "output_type": "execute_result"
    }
   ],
   "source": [
    "type(result)"
   ]
  },
  {
   "cell_type": "markdown",
   "id": "96f02c88",
   "metadata": {},
   "source": [
    "## How to use the range() method"
   ]
  },
  {
   "cell_type": "code",
   "execution_count": 77,
   "id": "7ccadc7d",
   "metadata": {},
   "outputs": [
    {
     "data": {
      "text/plain": [
       "range(0, 10)"
      ]
     },
     "execution_count": 77,
     "metadata": {},
     "output_type": "execute_result"
    }
   ],
   "source": [
    "# Let's talk about ranges now.  Think about these like slicing strings.\n",
    "# We have a start:stop:step.  You can press Shift + Tab to see the parameters\n",
    "# To simply print out a range of numbers:\n",
    "range(10)"
   ]
  },
  {
   "cell_type": "code",
   "execution_count": 79,
   "id": "b5fa5a19",
   "metadata": {},
   "outputs": [
    {
     "data": {
      "text/plain": [
       "range"
      ]
     },
     "execution_count": 79,
     "metadata": {},
     "output_type": "execute_result"
    }
   ],
   "source": [
    "# Wait what happened, where's our list of numbers?\n",
    "type(range(0,10))"
   ]
  },
  {
   "cell_type": "code",
   "execution_count": 80,
   "id": "c8439fa1",
   "metadata": {},
   "outputs": [
    {
     "data": {
      "text/plain": [
       "[0, 1, 2, 3, 4, 5, 6, 7, 8, 9]"
      ]
     },
     "execution_count": 80,
     "metadata": {},
     "output_type": "execute_result"
    }
   ],
   "source": [
    "# We can cast it to a list\n",
    "list(range(0,10))"
   ]
  },
  {
   "cell_type": "code",
   "execution_count": 81,
   "id": "f200e085",
   "metadata": {},
   "outputs": [
    {
     "name": "stdout",
     "output_type": "stream",
     "text": [
      "0\n",
      "1\n",
      "2\n",
      "3\n",
      "4\n",
      "5\n",
      "6\n",
      "7\n",
      "8\n",
      "9\n"
     ]
    }
   ],
   "source": [
    "# Or pass it in as the iterator in a for loop\n",
    "for num in range(10):\n",
    "    print(num)"
   ]
  },
  {
   "cell_type": "code",
   "execution_count": 82,
   "id": "ec36be0c",
   "metadata": {},
   "outputs": [
    {
     "name": "stdout",
     "output_type": "stream",
     "text": [
      "1\n",
      "2\n",
      "3\n",
      "4\n",
      "5\n",
      "6\n",
      "7\n",
      "8\n",
      "9\n"
     ]
    }
   ],
   "source": [
    "# Just like strings you can specify the START,STOP indexes...\n",
    "# Just remember it stops one value before the STOP index\n",
    "for num in range(1,10):\n",
    "    print(num)"
   ]
  },
  {
   "cell_type": "code",
   "execution_count": 83,
   "id": "8e5aca41",
   "metadata": {},
   "outputs": [
    {
     "name": "stdout",
     "output_type": "stream",
     "text": [
      "0\n",
      "2\n",
      "4\n",
      "6\n",
      "8\n",
      "10\n"
     ]
    }
   ],
   "source": [
    "# We can print out the 10 and jump by a step of 2 to only get evens\n",
    "for num in range(0,11,2):\n",
    "    print(num)"
   ]
  },
  {
   "cell_type": "code",
   "execution_count": 8,
   "id": "6bc1bc1a",
   "metadata": {},
   "outputs": [
    {
     "data": {
      "text/plain": [
       "range(0, 11, 2)"
      ]
     },
     "execution_count": 8,
     "metadata": {},
     "output_type": "execute_result"
    }
   ],
   "source": [
    "# Range is a generator so instead of saving it to memory it just generates the output more efficiently.  \n",
    "# so cast it to a list to get a list of nums\n",
    "range(0,11,2)"
   ]
  },
  {
   "cell_type": "code",
   "execution_count": 10,
   "id": "aac0de20",
   "metadata": {},
   "outputs": [
    {
     "data": {
      "text/plain": [
       "[0, 2, 4, 6, 8, 10]"
      ]
     },
     "execution_count": 10,
     "metadata": {},
     "output_type": "execute_result"
    }
   ],
   "source": [
    "# more efficient\n",
    "list(range(0, 11, 2))"
   ]
  },
  {
   "cell_type": "markdown",
   "id": "4b075352",
   "metadata": {},
   "source": [
    "## Why the enumerate() function is pretty useful"
   ]
  },
  {
   "cell_type": "code",
   "execution_count": 86,
   "id": "532339b4",
   "metadata": {},
   "outputs": [
    {
     "name": "stdout",
     "output_type": "stream",
     "text": [
      "a\n",
      "b\n",
      "c\n"
     ]
    }
   ],
   "source": [
    "# Now let's talk about enumerate\n",
    "# This is a great way to get a counter and value from an iterable object..\n",
    "# Without having to actually create and keep track of the counter\n",
    "my_list = ['a','b','c']\n",
    "for item in my_list:\n",
    "    print(item)"
   ]
  },
  {
   "cell_type": "code",
   "execution_count": 89,
   "id": "6f08216e",
   "metadata": {},
   "outputs": [
    {
     "name": "stdout",
     "output_type": "stream",
     "text": [
      "0 a\n",
      "1 b\n",
      "2 c\n"
     ]
    }
   ],
   "source": [
    "# okay this is collection based iteration which means Python will \n",
    "# automatically assign the next item from my_list to the \"item\" variable\n",
    "# but lets say you actually wanted to print the index of the item in the list\n",
    "# on each iteration\n",
    "index = 0\n",
    "my_list = ['a','b','c']\n",
    "for item in my_list:\n",
    "    print(index,item)\n",
    "    index +=1 # gotta update index on each iteration, easy to forget"
   ]
  },
  {
   "cell_type": "code",
   "execution_count": 92,
   "id": "880c89cf",
   "metadata": {},
   "outputs": [
    {
     "name": "stdout",
     "output_type": "stream",
     "text": [
      "(0, 'a')\n",
      "(1, 'b')\n",
      "(2, 'c')\n"
     ]
    }
   ],
   "source": [
    "# to solve these issues we can use enumerate\n",
    "# now we iterate and get the index for free in a packed tuple!\n",
    "my_list = ['a','b','c']\n",
    "for item in enumerate(my_list):\n",
    "    print(item)"
   ]
  },
  {
   "cell_type": "code",
   "execution_count": 96,
   "id": "98e5d50e",
   "metadata": {},
   "outputs": [
    {
     "name": "stdout",
     "output_type": "stream",
     "text": [
      "0\n",
      "1\n",
      "2\n"
     ]
    }
   ],
   "source": [
    "# So it's super easy to pull out what you want with tuple unpacking\n",
    "# For example I can easily just get the indexes\n",
    "my_list = ['a','b','c']\n",
    "for i,item in enumerate(my_list):\n",
    "    print(i)"
   ]
  },
  {
   "cell_type": "markdown",
   "id": "c76e922e",
   "metadata": {},
   "source": [
    "## All about zip( )"
   ]
  },
  {
   "cell_type": "code",
   "execution_count": 101,
   "id": "655a0ad7",
   "metadata": {},
   "outputs": [],
   "source": [
    "# Let's also talk about zip\n",
    "my_list_1 = [1,2,3]\n",
    "my_list_2 = ['a','b','c']\n",
    "my_list_3 = [9000,9001,9002]"
   ]
  },
  {
   "cell_type": "code",
   "execution_count": 102,
   "id": "da103250",
   "metadata": {},
   "outputs": [
    {
     "data": {
      "text/plain": [
       "<zip at 0x2d723bbf600>"
      ]
     },
     "execution_count": 102,
     "metadata": {},
     "output_type": "execute_result"
    }
   ],
   "source": [
    "# zip... zips up multiple lists aligning the columns so they match\n",
    "# if you have uneven columns it just takes the shortest one\n",
    "# running it by itself only reveals a memory location... not useful\n",
    "zip(my_list_1,my_list_2)"
   ]
  },
  {
   "cell_type": "code",
   "execution_count": 103,
   "id": "d5f6d53b",
   "metadata": {},
   "outputs": [
    {
     "name": "stdout",
     "output_type": "stream",
     "text": [
      "(1, 'a', 9000)\n",
      "(2, 'b', 9001)\n",
      "(3, 'c', 9002)\n"
     ]
    }
   ],
   "source": [
    "# but in a loop... ahhhh!\n",
    "\n",
    "for item in zip(my_list_1,my_list_2,my_list_3):\n",
    "    print(item)"
   ]
  },
  {
   "cell_type": "code",
   "execution_count": 105,
   "id": "814ba35e",
   "metadata": {},
   "outputs": [
    {
     "data": {
      "text/plain": [
       "[(1, 'a'), (2, 'b'), (3, 'c')]"
      ]
     },
     "execution_count": 105,
     "metadata": {},
     "output_type": "execute_result"
    }
   ],
   "source": [
    "# or cast to a list... nice\n",
    "list(zip(my_list_1,my_list_2))"
   ]
  },
  {
   "cell_type": "code",
   "execution_count": 107,
   "id": "63cc9757",
   "metadata": {},
   "outputs": [
    {
     "name": "stdout",
     "output_type": "stream",
     "text": [
      "9000\n",
      "9001\n",
      "9002\n"
     ]
    }
   ],
   "source": [
    "# and then we can just do tuple unpacking to get what we want\n",
    "for a,b,c in zip(my_list_1,my_list_2,my_list_3):\n",
    "    print(c)"
   ]
  },
  {
   "cell_type": "code",
   "execution_count": 110,
   "id": "b0cad4b5",
   "metadata": {},
   "outputs": [
    {
     "name": "stdout",
     "output_type": "stream",
     "text": [
      "1 a 9000\n",
      "2 b 9001\n",
      "3 c 9002\n"
     ]
    }
   ],
   "source": [
    "# if the items don't pair up or match it just zips up until the shortest list\n",
    "my_list_1 = [1,2,3]\n",
    "my_list_2 = ['a','b','c']\n",
    "my_list_3 = [9000,9001,9002,9003,9004,9005,9006,9007,9009,9010]\n",
    "\n",
    "for a,b,c in zip(my_list_1,my_list_2,my_list_3):\n",
    "    print(a,b,c)"
   ]
  },
  {
   "cell_type": "markdown",
   "id": "f63de014",
   "metadata": {},
   "source": [
    "## Fun with not in and in"
   ]
  },
  {
   "cell_type": "code",
   "execution_count": 113,
   "id": "ba06448c",
   "metadata": {},
   "outputs": [
    {
     "data": {
      "text/plain": [
       "True"
      ]
     },
     "execution_count": 113,
     "metadata": {},
     "output_type": "execute_result"
    }
   ],
   "source": [
    "# So let's look at the IN and NOT IN operators\n",
    "# we've already seen this operator with for loops but I want you to see \n",
    "# you can use it by itself too!\n",
    "# Is the character \"i\" in the word 'sin'?\n",
    "'i' in 'sin'"
   ]
  },
  {
   "cell_type": "code",
   "execution_count": 114,
   "id": "53cae944",
   "metadata": {},
   "outputs": [
    {
     "data": {
      "text/plain": [
       "False"
      ]
     },
     "execution_count": 114,
     "metadata": {},
     "output_type": "execute_result"
    }
   ],
   "source": [
    "# Is zero in this long list of numbers?\n",
    "'0' in [1,2,5,2,3,4,6,8,4,3,2,3,4,5,6,7,2,3,1,2]"
   ]
  },
  {
   "cell_type": "code",
   "execution_count": 116,
   "id": "e84b467a",
   "metadata": {},
   "outputs": [
    {
     "data": {
      "text/plain": [
       "False"
      ]
     },
     "execution_count": 116,
     "metadata": {},
     "output_type": "execute_result"
    }
   ],
   "source": [
    "# and you can flip things up with the not operator with in\n",
    "not 'u' in 'i love you'"
   ]
  },
  {
   "cell_type": "code",
   "execution_count": 117,
   "id": "5cce607f",
   "metadata": {},
   "outputs": [
    {
     "data": {
      "text/plain": [
       "True"
      ]
     },
     "execution_count": 117,
     "metadata": {},
     "output_type": "execute_result"
    }
   ],
   "source": [
    "# also works for dictionaries\n",
    "'k1' in {'k1':1,'k2':2,'k3':3}"
   ]
  },
  {
   "cell_type": "code",
   "execution_count": 125,
   "id": "741d1370",
   "metadata": {},
   "outputs": [
    {
     "data": {
      "text/plain": [
       "True"
      ]
     },
     "execution_count": 125,
     "metadata": {},
     "output_type": "execute_result"
    }
   ],
   "source": [
    "my_dictionary = {'k1':1,'k2':2,'k3':3}\n",
    "2 in my_dictionary.values()"
   ]
  },
  {
   "cell_type": "markdown",
   "id": "f56a5c48",
   "metadata": {},
   "source": [
    "## Fun with max and min"
   ]
  },
  {
   "cell_type": "code",
   "execution_count": 128,
   "id": "350e8012",
   "metadata": {},
   "outputs": [],
   "source": [
    "# We also have min and max\n",
    "my_list = [1337,1338,1339]"
   ]
  },
  {
   "cell_type": "code",
   "execution_count": 129,
   "id": "30899b99",
   "metadata": {},
   "outputs": [
    {
     "data": {
      "text/plain": [
       "1337"
      ]
     },
     "execution_count": 129,
     "metadata": {},
     "output_type": "execute_result"
    }
   ],
   "source": [
    "min(my_list)"
   ]
  },
  {
   "cell_type": "code",
   "execution_count": 130,
   "id": "639e0c8d",
   "metadata": {},
   "outputs": [
    {
     "data": {
      "text/plain": [
       "1339"
      ]
     },
     "execution_count": 130,
     "metadata": {},
     "output_type": "execute_result"
    }
   ],
   "source": [
    "max(my_list)"
   ]
  },
  {
   "cell_type": "markdown",
   "id": "7759634e",
   "metadata": {},
   "source": [
    "## Fun with random"
   ]
  },
  {
   "cell_type": "code",
   "execution_count": 131,
   "id": "fcdb9e61",
   "metadata": {},
   "outputs": [],
   "source": [
    "from random import shuffle"
   ]
  },
  {
   "cell_type": "code",
   "execution_count": 132,
   "id": "486502c4",
   "metadata": {},
   "outputs": [],
   "source": [
    "my_list = [1,2,3,4,5,6,7,8,9,10]"
   ]
  },
  {
   "cell_type": "code",
   "execution_count": 133,
   "id": "05919c2d",
   "metadata": {},
   "outputs": [
    {
     "data": {
      "text/plain": [
       "[1, 2, 3, 4, 5, 6, 7, 8, 9, 10]"
      ]
     },
     "execution_count": 133,
     "metadata": {},
     "output_type": "execute_result"
    }
   ],
   "source": [
    "my_list"
   ]
  },
  {
   "cell_type": "code",
   "execution_count": 134,
   "id": "c0737475",
   "metadata": {},
   "outputs": [],
   "source": [
    "# In place shuffle\n",
    "shuffle(my_list)"
   ]
  },
  {
   "cell_type": "code",
   "execution_count": 135,
   "id": "703fe713",
   "metadata": {},
   "outputs": [
    {
     "data": {
      "text/plain": [
       "[6, 10, 9, 4, 5, 1, 3, 2, 7, 8]"
      ]
     },
     "execution_count": 135,
     "metadata": {},
     "output_type": "execute_result"
    }
   ],
   "source": [
    "my_list"
   ]
  },
  {
   "cell_type": "code",
   "execution_count": 45,
   "id": "42fd2f80",
   "metadata": {},
   "outputs": [],
   "source": [
    "from random import randint"
   ]
  },
  {
   "cell_type": "code",
   "execution_count": 46,
   "id": "2571ecf3",
   "metadata": {},
   "outputs": [
    {
     "data": {
      "text/plain": [
       "100"
      ]
     },
     "execution_count": 46,
     "metadata": {},
     "output_type": "execute_result"
    }
   ],
   "source": [
    "randint(0,100)"
   ]
  },
  {
   "cell_type": "code",
   "execution_count": 47,
   "id": "00e8af7f",
   "metadata": {},
   "outputs": [
    {
     "data": {
      "text/plain": [
       "0"
      ]
     },
     "execution_count": 47,
     "metadata": {},
     "output_type": "execute_result"
    }
   ],
   "source": [
    "randint(0,100)"
   ]
  },
  {
   "cell_type": "code",
   "execution_count": 48,
   "id": "113a6600",
   "metadata": {},
   "outputs": [
    {
     "data": {
      "text/plain": [
       "99"
      ]
     },
     "execution_count": 48,
     "metadata": {},
     "output_type": "execute_result"
    }
   ],
   "source": [
    "randint(0,100)"
   ]
  },
  {
   "cell_type": "code",
   "execution_count": 49,
   "id": "34dee5ee",
   "metadata": {},
   "outputs": [
    {
     "data": {
      "text/plain": [
       "95"
      ]
     },
     "execution_count": 49,
     "metadata": {},
     "output_type": "execute_result"
    }
   ],
   "source": [
    "randint(0,100)"
   ]
  },
  {
   "cell_type": "code",
   "execution_count": 50,
   "id": "696ac2c7",
   "metadata": {},
   "outputs": [],
   "source": [
    "my_num =randint(0,10)"
   ]
  },
  {
   "cell_type": "code",
   "execution_count": 51,
   "id": "cf9f043d",
   "metadata": {},
   "outputs": [
    {
     "data": {
      "text/plain": [
       "8"
      ]
     },
     "execution_count": 51,
     "metadata": {},
     "output_type": "execute_result"
    }
   ],
   "source": [
    "my_num"
   ]
  },
  {
   "cell_type": "code",
   "execution_count": 52,
   "id": "0bd9b130",
   "metadata": {},
   "outputs": [
    {
     "data": {
      "text/plain": [
       "8"
      ]
     },
     "execution_count": 52,
     "metadata": {},
     "output_type": "execute_result"
    }
   ],
   "source": [
    "my_num"
   ]
  },
  {
   "cell_type": "markdown",
   "id": "6e29a5e5",
   "metadata": {},
   "source": [
    "Alright, I know that was a lot but hopefully it wasn't too bad!  In the next lecture we'll get into list comprehensions to round things out - let's go!"
   ]
  }
 ],
 "metadata": {
  "kernelspec": {
   "display_name": "Python 3 (ipykernel)",
   "language": "python",
   "name": "python3"
  },
  "language_info": {
   "codemirror_mode": {
    "name": "ipython",
    "version": 3
   },
   "file_extension": ".py",
   "mimetype": "text/x-python",
   "name": "python",
   "nbconvert_exporter": "python",
   "pygments_lexer": "ipython3",
   "version": "3.9.7"
  }
 },
 "nbformat": 4,
 "nbformat_minor": 5
}
